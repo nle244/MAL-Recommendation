{
 "cells": [
  {
   "cell_type": "code",
   "execution_count": 128,
   "metadata": {},
   "outputs": [
    {
     "name": "stderr",
     "output_type": "stream",
     "text": [
      "100%|██████████| 9028/9028 [13:09<00:00, 11.43it/s]\n"
     ]
    },
    {
     "data": {
      "text/plain": [
       "0.8660714285714286"
      ]
     },
     "execution_count": 128,
     "metadata": {},
     "output_type": "execute_result"
    }
   ],
   "source": [
    "import pandas as pd\n",
    "from tqdm import tqdm\n",
    "from sklearn.ensemble import AdaBoostClassifier\n",
    "from sklearn.model_selection import train_test_split\n",
    "from sklearn import preprocessing\n",
    "\n",
    "\n",
    "new = pd.DataFrame()\n",
    "df_predictions = pd.DataFrame\n",
    "\n",
    "df_accuracy = pd.read_csv('top_and_bottom_anime.csv')\n",
    "df_accuracy = df_accuracy.drop(columns='Id')\n",
    "df_accuracy = df_accuracy.drop(columns='Rating')\n",
    "\n",
    "\n",
    "le = preprocessing.LabelEncoder()\n",
    "for i in range(df_accuracy.shape[1]):\n",
    "    temp = df_accuracy.iloc[:,i].values.tolist()\n",
    "    temp = le.fit_transform(temp)\n",
    "    new[df_accuracy.columns[i]] = temp\n",
    "\n",
    "df_true = pd.read_csv('anime_matrix_true.csv')\n",
    "df_predictions = df_true[['Id']].copy()\n",
    "df_true = df_true.drop(columns='Id')\n",
    "\n",
    "columns = df_true.columns\n",
    "predictions = []\n",
    "x = new\n",
    "y = df_true[columns[1]]\n",
    "x_train,x_test,y_train,y_test = train_test_split(x,y,test_size=0.2, random_state=42)\n",
    "for i in tqdm(range(len(columns))):\n",
    "    y = df_true[columns[i]]\n",
    "    x_train,x_test,y_train,y_test = train_test_split(x,y,test_size=0.2, random_state=42)\n",
    "    adaboost = AdaBoostClassifier(n_estimators=100, random_state=42)\n",
    "    adaboost.fit(x_train,y_train)\n",
    "    result = adaboost.score(x_test,y_test)\n",
    "    predictions.append(list(y_test))\n",
    "\n",
    "result\n"
   ]
  },
  {
   "cell_type": "code",
   "execution_count": 133,
   "metadata": {},
   "outputs": [
    {
     "name": "stderr",
     "output_type": "stream",
     "text": [
      "100%|██████████| 9028/9028 [00:04<00:00, 2022.38it/s]\n"
     ]
    }
   ],
   "source": [
    "import warnings\n",
    "\n",
    "cut_off = (len(df_predictions)) - (len(y_test))\n",
    "df_predictions.drop(df_predictions.tail(cut_off).index,inplace=True)\n",
    "warnings.simplefilter(action='ignore', category=pd.errors.PerformanceWarning)\n",
    "df_predictions = pd.DataFrame()\n",
    "for i in tqdm(range(len(columns))):\n",
    "    df_predictions[columns[i]] = predictions[i]"
   ]
  },
  {
   "cell_type": "code",
   "execution_count": 130,
   "metadata": {},
   "outputs": [],
   "source": [
    "import pickle\n",
    "\n",
    "# open a file, where you ant to store the data\n",
    "file = open('adaboost.model', 'wb')\n",
    "\n",
    "# dump information to that file\n",
    "pickle.dump(adaboost, file)\n",
    "\n",
    "# close the file\n",
    "file.close()"
   ]
  },
  {
   "cell_type": "code",
   "execution_count": 131,
   "metadata": {},
   "outputs": [],
   "source": [
    "outputdf = df_predictions.copy()\n",
    "outputdf.to_csv(f'predictions_matrix_adaboost.csv', index=False)"
   ]
  }
 ],
 "metadata": {
  "kernelspec": {
   "display_name": "Python 3.10.8 64-bit (microsoft store)",
   "language": "python",
   "name": "python3"
  },
  "language_info": {
   "codemirror_mode": {
    "name": "ipython",
    "version": 3
   },
   "file_extension": ".py",
   "mimetype": "text/x-python",
   "name": "python",
   "nbconvert_exporter": "python",
   "pygments_lexer": "ipython3",
   "version": "3.10.8"
  },
  "orig_nbformat": 4,
  "vscode": {
   "interpreter": {
    "hash": "8fc903fd1a35692d96a4695a6c4f7b57bb80f609b0147f9dc1e34250c7f2a3f2"
   }
  }
 },
 "nbformat": 4,
 "nbformat_minor": 2
}
