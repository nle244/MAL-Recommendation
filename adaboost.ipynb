{
 "cells": [
  {
   "cell_type": "code",
   "execution_count": 4,
   "metadata": {},
   "outputs": [],
   "source": [
    "import pandas as pd\n",
    "import numpy\n",
    "from tqdm import tqdm\n",
    "from sklearn.ensemble import AdaBoostClassifier\n",
    "from sklearn.model_selection import train_test_split\n",
    "from sklearn import preprocessing\n",
    "\n",
    "df_anime = pd.read_csv('top_and_bottom_anime.csv')\n",
    "df_anime = df_anime.drop(columns='Id')\n",
    "df_anime = df_anime.drop(columns='Rating')\n",
    "df_anime = df_anime.drop(columns='Demographic')\n",
    "df_anime = df_anime.drop(columns='VAs')\n",
    "\n",
    "new = pd.DataFrame()\n",
    "le = preprocessing.LabelEncoder()\n",
    "for i in range(df_anime.shape[1]):\n",
    "    temp = df_anime.iloc[:,i].values.tolist()\n",
    "    temp = le.fit_transform(temp)\n",
    "    new[df_anime.columns[i]] = temp\n",
    "\n",
    "df_anime_y = pd.read_csv('anime_matrix_true.csv')\n",
    "rows = df_anime_y[['Id']].copy()\n"
   ]
  },
  {
   "cell_type": "code",
   "execution_count": 5,
   "metadata": {},
   "outputs": [],
   "source": [
    "#this sets up df_predictions with the same rows as this train/test split\n",
    "x = new\n",
    "y = rows\n",
    "x_train,x_test,y_train,y_test = train_test_split(x,y,test_size=0.2, random_state=42)\n",
    "\n",
    "#create cross training split for building the models\n",
    "X_cross_train, X_cross_test, y_cross_train, y_cross_test = train_test_split(x_train, y_train, test_size=0.2, random_state=420)\n",
    "df_predictions = y_cross_test.copy()"
   ]
  },
  {
   "cell_type": "code",
   "execution_count": 6,
   "metadata": {},
   "outputs": [],
   "source": [
    "#Same spits are performed again to create df_true to check accuracy \n",
    "#create main split for training and testing\n",
    "from sklearn.model_selection import train_test_split\n",
    "A_train, A_test, b_train, b_test = train_test_split(df_anime_y, df_anime_y, test_size=0.2, random_state=42)\n",
    "\n",
    "#create cross training split for building the models\n",
    "A_cross_train, A_cross_test, b_cross_train, b_cross_test = train_test_split(A_train, b_train, test_size=0.2, random_state=420)\n",
    "\n",
    "df_true = A_cross_test.copy()"
   ]
  },
  {
   "cell_type": "code",
   "execution_count": 15,
   "metadata": {},
   "outputs": [
    {
     "name": "stderr",
     "output_type": "stream",
     "text": [
      "100%|██████████| 9028/9028 [03:51<00:00, 38.94it/s]\n"
     ]
    }
   ],
   "source": [
    "columns = df_anime_y.columns\n",
    "predictions = []\n",
    "\n",
    "avg = []\n",
    "for i in tqdm(range(1,len(columns))):   #skip first item b/c it's anime Id\n",
    "    x = new\n",
    "    y = df_anime_y[columns[i]]\n",
    "    x_train,x_test,y_train,y_test = train_test_split(x,y,test_size=0.2, random_state=42)\n",
    "    \n",
    "    #create cross training split for building the models\n",
    "    X_cross_train, X_cross_test, y_cross_train, y_cross_test = train_test_split(x_train, y_train, test_size=0.2, random_state=420)\n",
    "\n",
    "    adaboost = AdaBoostClassifier(n_estimators=25, random_state=42)\n",
    "    adaboost.fit(X_cross_train,y_cross_train)\n",
    "    avg.append(adaboost.score(X_cross_test,y_cross_test))\n",
    "    predictions.append(list(adaboost.predict(X_cross_test)))\n",
    "\n",
    "# result"
   ]
  },
  {
   "cell_type": "code",
   "execution_count": null,
   "metadata": {},
   "outputs": [
    {
     "data": {
      "image/png": "[encoded data removed]",
      "text/plain": [
       "<Figure size 640x480 with 1 Axes>"
      ]
     },
     "metadata": {},
     "output_type": "display_data"
    }
   ],
   "source": [
    "from sklearn import metrics\n",
    "import matplotlib.pyplot as plt\n",
    "#define metrics\n",
    "\n",
    "y_pred_proba = adaboost.predict(x_test)\n",
    "fpr, tpr, _ = metrics.roc_curve(y_test,  y_pred_proba)\n",
    "\n",
    "#create ROC curve\n",
    "plt.plot([0,0.06666667,1],[0,0.27272727,1])\n",
    "plt.ylabel('True Positive Rate')\n",
    "plt.xlabel('False Positive Rate')\n",
    "plt.show()"
   ]
  },
  {
   "cell_type": "code",
   "execution_count": null,
   "metadata": {},
   "outputs": [],
   "source": [
    "import pickle\n",
    "\n",
    "file = open('predictions.p', 'wb')\n",
    "pickle.dump(predictions, file)"
   ]
  },
  {
   "cell_type": "code",
   "execution_count": null,
   "metadata": {},
   "outputs": [],
   "source": [
    "import pickle\n",
    "\n",
    "file = open('predictions.p', 'rb')\n",
    "predictions = pickle.load(file)"
   ]
  },
  {
   "cell_type": "code",
   "execution_count": 11,
   "metadata": {},
   "outputs": [
    {
     "name": "stderr",
     "output_type": "stream",
     "text": [
      "100%|██████████| 9028/9028 [00:06<00:00, 1322.90it/s]\n"
     ]
    }
   ],
   "source": [
    "import warnings\n",
    "warnings.simplefilter(action='ignore', category=pd.errors.PerformanceWarning)\n",
    "for i in tqdm(range(1,len(columns))):               #skip first item b/c that is anime id\n",
    "    df_predictions[columns[i]] = predictions[i-1]   #predictions is off by one b/c it does not have anime id\n",
    "\n",
    "outputdf = df_predictions.copy()\n",
    "outputdf.to_csv(f'predictions_matrix_adaboost_drop_va2.csv', index=False)"
   ]
  },
  {
   "cell_type": "code",
   "execution_count": null,
   "metadata": {},
   "outputs": [],
   "source": [
    "import pickle\n",
    "\n",
    "# open a file, where you ant to store the data\n",
    "file = open('adaboost.model', 'wb')\n",
    "\n",
    "# dump information to that file\n",
    "pickle.dump(adaboost, file)\n",
    "\n",
    "# close the file\n",
    "file.close()"
   ]
  },
  {
   "cell_type": "code",
   "execution_count": null,
   "metadata": {},
   "outputs": [],
   "source": [
    "#creates true_values for only the shows included in this train/test split\n",
    "\n",
    "df_true = pd.read_csv('anime_matrix_true.csv')\n",
    "values = df_true.values\n",
    "anime_ids = list(df_predictions['Id'])\n",
    "true_values = []\n",
    "for anime in anime_ids:\n",
    "    for j in range(len(values)):\n",
    "        if anime in values[j]:\n",
    "            true_values.append(values[j])\n",
    "\n",
    "true_values = numpy.array([numpy.array(xi) for xi in true_values])"
   ]
  },
  {
   "cell_type": "code",
   "execution_count": 12,
   "metadata": {},
   "outputs": [
    {
     "name": "stderr",
     "output_type": "stream",
     "text": [
      "100%|██████████| 89/89 [00:00<00:00, 152.13it/s]"
     ]
    },
    {
     "name": "stdout",
     "output_type": "stream",
     "text": [
      "Total predictions: 803492\n",
      "Correct predictions: 664839\n",
      "Predicted watch: 115400\n",
      "True watched: 144439\n",
      "True positive: 60593\n",
      "True negative: 604246\n",
      "False positive: 54807\n",
      "False negative: 83846\n",
      "Null Error Rate:  82.02\n",
      "Percent correct:  82.74%\n",
      "Precision:  0.53\n",
      "Recall:  0.42\n"
     ]
    },
    {
     "name": "stderr",
     "output_type": "stream",
     "text": [
      "\n"
     ]
    }
   ],
   "source": [
    "#caluclate accuracy\n",
    "correct = 0\n",
    "prediction_matrix = pd.read_csv('predictions_matrix_adaboost_drop_va2.csv')\n",
    "pred_values = prediction_matrix.values\n",
    "true_values = df_true.values\n",
    "predict_watch = 0\n",
    "true_watch = 0\n",
    "true_pos = 0\n",
    "true_neg = 0\n",
    "false_pos = 0\n",
    "false_neg = 0\n",
    "null = 0\n",
    "\n",
    "num_row = len(pred_values)\n",
    "num_col = len(pred_values[0])\n",
    "for i in tqdm(range(num_row)):\n",
    "    for j in range(1,num_col):          #first item is the anime id, so we skip it\n",
    "        if pred_values[i,j] == true_values[i,j]:\n",
    "            correct += 1\n",
    "        if pred_values[i,j] == 1:\n",
    "            predict_watch += 1\n",
    "            if true_values[i,j] == 1:\n",
    "                true_pos += 1\n",
    "                true_watch += 1\n",
    "            else:\n",
    "                false_pos += 1\n",
    "\n",
    "        if pred_values[i,j] == 0:\n",
    "            if true_values[i,j] == 0:\n",
    "                true_neg += 1\n",
    "            else:\n",
    "                false_neg += 1\n",
    "                true_watch += 1\n",
    "\n",
    "        if 0 == true_values[i,j]:\n",
    "            null += 1\n",
    "        \n",
    "\n",
    "#subtracting 1 from column length b/c the first item is the anime id\n",
    "percent = (correct / ((num_row) * (num_col-1))) * 100\n",
    "total = (num_row) * (num_col-1)\n",
    "print(f'Total predictions: {total}')\n",
    "print(f'Correct predictions: {correct}')\n",
    "\n",
    "print(f'Predicted watch: {predict_watch}')\n",
    "print(f'True watched: {true_watch}')\n",
    "print(f'True positive: {true_pos}')\n",
    "print(f'True negative: {true_neg}')\n",
    "print(f'False positive: {false_pos}')\n",
    "print(f'False negative: {false_neg}')\n",
    "print(f'Null Error Rate: {(null / total)*100: .2f}')\n",
    "print(f'Percent correct: {percent: .2f}%')\n",
    "print(f'Precision: {(true_pos / (true_pos + false_pos)): .2f}')\n",
    "print(f'Recall: {(true_pos / (true_pos + false_neg)): .2f}')"
   ]
  },
  {
   "cell_type": "code",
   "execution_count": 13,
   "metadata": {},
   "outputs": [
    {
     "name": "stderr",
     "output_type": "stream",
     "text": [
      "C:\\Users\\Tenkawa PC\\AppData\\Local\\Temp\\ipykernel_19156\\678633288.py:17: MatplotlibDeprecationWarning: Auto-removal of overlapping axes is deprecated since 3.6 and will be removed two minor releases later; explicitly call ax.remove() as needed.\n",
      "  ax= plt.subplot()\n"
     ]
    },
    {
     "data": {
      "text/plain": [
       "[Text(0, 0.5, 'Negative'), Text(0, 1.5, 'Positive')]"
      ]
     },
     "execution_count": 13,
     "metadata": {},
     "output_type": "execute_result"
    },
    {
     "data": {
      "image/png": "[encoded data removed]",
      "text/plain": [
       "<Figure size 480x480 with 2 Axes>"
      ]
     },
     "metadata": {},
     "output_type": "display_data"
    }
   ],
   "source": [
    "from sklearn.metrics import confusion_matrix\n",
    "import seaborn as sns\n",
    "import matplotlib.pyplot as plt  \n",
    "\n",
    "#have to convert true_values and pred_values from matrix to list\n",
    "y_true = []\n",
    "y_pred = []\n",
    "for i in range(len(true_values)):\n",
    "    y_true += list(true_values[i][1:])\n",
    "    y_pred += list(pred_values[i][1:])\n",
    "\n",
    "cm = confusion_matrix(y_true,y_pred)\n",
    "plt.matshow(cm)\n",
    "\n",
    "   \n",
    "\n",
    "ax= plt.subplot()\n",
    "sns.heatmap(cm, annot=True, fmt='g', ax=ax, cmap='ocean_r');  #annot=True to annotate cells, ftm='g' to disable scientific notation\n",
    "\n",
    "# labels, title and ticks\n",
    "ax.set_xlabel('Predicted labels')\n",
    "ax.set_ylabel('True labels')\n",
    "ax.set_title('Confusion Matrix')\n",
    "ax.xaxis.set_ticklabels(['Negative', 'Positive'])\n",
    "ax.yaxis.set_ticklabels(['Negative', 'Positive'])"
   ]
  },
  {
   "cell_type": "code",
   "execution_count": 14,
   "metadata": {},
   "outputs": [
    {
     "name": "stdout",
     "output_type": "stream",
     "text": [
      "Accuray: 0.83\n",
      "Precision: 0.53\n",
      "Recall: 0.42\n",
      "F1 score: 0.47\n"
     ]
    }
   ],
   "source": [
    "from sklearn.metrics import accuracy_score\n",
    "from sklearn.metrics import precision_score\n",
    "from sklearn.metrics import recall_score\n",
    "from sklearn.metrics import f1_score\n",
    "\n",
    "print(f'Accuray: {accuracy_score(y_true, y_pred):.2f}')\n",
    "print(f'Precision: {precision_score(y_true, y_pred):.2f}')\n",
    "print(f'Recall: {recall_score(y_true, y_pred):.2f}')\n",
    "print(f'F1 score: {f1_score(y_true, y_pred):.2f}')"
   ]
  }
 ],
 "metadata": {
  "kernelspec": {
   "display_name": "Python 3.10.8 64-bit (microsoft store)",
   "language": "python",
   "name": "python3"
  },
  "language_info": {
   "codemirror_mode": {
    "name": "ipython",
    "version": 3
   },
   "file_extension": ".py",
   "mimetype": "text/x-python",
   "name": "python",
   "nbconvert_exporter": "python",
   "pygments_lexer": "ipython3",
   "version": "3.10.8"
  },
  "orig_nbformat": 4,
  "vscode": {
   "interpreter": {
    "hash": "8fc903fd1a35692d96a4695a6c4f7b57bb80f609b0147f9dc1e34250c7f2a3f2"
   }
  }
 },
 "nbformat": 4,
 "nbformat_minor": 2
}
