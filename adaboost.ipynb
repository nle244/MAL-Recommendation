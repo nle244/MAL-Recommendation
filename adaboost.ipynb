{
 "cells": [
  {
   "cell_type": "code",
   "execution_count": 160,
   "metadata": {},
   "outputs": [],
   "source": [
    "import pandas as pd\n",
    "import numpy\n",
    "from tqdm import tqdm\n",
    "from sklearn.ensemble import AdaBoostClassifier\n",
    "from sklearn.model_selection import train_test_split\n",
    "from sklearn import preprocessing\n",
    "\n",
    "\n",
    "new = pd.DataFrame()\n",
    "df_predictions = pd.DataFrame\n",
    "\n",
    "df_accuracy = pd.read_csv('top_and_bottom_anime.csv')\n",
    "df_accuracy = df_accuracy.drop(columns='Id')\n",
    "df_accuracy = df_accuracy.drop(columns='Rating')\n",
    "df_accuracy = df_accuracy.drop(columns='Demographic')\n",
    "\n",
    "\n",
    "le = preprocessing.LabelEncoder()\n",
    "for i in range(df_accuracy.shape[1]):\n",
    "    temp = df_accuracy.iloc[:,i].values.tolist()\n",
    "    temp = le.fit_transform(temp)\n",
    "    new[df_accuracy.columns[i]] = temp\n",
    "\n",
    "df_true = pd.read_csv('anime_matrix_true.csv')\n",
    "df_predictions = df_true[['Id']].copy()\n",
    "df_true = df_true.drop(columns='Id')\n",
    "\n",
    "\n"
   ]
  },
  {
   "cell_type": "code",
   "execution_count": 140,
   "metadata": {},
   "outputs": [
    {
     "name": "stderr",
     "output_type": "stream",
     "text": [
      "100%|██████████| 9029/9029 [12:26<00:00, 12.09it/s]\n"
     ]
    }
   ],
   "source": [
    "columns = df_true.columns\n",
    "predictions = []\n",
    "true = []\n",
    "# x = new\n",
    "# y = df_true[columns[1]]\n",
    "# x_train,x_test,y_train,y_test = train_test_split(x,y,test_size=0.2, random_state=42)\n",
    "\n",
    "# #create cross training split for building the models\n",
    "# X_cross_train, X_cross_test, y_cross_train, y_cross_test = train_test_split(x_train, y_train, test_size=0.2, random_state=420)\n",
    "avg = []\n",
    "for i in tqdm(range(len(columns))):\n",
    "    x = new\n",
    "    y = df_true[columns[i]]\n",
    "    x_train,x_test,y_train,y_test = train_test_split(x,y,test_size=0.2, random_state=42)\n",
    "    # y_train = df_true[columns[i]][:len(x_train)]\n",
    "    #create cross training split for building the models\n",
    "    X_cross_train, X_cross_test, y_cross_train, y_cross_test = train_test_split(x_train, y_train, test_size=0.2, random_state=420)\n",
    "\n",
    "    adaboost = AdaBoostClassifier(n_estimators=100, random_state=42)\n",
    "    adaboost.fit(X_cross_train,y_cross_train)\n",
    "    avg.append(adaboost.score(X_cross_test,y_cross_test))\n",
    "    predictions.append(list(y_cross_test))\n",
    "\n",
    "# result"
   ]
  },
  {
   "cell_type": "code",
   "execution_count": 144,
   "metadata": {},
   "outputs": [
    {
     "name": "stdout",
     "output_type": "stream",
     "text": [
      "0.8261755815530566\n"
     ]
    }
   ],
   "source": [
    "print(sum(avg) / len(avg))"
   ]
  },
  {
   "cell_type": "code",
   "execution_count": 142,
   "metadata": {},
   "outputs": [
    {
     "name": "stderr",
     "output_type": "stream",
     "text": [
      "100%|██████████| 9029/9029 [00:04<00:00, 2041.83it/s]\n"
     ]
    }
   ],
   "source": [
    "import warnings\n",
    "\n",
    "cut_off = (len(df_predictions)) - (len(y_cross_test))\n",
    "df_predictions.drop(df_predictions.tail(cut_off).index,inplace=True)\n",
    "\n",
    "warnings.simplefilter(action='ignore', category=pd.errors.PerformanceWarning)\n",
    "# df_predictions = pd.DataFrame()\n",
    "for i in tqdm(range(len(columns))):\n",
    "    df_predictions[columns[i]] = predictions[i]"
   ]
  },
  {
   "cell_type": "code",
   "execution_count": 130,
   "metadata": {},
   "outputs": [],
   "source": [
    "import pickle\n",
    "\n",
    "# open a file, where you ant to store the data\n",
    "file = open('adaboost.model', 'wb')\n",
    "\n",
    "# dump information to that file\n",
    "pickle.dump(adaboost, file)\n",
    "\n",
    "# close the file\n",
    "file.close()"
   ]
  },
  {
   "cell_type": "code",
   "execution_count": 143,
   "metadata": {},
   "outputs": [],
   "source": [
    "outputdf = df_predictions.copy()\n",
    "outputdf.to_csv(f'predictions_matrix_adaboost.csv', index=False)"
   ]
  },
  {
   "cell_type": "code",
   "execution_count": 178,
   "metadata": {},
   "outputs": [],
   "source": [
    "#creates the true values to check the accuracy in the cell below\n",
    "#uses the same splits with the same seeds to grab which anime is in x_cross_test\n",
    "x = new\n",
    "y = df_predictions[['Id']]\n",
    "x_train,x_test,y_train,y_test = train_test_split(x,y,test_size=0.2, random_state=42)\n",
    "X_cross_train, X_cross_test, y_cross_train, y_cross_test = train_test_split(x_train, y_train, test_size=0.2, random_state=420)\n",
    "\n",
    "df_true = pd.read_csv('anime_matrix_true.csv')\n",
    "temp = df_true.values\n",
    "true = []\n",
    "for each in list(y_cross_test['Id']):\n",
    "    for j in range(len(temp)):\n",
    "        if each in list(temp[j]):\n",
    "            true.append(list(temp[j]))\n",
    "\n",
    "true = numpy.array([numpy.array(xi) for xi in true])"
   ]
  },
  {
   "cell_type": "code",
   "execution_count": 180,
   "metadata": {},
   "outputs": [
    {
     "name": "stderr",
     "output_type": "stream",
     "text": [
      "100%|██████████| 89/89 [00:00<00:00, 740.99it/s]"
     ]
    },
    {
     "name": "stdout",
     "output_type": "stream",
     "text": [
      "659053\n",
      "0.8201450756053217\n",
      "803581\n"
     ]
    },
    {
     "name": "stderr",
     "output_type": "stream",
     "text": [
      "\n"
     ]
    }
   ],
   "source": [
    "#caluclate accuracy\n",
    "value = 0\n",
    "prediction_matrix = pd.read_csv('predictions_matrix_adaboost.csv')\n",
    "pred = prediction_matrix.values\n",
    "\n",
    "num_row = len(pred)\n",
    "num_col = len(pred[0])\n",
    "for i in tqdm(range(num_row)):\n",
    "    for j in range(1,num_col):          #first item is the anime id, so we skip it\n",
    "        if 0 == true[i,j]:\n",
    "            value += 1\n",
    "\n",
    "print(value)\n",
    "print(value / ((num_row) * (num_col)))\n",
    "# print('zeros = ',zeros)\n",
    "# print('ones = ',ones)\n",
    "# print('true ones = ',true_ones)\n",
    "print((num_row) * (num_col))"
   ]
  },
  {
   "cell_type": "code",
   "execution_count": 170,
   "metadata": {},
   "outputs": [
    {
     "name": "stdout",
     "output_type": "stream",
     "text": [
      "26453\n"
     ]
    }
   ],
   "source": [
    "print(pred[1,0])"
   ]
  }
 ],
 "metadata": {
  "kernelspec": {
   "display_name": "Python 3.10.8 64-bit (microsoft store)",
   "language": "python",
   "name": "python3"
  },
  "language_info": {
   "codemirror_mode": {
    "name": "ipython",
    "version": 3
   },
   "file_extension": ".py",
   "mimetype": "text/x-python",
   "name": "python",
   "nbconvert_exporter": "python",
   "pygments_lexer": "ipython3",
   "version": "3.10.8"
  },
  "orig_nbformat": 4,
  "vscode": {
   "interpreter": {
    "hash": "8fc903fd1a35692d96a4695a6c4f7b57bb80f609b0147f9dc1e34250c7f2a3f2"
   }
  }
 },
 "nbformat": 4,
 "nbformat_minor": 2
}
