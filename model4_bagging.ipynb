{
 "cells": [
  {
   "cell_type": "code",
   "execution_count": 1,
   "metadata": {},
   "outputs": [],
   "source": [
    "import pandas\n",
    "import numpy\n",
    "import csv\n",
    "import os\n",
    "import warnings\n",
    "from tqdm import tqdm\n",
    "from functions import *\n",
    "\n",
    "from pytest import skip\n",
    "\n",
    "df_user_info = pandas.read_csv('user_list_more_than_20.csv')\n",
    "df_anime_x = pandas.read_csv('top_and_bottom_anime.csv')\n",
    "df_anime_y = pandas.read_csv('anime_matrix_true.csv')\n",
    "\n",
    "#create main split for training and testing\n",
    "from sklearn.model_selection import train_test_split\n",
    "X_train, X_test, y_train, y_test = train_test_split(df_anime_x, df_anime_y, test_size=0.2, random_state=42)\n",
    "\n",
    "#create cross training split for building the models\n",
    "X_cross_train, X_cross_test, y_cross_train, y_cross_test = train_test_split(X_train, y_train, test_size=0.2, random_state=1080)"
   ]
  },
  {
   "cell_type": "code",
   "execution_count": 2,
   "metadata": {},
   "outputs": [
    {
     "data": {
      "text/plain": [
       "(112, 8)"
      ]
     },
     "execution_count": 2,
     "metadata": {},
     "output_type": "execute_result"
    }
   ],
   "source": [
    "X_test.shape"
   ]
  },
  {
   "cell_type": "code",
   "execution_count": 3,
   "metadata": {},
   "outputs": [],
   "source": [
    "#Same spits are performed again to create df_true to check accuracy \n",
    "#create main split for training and testing\n",
    "from sklearn.model_selection import train_test_split\n",
    "A_train, A_test, b_train, b_test = train_test_split(df_anime_y, df_anime_y, test_size=0.2, random_state=42)\n",
    "\n",
    "#create cross training split for building the models\n",
    "A_cross_train, A_cross_test, b_cross_train, b_cross_test = train_test_split(A_train, b_train, test_size=0.2, random_state=1080)\n",
    "\n",
    "df_true = A_cross_test.copy()"
   ]
  },
  {
   "cell_type": "code",
   "execution_count": 4,
   "metadata": {},
   "outputs": [
    {
     "name": "stderr",
     "output_type": "stream",
     "text": [
      "100%|██████████| 1/1 [00:06<00:00,  6.45s/it]\n"
     ]
    }
   ],
   "source": [
    "#knn\n",
    "#create user list\n",
    "watch_values = y_cross_train.values\n",
    "users = y_cross_train.columns[1:]\n",
    "\n",
    "#get rows of anime in the test list\n",
    "rows = X_cross_test['Id'].copy()\n",
    "\n",
    "#create watch list based on df_anime_y\n",
    "users_watched = []\n",
    "for i in (range(len(users))):\n",
    "    watched = []\n",
    "    for j in range(len(watch_values)):\n",
    "        if(watch_values[j][i+1]):\n",
    "            watched.append(str(watch_values[j][0]))\n",
    "    users_watched.append(watched)\n",
    "\n",
    "#compute all distances and dump to file\n",
    "#for Create_soup_selection choose all, or choose between studio, source, genre, va\n",
    "test = X_cross_test.copy()\n",
    "train = X_cross_train.copy()\n",
    "\n",
    "all_distances = []\n",
    "for j in (range(len(test))):\n",
    "    bag1 = Create_soup_selection(test.iloc[j],studio=False,source=True,genre=True,va=True).split()\n",
    "    distances = []\n",
    "    for i in range(len(train)):\n",
    "        bag2 = Create_soup_selection(train.iloc[i],studio=False,source=True,genre=True,va=True).split()\n",
    "        distances.append((train.iloc[i]['Id'].replace('\\'',''),Jaccard(list(bag1),list(bag2))))\n",
    "    Sort_Tuple(distances)\n",
    "    all_distances.append(distances)\n",
    "\n",
    "#KNN implementation\n",
    "\n",
    "#make empty prediction matrix\n",
    "#add anime Id column from 'rows'\n",
    "#for every user\n",
    "#   for each list of distances\n",
    "#       find value of sum and divide by k\n",
    "#       if sum / k is >= 0.5 predict 1, else predict 0\n",
    "#   append to list of predictions\n",
    "\n",
    "for knn in tqdm(range(11,12)):\n",
    "    neighbors = knn\n",
    "    prediction_result = []\n",
    "    for j in (range(len(users))):\n",
    "        col = users[j]\n",
    "        watched = users_watched[j]\n",
    "        predictions = []\n",
    "        for k in range(len(all_distances)):\n",
    "            distances = all_distances[k]\n",
    "            #compute the sum\n",
    "            neigh = []\n",
    "            for i in range(neighbors):\n",
    "                neigh.append(distances[i][0])\n",
    "            value = len(list(set(neigh).intersection(watched)))\n",
    "            if (value / neighbors) > 0.5:\n",
    "                predictions.append(1)\n",
    "            else:\n",
    "                predictions.append(0)\n",
    "        prediction_result.append(predictions)\n",
    "\n",
    "    #create df_predictions\n",
    "    warnings.simplefilter(action='ignore', category=pandas.errors.PerformanceWarning)\n",
    "    knn_predictions = pandas.DataFrame()\n",
    "    knn_predictions['Id'] = rows\n",
    "    for i in range(len(users)):\n",
    "        col = users[i]\n",
    "        knn_predictions[col] = prediction_result[i]"
   ]
  },
  {
   "cell_type": "code",
   "execution_count": 5,
   "metadata": {},
   "outputs": [
    {
     "name": "stderr",
     "output_type": "stream",
     "text": [
      "100%|██████████| 9028/9028 [00:00<00:00, 9454.71it/s]\n",
      "100%|██████████| 9028/9028 [02:43<00:00, 55.30it/s]\n",
      "100%|██████████| 89/89 [00:00<00:00, 8891.95it/s]\n",
      "100%|██████████| 9028/9028 [00:25<00:00, 358.87it/s]\n",
      "100%|██████████| 1/1 [00:00<00:00,  2.85it/s]\n"
     ]
    }
   ],
   "source": [
    "#items2items\n",
    "#create list of anime in test set \n",
    "test_anime = []\n",
    "for i in range(len(X_cross_test)):\n",
    "    test_anime.append(X_cross_test.iloc[i]['Id'].replace('\\'',''))\n",
    "\n",
    "#create user list\n",
    "watch_values = y_cross_train.values\n",
    "users = y_cross_train.columns[1:]\n",
    "\n",
    "#create watch list based on df_anime_y\n",
    "users_watched = []\n",
    "for i in tqdm(range(len(users))):\n",
    "    watched = []\n",
    "    for j in range(len(watch_values)):\n",
    "        if(watch_values[j][i+1]):\n",
    "            watched.append(str(watch_values[j][0]))\n",
    "    users_watched.append(watched)\n",
    "\n",
    "#read each user's watch list and creates a bag of words of all anime they watched\n",
    "user_bag_result = []\n",
    "length = len(users)\n",
    "\n",
    "for j in tqdm(range(length)):\n",
    "    # user = df_mini_watch_list.loc[j]['user']\n",
    "    watched = users_watched[j]\n",
    "    bag = ''\n",
    "    for k in range(len(watched)):\n",
    "        if watched[k] not in test_anime:\n",
    "            try:\n",
    "                temp = '\\'' + str(watched[k]) + '\\''\n",
    "                index = df_anime_x.loc[df_anime_x['Id'] == temp].index[0]\n",
    "                bag += ' ' + Create_soup_selection(df_anime_x.loc[index],studio=False,source=True,genre=True,va=True)\n",
    "            except:\n",
    "                pass\n",
    "    user_bag_result.append([users[j],bag])\n",
    "\n",
    "#creates a bag of words for each anime\n",
    "anime_bag_result = []\n",
    "for i in tqdm(range(len(X_cross_test))):\n",
    "    anime = X_cross_test.iloc[i]['Id'].replace('\\'','')\n",
    "    bag = Create_soup_selection(X_cross_test.iloc[i],studio=True,source=True,genre=True,va=False)\n",
    "    anime_bag_result.append([anime,bag])\n",
    "\n",
    "df_user_bag = pandas.DataFrame(user_bag_result, columns=['user','bag of words'])\n",
    "df_anime_bag = pandas.DataFrame(anime_bag_result, columns=['Id','bag of words'])\n",
    "\n",
    "#Creates similarity matrix of all anime for all users\n",
    "from sklearn.feature_extraction.text import CountVectorizer\n",
    "from sklearn.metrics.pairwise import cosine_similarity\n",
    "\n",
    "# df_user_bag = pandas.read_csv('users_bag_of_words_drop_va.csv')\n",
    "# df_anime_bag = pandas.read_csv('anime_bag_of_words_drop_va.csv')\n",
    "\n",
    "count = CountVectorizer()\n",
    "df_similarity = pandas.DataFrame()\n",
    "df_similarity = df_true[['Id']].copy()\n",
    "users = df_true.columns[1:]\n",
    "\n",
    "for i in tqdm(range(len(users))):     #skip first item b/c that is anime id\n",
    "    list_of_bag_of_words = [df_user_bag.loc[i]['bag of words']]\n",
    "\n",
    "    count_matrix = count.fit_transform(df_anime_bag['bag of words'])\n",
    "    try:\n",
    "        count_matrix2 = count.transform(list_of_bag_of_words)\n",
    "    except:\n",
    "        #if user has an empty bag give them a matix of zeros\n",
    "        count_matrix2 = count.transform(['a'])\n",
    "\n",
    "    cosine_sim2 = cosine_similarity(count_matrix, count_matrix2)\n",
    "    # sim_scores = list(enumerate(cosine_sim2))\n",
    "    sim_scores = []\n",
    "    for each in cosine_sim2:\n",
    "        sim_scores.append(each[0])\n",
    "    warnings.simplefilter(action='ignore', category=pandas.errors.PerformanceWarning)\n",
    "    df_similarity[users[i]] = sim_scores\n",
    "\n",
    "#Make predictions \n",
    "sim_val = df_similarity.values\n",
    "similarity_interval = [0.42]\n",
    "\n",
    "for i in tqdm(range(len(similarity_interval))):\n",
    "    predictions = []\n",
    "    for k in range(len(sim_val)):\n",
    "        prediction_row = [int(sim_val[k][0])]\n",
    "        for j in range(1,len(sim_val[k])):    #skip the first time b/c that is the anime Id\n",
    "            if sim_val[k][j] >= similarity_interval[i]:\n",
    "                prediction_row.append(1)\n",
    "            else: \n",
    "                prediction_row.append(0)\n",
    "        predictions.append(prediction_row)\n",
    "    string_val = str(similarity_interval[i]).replace('.','')\n",
    "    items2items_predictions = pandas.DataFrame(predictions, columns=df_true.columns)\n"
   ]
  },
  {
   "cell_type": "code",
   "execution_count": 6,
   "metadata": {},
   "outputs": [
    {
     "name": "stderr",
     "output_type": "stream",
     "text": [
      "100%|██████████| 9028/9028 [10:31<00:00, 14.30it/s]\n",
      "100%|██████████| 9028/9028 [00:07<00:00, 1261.59it/s]\n"
     ]
    }
   ],
   "source": [
    "from sklearn.ensemble import AdaBoostClassifier\n",
    "from sklearn.model_selection import train_test_split\n",
    "from sklearn import preprocessing\n",
    "\n",
    "df_anime = pandas.read_csv('top_and_bottom_anime.csv')\n",
    "df_anime = df_anime.drop(columns='Id')\n",
    "df_anime = df_anime.drop(columns='Rating')\n",
    "df_anime = df_anime.drop(columns='Demographic')\n",
    "\n",
    "new = pandas.DataFrame()\n",
    "le = preprocessing.LabelEncoder()\n",
    "for i in range(df_anime.shape[1]):\n",
    "    temp = df_anime.iloc[:,i].values.tolist()\n",
    "    temp = le.fit_transform(temp)\n",
    "    new[df_anime.columns[i]] = temp\n",
    "\n",
    "df_predictions = pandas.DataFrame()\n",
    "df_predictions['Id'] = knn_predictions['Id'].copy()\n",
    "df_anime_y = pandas.read_csv('anime_matrix_true.csv')\n",
    "rows = df_anime_y[['Id']].copy()\n",
    "\n",
    "#make adaboost predictions\n",
    "columns = df_anime_y.columns\n",
    "predictions = []\n",
    "\n",
    "avg = []\n",
    "for i in tqdm(range(1,len(columns))):   #skip first item b/c it's anime Id\n",
    "    x = new\n",
    "    y = df_anime_y[columns[i]]\n",
    "    x_train,x_test,y_train,y_test = train_test_split(x,y,test_size=0.2, random_state=42)\n",
    "    \n",
    "    #create cross training split for building the models\n",
    "    X_cross_train, X_cross_test, y_cross_train, y_cross_test = train_test_split(x_train, y_train, test_size=0.2, random_state=1080)\n",
    "\n",
    "    adaboost = AdaBoostClassifier(n_estimators=75, random_state=42)\n",
    "    adaboost.fit(X_cross_train,y_cross_train)\n",
    "    avg.append(adaboost.score(X_cross_test,y_cross_test))\n",
    "    predictions.append(list(adaboost.predict(X_cross_test)))\n",
    "\n",
    "import warnings\n",
    "warnings.simplefilter(action='ignore', category=pandas.errors.PerformanceWarning)\n",
    "for i in tqdm(range(1,len(columns))):\n",
    "    df_predictions[columns[i]] = predictions[i-1]\n",
    "\n",
    "adaboost_predictions = df_predictions.copy()"
   ]
  },
  {
   "cell_type": "code",
   "execution_count": 7,
   "metadata": {},
   "outputs": [
    {
     "name": "stderr",
     "output_type": "stream",
     "text": [
      "100%|██████████| 9028/9028 [00:27<00:00, 326.72it/s]\n",
      "100%|██████████| 9028/9028 [00:07<00:00, 1270.92it/s]\n"
     ]
    }
   ],
   "source": [
    "from sklearn import tree\n",
    "from sklearn.model_selection import train_test_split\n",
    "from sklearn import preprocessing\n",
    "\n",
    "df_anime = pandas.read_csv('top_and_bottom_anime.csv')\n",
    "df_anime = df_anime.drop(columns='Id')\n",
    "df_anime = df_anime.drop(columns='Rating')\n",
    "df_anime = df_anime.drop(columns='Demographic')\n",
    "\n",
    "new = pandas.DataFrame()\n",
    "le = preprocessing.LabelEncoder()\n",
    "for i in range(df_anime.shape[1]):\n",
    "    temp = df_anime.iloc[:,i].values.tolist()\n",
    "    temp = le.fit_transform(temp)\n",
    "    new[df_anime.columns[i]] = temp\n",
    "\n",
    "df_predictions = pandas.DataFrame()\n",
    "df_predictions['Id'] = knn_predictions['Id'].copy()\n",
    "df_anime_y = pandas.read_csv('anime_matrix_true.csv')\n",
    "rows = df_anime_y[['Id']].copy()\n",
    "\n",
    "#make adaboost predictions\n",
    "columns = df_anime_y.columns\n",
    "predictions = []\n",
    "\n",
    "avg = []\n",
    "for i in tqdm(range(1,len(columns))):   #skip first item b/c it's anime Id\n",
    "    x = new\n",
    "    y = df_anime_y[columns[i]]\n",
    "    x_train,x_test,y_train,y_test = train_test_split(x,y,test_size=0.2, random_state=42)\n",
    "    \n",
    "    #create cross training split for building the models\n",
    "    X_cross_train, X_cross_test, y_cross_train, y_cross_test = train_test_split(x_train, y_train, test_size=0.2, random_state=1080)\n",
    "\n",
    "\n",
    "    randomforest = tree.DecisionTreeClassifier()\n",
    "    randomforest.fit(X_cross_train,y_cross_train)\n",
    "    avg.append(randomforest.score(X_cross_test,y_cross_test))\n",
    "    predictions.append(list(randomforest.predict(X_cross_test)))\n",
    "\n",
    "import warnings\n",
    "warnings.simplefilter(action='ignore', category=pandas.errors.PerformanceWarning)\n",
    "for i in tqdm(range(1,len(columns))):\n",
    "    df_predictions[columns[i]] = predictions[i-1]\n",
    "\n",
    "randomforest_predictions = df_predictions.copy()"
   ]
  },
  {
   "cell_type": "code",
   "execution_count": 8,
   "metadata": {},
   "outputs": [],
   "source": [
    "import pickle\n",
    "\n",
    "file = open('similarity_matrix.p', 'wb')\n",
    "pickle.dump(knn_predictions,open('knn_predictions.p','wb'))\n",
    "pickle.dump(items2items_predictions,open('items2items_predictions.p','wb'))\n",
    "pickle.dump(adaboost_predictions,open('adaboost_predictions.p','wb'))\n",
    "pickle.dump(randomforest_predictions,open('randomforest_predictions.p','wb'))"
   ]
  },
  {
   "cell_type": "code",
   "execution_count": 4,
   "metadata": {},
   "outputs": [
    {
     "ename": "EOFError",
     "evalue": "Ran out of input",
     "output_type": "error",
     "traceback": [
      "\u001b[1;31m---------------------------------------------------------------------------\u001b[0m",
      "\u001b[1;31mEOFError\u001b[0m                                  Traceback (most recent call last)",
      "Cell \u001b[1;32mIn [4], line 7\u001b[0m\n\u001b[0;32m      5\u001b[0m items2items_predictions \u001b[39m=\u001b[39m pickle\u001b[39m.\u001b[39mload(\u001b[39mopen\u001b[39m(\u001b[39m'\u001b[39m\u001b[39mitems2items_predictions.p\u001b[39m\u001b[39m'\u001b[39m,\u001b[39m'\u001b[39m\u001b[39mrb\u001b[39m\u001b[39m'\u001b[39m))\n\u001b[0;32m      6\u001b[0m adaboost_predictions \u001b[39m=\u001b[39m pickle\u001b[39m.\u001b[39mload(\u001b[39mopen\u001b[39m(\u001b[39m'\u001b[39m\u001b[39madaboost_predictions.p\u001b[39m\u001b[39m'\u001b[39m,\u001b[39m'\u001b[39m\u001b[39mrb\u001b[39m\u001b[39m'\u001b[39m))\n\u001b[1;32m----> 7\u001b[0m randomforest_predictions \u001b[39m=\u001b[39m pickle\u001b[39m.\u001b[39;49mload(\u001b[39mopen\u001b[39;49m(\u001b[39m'\u001b[39;49m\u001b[39mrandomforest_predictions.p\u001b[39;49m\u001b[39m'\u001b[39;49m,\u001b[39m'\u001b[39;49m\u001b[39mrb\u001b[39;49m\u001b[39m'\u001b[39;49m))\n",
      "\u001b[1;31mEOFError\u001b[0m: Ran out of input"
     ]
    }
   ],
   "source": [
    "import pickle\n",
    "\n",
    "file = open('similarity_matrix.p', 'wb')\n",
    "knn_predictions = pickle.load(open('knn_predictions.p','rb'))\n",
    "items2items_predictions = pickle.load(open('items2items_predictions.p','rb'))\n",
    "adaboost_predictions = pickle.load(open('adaboost_predictions.p','rb'))\n",
    "randomforest_predictions = pickle.load(open('randomforest_predictions.p','rb'))"
   ]
  },
  {
   "cell_type": "code",
   "execution_count": 37,
   "metadata": {},
   "outputs": [],
   "source": [
    "knn_val = knn_predictions.values\n",
    "items2items_val = items2items_predictions.values\n",
    "adaboost_val = adaboost_predictions.values\n",
    "randomforest_val = randomforest_predictions.values\n",
    "vote_threshold = 1\n",
    "\n",
    "row = len(knn_val)\n",
    "col = len(knn_val[0])\n",
    "predictions_list = []\n",
    "\n",
    "for i in range(row):\n",
    "    prediction = [knn_val[i][0]]\n",
    "    for j in range(1,col):      #skip first item b/c that is anime Id\n",
    "        vote = knn_val[i][j] + items2items_val[i][j]*0 + adaboost_val[i][j] + randomforest_val[i][j]*0\n",
    "        if vote >= vote_threshold:\n",
    "            prediction.append(1)\n",
    "        else:\n",
    "            prediction.append(0)\n",
    "    predictions_list.append(prediction)\n",
    "\n",
    "bagging_predctions = pandas.DataFrame(predictions_list,columns=df_true.columns)"
   ]
  },
  {
   "cell_type": "code",
   "execution_count": 38,
   "metadata": {},
   "outputs": [
    {
     "name": "stderr",
     "output_type": "stream",
     "text": [
      "100%|██████████| 89/89 [00:00<00:00, 138.94it/s]"
     ]
    },
    {
     "name": "stdout",
     "output_type": "stream",
     "text": [
      "Total predictions: 803492\n",
      "Total Positives: 182661\n",
      "Correct predictions: 630135\n",
      "Predicted watch: 209866\n",
      "True watched: 182661\n",
      "True positive: 109585\n",
      "True negative: 520550\n",
      "False negative: 73076\n",
      "Null Error Rate:  77.27\n",
      "False positive: 100281\n",
      "Percent correct:  78.42%\n",
      "Precision:  0.52\n",
      "Recall:  0.60\n"
     ]
    },
    {
     "name": "stderr",
     "output_type": "stream",
     "text": [
      "\n"
     ]
    }
   ],
   "source": [
    "#caluclate accuracy\n",
    "correct = 0\n",
    "prediction_matrix = pandas.read_csv('items2items_sim_variable.csv')\n",
    "pred_values = bagging_predctions.values\n",
    "true_values = df_true.values\n",
    "predict_watch = 0\n",
    "true_watch = 0\n",
    "true_pos = 0\n",
    "true_neg = 0\n",
    "false_pos = 0\n",
    "false_neg = 0\n",
    "positive = 0\n",
    "null = 0\n",
    "\n",
    "num_row = len(pred_values)\n",
    "num_col = len(pred_values[0])\n",
    "for i in tqdm(range(num_row)):\n",
    "    for j in range(1,num_col):          #first item is the anime id, so we skip it\n",
    "        if pred_values[i,j] == true_values[i,j]:\n",
    "            correct += 1\n",
    "        if pred_values[i,j] == 1:\n",
    "            predict_watch += 1\n",
    "            if true_values[i,j] == 1:\n",
    "                true_pos += 1\n",
    "                true_watch += 1\n",
    "            else:\n",
    "                false_pos += 1\n",
    "\n",
    "        if pred_values[i,j] == 0:\n",
    "            if true_values[i,j] == 0:\n",
    "                true_neg += 1\n",
    "            else:\n",
    "                false_neg += 1\n",
    "                true_watch += 1\n",
    "        \n",
    "        if true_values[i,j] == 1:\n",
    "            positive += 1\n",
    "\n",
    "        if 0 == true_values[i,j]:\n",
    "            null += 1\n",
    "        \n",
    "\n",
    "#subtracting 1 from column length b/c the first item is the anime id\n",
    "percent = (correct / ((num_row) * (num_col-1)))\n",
    "total = (num_row) * (num_col-1)\n",
    "print(f'Total predictions: {total}')\n",
    "print(f'Total Positives: {positive}')\n",
    "print(f'Correct predictions: {correct}')\n",
    "\n",
    "print(f'Predicted watch: {predict_watch}')\n",
    "print(f'True watched: {true_watch}')\n",
    "print(f'True positive: {true_pos}')\n",
    "print(f'True negative: {true_neg}')\n",
    "print(f'False negative: {false_neg}')\n",
    "print(f'Null Error Rate: {(null / total)*100: .2f}')\n",
    "print(f'False positive: {false_pos}')\n",
    "print(f'Percent correct: {percent * 100: .2f}%')\n",
    "print(f'Precision: {(true_pos / (true_pos + false_pos)): .2f}')\n",
    "print(f'Recall: {(true_pos / (true_pos + false_neg)): .2f}')"
   ]
  },
  {
   "cell_type": "code",
   "execution_count": 39,
   "metadata": {},
   "outputs": [
    {
     "name": "stderr",
     "output_type": "stream",
     "text": [
      "C:\\Users\\Tenkawa PC\\AppData\\Local\\Temp\\ipykernel_5676\\678633288.py:17: MatplotlibDeprecationWarning: Auto-removal of overlapping axes is deprecated since 3.6 and will be removed two minor releases later; explicitly call ax.remove() as needed.\n",
      "  ax= plt.subplot()\n"
     ]
    },
    {
     "data": {
      "text/plain": [
       "[Text(0, 0.5, 'Negative'), Text(0, 1.5, 'Positive')]"
      ]
     },
     "execution_count": 39,
     "metadata": {},
     "output_type": "execute_result"
    },
    {
     "data": {
      "image/png": "[encoded data removed]",
      "text/plain": [
       "<Figure size 480x480 with 2 Axes>"
      ]
     },
     "metadata": {},
     "output_type": "display_data"
    }
   ],
   "source": [
    "from sklearn.metrics import confusion_matrix\n",
    "import seaborn as sns\n",
    "import matplotlib.pyplot as plt  \n",
    "\n",
    "#have to convert true_values and pred_values from matrix to list\n",
    "y_true = []\n",
    "y_pred = []\n",
    "for i in range(len(true_values)):\n",
    "    y_true += list(true_values[i][1:])\n",
    "    y_pred += list(pred_values[i][1:])\n",
    "\n",
    "cm = confusion_matrix(y_true,y_pred)\n",
    "plt.matshow(cm)\n",
    "\n",
    "   \n",
    "\n",
    "ax= plt.subplot()\n",
    "sns.heatmap(cm, annot=True, fmt='g', ax=ax, cmap='ocean_r');  #annot=True to annotate cells, ftm='g' to disable scientific notation\n",
    "\n",
    "# labels, title and ticks\n",
    "ax.set_xlabel('Predicted labels')\n",
    "ax.set_ylabel('True labels')\n",
    "ax.set_title('Confusion Matrix')\n",
    "ax.xaxis.set_ticklabels(['Negative', 'Positive'])\n",
    "ax.yaxis.set_ticklabels(['Negative', 'Positive'])"
   ]
  },
  {
   "cell_type": "code",
   "execution_count": 40,
   "metadata": {},
   "outputs": [
    {
     "name": "stdout",
     "output_type": "stream",
     "text": [
      "Accuray: 0.78\n",
      "Precision: 0.52\n",
      "Recall: 0.60\n",
      "F1 score: 0.56\n"
     ]
    }
   ],
   "source": [
    "from sklearn.metrics import accuracy_score\n",
    "from sklearn.metrics import precision_score\n",
    "from sklearn.metrics import recall_score\n",
    "from sklearn.metrics import f1_score\n",
    "\n",
    "print(f'Accuray: {accuracy_score(y_true, y_pred):.2f}')\n",
    "print(f'Precision: {precision_score(y_true, y_pred):.2f}')\n",
    "print(f'Recall: {recall_score(y_true, y_pred):.2f}')\n",
    "print(f'F1 score: {f1_score(y_true, y_pred):.2f}')"
   ]
  },
  {
   "cell_type": "code",
   "execution_count": null,
   "metadata": {},
   "outputs": [],
   "source": []
  }
 ],
 "metadata": {
  "kernelspec": {
   "display_name": "Python 3.10.8 64-bit (microsoft store)",
   "language": "python",
   "name": "python3"
  },
  "language_info": {
   "codemirror_mode": {
    "name": "ipython",
    "version": 3
   },
   "file_extension": ".py",
   "mimetype": "text/x-python",
   "name": "python",
   "nbconvert_exporter": "python",
   "pygments_lexer": "ipython3",
   "version": "3.10.8"
  },
  "orig_nbformat": 4,
  "vscode": {
   "interpreter": {
    "hash": "8fc903fd1a35692d96a4695a6c4f7b57bb80f609b0147f9dc1e34250c7f2a3f2"
   }
  }
 },
 "nbformat": 4,
 "nbformat_minor": 2
}
