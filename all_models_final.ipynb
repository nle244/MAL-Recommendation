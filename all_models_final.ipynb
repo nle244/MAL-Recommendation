{
 "cells": [
  {
   "cell_type": "code",
   "execution_count": 4,
   "metadata": {},
   "outputs": [],
   "source": [
    "import pandas\n",
    "import numpy\n",
    "import csv\n",
    "import os\n",
    "import warnings\n",
    "from tqdm import tqdm\n",
    "from functions import *\n",
    "\n",
    "from pytest import skip\n",
    "\n",
    "df_user_info = pandas.read_csv('user_list_more_than_20.csv')\n",
    "df_anime_x = pandas.read_csv('top_and_bottom_anime.csv')\n",
    "df_anime_y = pandas.read_csv('anime_matrix_true.csv')\n",
    "\n",
    "#create main split for training and testing\n",
    "from sklearn.model_selection import train_test_split\n",
    "X_cross_train, X_cross_test, y_cross_train, y_cross_test = train_test_split(df_anime_x, df_anime_y, test_size=0.2, random_state=42)\n",
    "\n",
    "# #create cross training split for building the models\n",
    "# X_cross_train, X_cross_test, y_cross_train, y_cross_test = train_test_split(X_train, y_train, test_size=0.2, random_state=1080)"
   ]
  },
  {
   "cell_type": "code",
   "execution_count": 5,
   "metadata": {},
   "outputs": [],
   "source": [
    "#Same spits are performed again to create df_true to check accuracy \n",
    "#create main split for training and testing\n",
    "from sklearn.model_selection import train_test_split\n",
    "A_cross_train, A_cross_test, b_cross_train, b_cross_test = train_test_split(df_anime_y, df_anime_y, test_size=0.2, random_state=42)\n",
    "\n",
    "# #create cross training split for building the models\n",
    "# A_cross_train, A_cross_test, b_cross_train, b_cross_test = train_test_split(A_train, b_train, test_size=0.2, random_state=1080)\n",
    "\n",
    "df_true = A_cross_test.copy()"
   ]
  },
  {
   "cell_type": "code",
   "execution_count": 6,
   "metadata": {},
   "outputs": [
    {
     "name": "stderr",
     "output_type": "stream",
     "text": [
      "100%|██████████| 1/1 [00:09<00:00,  9.42s/it]\n"
     ]
    }
   ],
   "source": [
    "#knn\n",
    "#create user list\n",
    "watch_values = y_cross_train.values\n",
    "users = y_cross_train.columns[1:]\n",
    "\n",
    "#get rows of anime in the test list\n",
    "rows = X_cross_test['Id'].copy()\n",
    "\n",
    "#create watch list based on df_anime_y\n",
    "users_watched = []\n",
    "for i in (range(len(users))):\n",
    "    watched = []\n",
    "    for j in range(len(watch_values)):\n",
    "        if(watch_values[j][i+1]):\n",
    "            watched.append(str(watch_values[j][0]))\n",
    "    users_watched.append(watched)\n",
    "\n",
    "#compute all distances and dump to file\n",
    "#for Create_soup_selection choose all, or choose between studio, source, genre, va\n",
    "test = X_cross_test.copy()\n",
    "train = X_cross_train.copy()\n",
    "\n",
    "all_distances = []\n",
    "for j in (range(len(test))):\n",
    "    bag1 = Create_soup_selection(test.iloc[j],studio=False,source=True,genre=True,va=True).split()\n",
    "    distances = []\n",
    "    for i in range(len(train)):\n",
    "        bag2 = Create_soup_selection(train.iloc[i],studio=False,source=True,genre=True,va=True).split()\n",
    "        distances.append((train.iloc[i]['Id'].replace('\\'',''),Jaccard(list(bag1),list(bag2))))\n",
    "    Sort_Tuple(distances)\n",
    "    all_distances.append(distances)\n",
    "\n",
    "#KNN implementation\n",
    "\n",
    "#make empty prediction matrix\n",
    "#add anime Id column from 'rows'\n",
    "#for every user\n",
    "#   for each list of distances\n",
    "#       find value of sum and divide by k\n",
    "#       if sum / k is >= 0.5 predict 1, else predict 0\n",
    "#   append to list of predictions\n",
    "\n",
    "for knn in tqdm(range(11,12)):\n",
    "    neighbors = knn\n",
    "    prediction_result = []\n",
    "    for j in (range(len(users))):\n",
    "        col = users[j]\n",
    "        watched = users_watched[j]\n",
    "        predictions = []\n",
    "        for k in range(len(all_distances)):\n",
    "            distances = all_distances[k]\n",
    "            #compute the sum\n",
    "            neigh = []\n",
    "            for i in range(neighbors):\n",
    "                neigh.append(distances[i][0])\n",
    "            value = len(list(set(neigh).intersection(watched)))\n",
    "            if (value / neighbors) > 0.5:\n",
    "                predictions.append(1)\n",
    "            else:\n",
    "                predictions.append(0)\n",
    "        prediction_result.append(predictions)\n",
    "\n",
    "    #create df_predictions\n",
    "    warnings.simplefilter(action='ignore', category=pandas.errors.PerformanceWarning)\n",
    "    knn_predictions = pandas.DataFrame()\n",
    "    knn_predictions['Id'] = rows\n",
    "    for i in range(len(users)):\n",
    "        col = users[i]\n",
    "        knn_predictions[col] = prediction_result[i]"
   ]
  },
  {
   "cell_type": "code",
   "execution_count": 7,
   "metadata": {},
   "outputs": [
    {
     "name": "stderr",
     "output_type": "stream",
     "text": [
      "100%|██████████| 9028/9028 [00:01<00:00, 5846.07it/s]\n",
      "100%|██████████| 9028/9028 [05:16<00:00, 28.54it/s]\n",
      "100%|██████████| 112/112 [00:00<00:00, 7018.39it/s]\n",
      "100%|██████████| 9028/9028 [00:37<00:00, 240.80it/s]\n",
      "100%|██████████| 1/1 [00:00<00:00,  1.77it/s]\n"
     ]
    }
   ],
   "source": [
    "#items2items\n",
    "#create list of anime in test set \n",
    "test_anime = []\n",
    "for i in range(len(X_cross_test)):\n",
    "    test_anime.append(X_cross_test.iloc[i]['Id'].replace('\\'',''))\n",
    "\n",
    "#create user list\n",
    "watch_values = y_cross_train.values\n",
    "users = y_cross_train.columns[1:]\n",
    "\n",
    "#create watch list based on df_anime_y\n",
    "users_watched = []\n",
    "for i in tqdm(range(len(users))):\n",
    "    watched = []\n",
    "    for j in range(len(watch_values)):\n",
    "        if(watch_values[j][i+1]):\n",
    "            watched.append(str(watch_values[j][0]))\n",
    "    users_watched.append(watched)\n",
    "\n",
    "#read each user's watch list and creates a bag of words of all anime they watched\n",
    "user_bag_result = []\n",
    "length = len(users)\n",
    "\n",
    "for j in tqdm(range(length)):\n",
    "    # user = df_mini_watch_list.loc[j]['user']\n",
    "    watched = users_watched[j]\n",
    "    bag = ''\n",
    "    for k in range(len(watched)):\n",
    "        if watched[k] not in test_anime:\n",
    "            try:\n",
    "                temp = '\\'' + str(watched[k]) + '\\''\n",
    "                index = df_anime_x.loc[df_anime_x['Id'] == temp].index[0]\n",
    "                bag += ' ' + Create_soup_selection(df_anime_x.loc[index],studio=False,source=True,genre=True,va=True)\n",
    "            except:\n",
    "                pass\n",
    "    user_bag_result.append([users[j],bag])\n",
    "\n",
    "#creates a bag of words for each anime\n",
    "anime_bag_result = []\n",
    "for i in tqdm(range(len(X_cross_test))):\n",
    "    anime = X_cross_test.iloc[i]['Id'].replace('\\'','')\n",
    "    bag = Create_soup_selection(X_cross_test.iloc[i],studio=True,source=True,genre=True,va=False)\n",
    "    anime_bag_result.append([anime,bag])\n",
    "\n",
    "df_user_bag = pandas.DataFrame(user_bag_result, columns=['user','bag of words'])\n",
    "df_anime_bag = pandas.DataFrame(anime_bag_result, columns=['Id','bag of words'])\n",
    "\n",
    "#Creates similarity matrix of all anime for all users\n",
    "from sklearn.feature_extraction.text import CountVectorizer\n",
    "from sklearn.metrics.pairwise import cosine_similarity\n",
    "\n",
    "# df_user_bag = pandas.read_csv('users_bag_of_words_drop_va.csv')\n",
    "# df_anime_bag = pandas.read_csv('anime_bag_of_words_drop_va.csv')\n",
    "\n",
    "count = CountVectorizer()\n",
    "df_similarity = pandas.DataFrame()\n",
    "df_similarity = df_true[['Id']].copy()\n",
    "users = df_true.columns[1:]\n",
    "\n",
    "for i in tqdm(range(len(users))):     #skip first item b/c that is anime id\n",
    "    list_of_bag_of_words = [df_user_bag.loc[i]['bag of words']]\n",
    "\n",
    "    count_matrix = count.fit_transform(df_anime_bag['bag of words'])\n",
    "    try:\n",
    "        count_matrix2 = count.transform(list_of_bag_of_words)\n",
    "    except:\n",
    "        #if user has an empty bag give them a matix of zeros\n",
    "        count_matrix2 = count.transform(['a'])\n",
    "\n",
    "    cosine_sim2 = cosine_similarity(count_matrix, count_matrix2)\n",
    "    # sim_scores = list(enumerate(cosine_sim2))\n",
    "    sim_scores = []\n",
    "    for each in cosine_sim2:\n",
    "        sim_scores.append(each[0])\n",
    "    warnings.simplefilter(action='ignore', category=pandas.errors.PerformanceWarning)\n",
    "    df_similarity[users[i]] = sim_scores\n",
    "\n",
    "#Make predictions \n",
    "sim_val = df_similarity.values\n",
    "similarity_interval = [0.42]\n",
    "\n",
    "for i in tqdm(range(len(similarity_interval))):\n",
    "    predictions = []\n",
    "    for k in range(len(sim_val)):\n",
    "        prediction_row = [int(sim_val[k][0])]\n",
    "        for j in range(1,len(sim_val[k])):    #skip the first time b/c that is the anime Id\n",
    "            if sim_val[k][j] >= similarity_interval[i]:\n",
    "                prediction_row.append(1)\n",
    "            else: \n",
    "                prediction_row.append(0)\n",
    "        predictions.append(prediction_row)\n",
    "    string_val = str(similarity_interval[i]).replace('.','')\n",
    "    items2items_predictions = pandas.DataFrame(predictions, columns=df_true.columns)\n"
   ]
  },
  {
   "cell_type": "code",
   "execution_count": 8,
   "metadata": {},
   "outputs": [
    {
     "name": "stderr",
     "output_type": "stream",
     "text": [
      "100%|██████████| 9028/9028 [16:00<00:00,  9.39it/s]\n",
      "100%|██████████| 9028/9028 [00:12<00:00, 702.80it/s] \n"
     ]
    }
   ],
   "source": [
    "from sklearn.ensemble import AdaBoostClassifier\n",
    "from sklearn.model_selection import train_test_split\n",
    "from sklearn import preprocessing\n",
    "\n",
    "df_anime = pandas.read_csv('top_and_bottom_anime.csv')\n",
    "df_anime = df_anime.drop(columns='Id')\n",
    "df_anime = df_anime.drop(columns='Rating')\n",
    "df_anime = df_anime.drop(columns='Demographic')\n",
    "\n",
    "new = pandas.DataFrame()\n",
    "le = preprocessing.LabelEncoder()\n",
    "for i in range(df_anime.shape[1]):\n",
    "    temp = df_anime.iloc[:,i].values.tolist()\n",
    "    temp = le.fit_transform(temp)\n",
    "    new[df_anime.columns[i]] = temp\n",
    "\n",
    "df_predictions = pandas.DataFrame()\n",
    "df_predictions['Id'] = knn_predictions['Id'].copy()\n",
    "df_anime_y = pandas.read_csv('anime_matrix_true.csv')\n",
    "rows = df_anime_y[['Id']].copy()\n",
    "\n",
    "#make adaboost predictions\n",
    "columns = df_anime_y.columns\n",
    "predictions = []\n",
    "\n",
    "avg = []\n",
    "for i in tqdm(range(1,len(columns))):   #skip first item b/c it's anime Id\n",
    "    x = new\n",
    "    y = df_anime_y[columns[i]]\n",
    "    X_cross_train, X_cross_test, y_cross_train, y_cross_test = train_test_split(x,y,test_size=0.2, random_state=42)\n",
    "    \n",
    "    # #create cross training split for building the models\n",
    "    # X_cross_train, X_cross_test, y_cross_train, y_cross_test = train_test_split(x_train, y_train, test_size=0.2, random_state=1080)\n",
    "\n",
    "    adaboost = AdaBoostClassifier(n_estimators=75, random_state=42)\n",
    "    adaboost.fit(X_cross_train,y_cross_train)\n",
    "    avg.append(adaboost.score(X_cross_test,y_cross_test))\n",
    "    predictions.append(list(adaboost.predict(X_cross_test)))\n",
    "\n",
    "import warnings\n",
    "warnings.simplefilter(action='ignore', category=pandas.errors.PerformanceWarning)\n",
    "for i in tqdm(range(1,len(columns))):\n",
    "    df_predictions[columns[i]] = predictions[i-1]\n",
    "\n",
    "adaboost_predictions = df_predictions.copy()"
   ]
  },
  {
   "cell_type": "code",
   "execution_count": 9,
   "metadata": {},
   "outputs": [
    {
     "name": "stderr",
     "output_type": "stream",
     "text": [
      "100%|██████████| 9028/9028 [00:42<00:00, 213.63it/s]\n",
      "100%|██████████| 9028/9028 [00:12<00:00, 728.62it/s] \n"
     ]
    }
   ],
   "source": [
    "from sklearn import tree\n",
    "from sklearn.model_selection import train_test_split\n",
    "from sklearn import preprocessing\n",
    "\n",
    "df_anime = pandas.read_csv('top_and_bottom_anime.csv')\n",
    "df_anime = df_anime.drop(columns='Id')\n",
    "df_anime = df_anime.drop(columns='Rating')\n",
    "df_anime = df_anime.drop(columns='Demographic')\n",
    "\n",
    "new = pandas.DataFrame()\n",
    "le = preprocessing.LabelEncoder()\n",
    "for i in range(df_anime.shape[1]):\n",
    "    temp = df_anime.iloc[:,i].values.tolist()\n",
    "    temp = le.fit_transform(temp)\n",
    "    new[df_anime.columns[i]] = temp\n",
    "\n",
    "df_predictions = pandas.DataFrame()\n",
    "df_predictions['Id'] = knn_predictions['Id'].copy()\n",
    "df_anime_y = pandas.read_csv('anime_matrix_true.csv')\n",
    "rows = df_anime_y[['Id']].copy()\n",
    "\n",
    "#make adaboost predictions\n",
    "columns = df_anime_y.columns\n",
    "predictions = []\n",
    "\n",
    "avg = []\n",
    "for i in tqdm(range(1,len(columns))):   #skip first item b/c it's anime Id\n",
    "    x = new\n",
    "    y = df_anime_y[columns[i]]\n",
    "    X_cross_train, X_cross_test, y_cross_train, y_cross_test = train_test_split(x,y,test_size=0.2, random_state=42)\n",
    "    \n",
    "    # #create cross training split for building the models\n",
    "    # X_cross_train, X_cross_test, y_cross_train, y_cross_test = train_test_split(x_train, y_train, test_size=0.2, random_state=1080)\n",
    "\n",
    "\n",
    "    randomforest = tree.DecisionTreeClassifier()\n",
    "    randomforest.fit(X_cross_train,y_cross_train)\n",
    "    avg.append(randomforest.score(X_cross_test,y_cross_test))\n",
    "    predictions.append(list(randomforest.predict(X_cross_test)))\n",
    "\n",
    "import warnings\n",
    "warnings.simplefilter(action='ignore', category=pandas.errors.PerformanceWarning)\n",
    "for i in tqdm(range(1,len(columns))):\n",
    "    df_predictions[columns[i]] = predictions[i-1]\n",
    "\n",
    "randomforest_predictions = df_predictions.copy()"
   ]
  },
  {
   "cell_type": "code",
   "execution_count": 10,
   "metadata": {},
   "outputs": [],
   "source": [
    "import pickle\n",
    "\n",
    "file = open('similarity_matrix.p', 'wb')\n",
    "pickle.dump(knn_predictions,open('knn_predictions_final.p','wb'))\n",
    "pickle.dump(items2items_predictions,open('items2items_predictions_final.p','wb'))\n",
    "pickle.dump(adaboost_predictions,open('adaboost_predictions_final.p','wb'))\n",
    "pickle.dump(randomforest_predictions,open('randomforest_predictions_final.p','wb'))"
   ]
  },
  {
   "cell_type": "code",
<<<<<<< HEAD
   "execution_count": 3,
=======
   "execution_count": 11,
>>>>>>> b896bc10c40336765e4351a65d57e9e0cad04447
   "metadata": {},
   "outputs": [],
   "source": [
    "import pickle\n",
    "\n",
    "file = open('similarity_matrix.p', 'wb')\n",
    "knn_predictions = pickle.load(open('knn_predictions_final.p','rb'))\n",
    "items2items_predictions = pickle.load(open('items2items_predictions_final.p','rb'))\n",
    "adaboost_predictions = pickle.load(open('adaboost_predictions_final.p','rb'))\n",
    "randomforest_predictions = pickle.load(open('randomforest_predictions_final.p','rb'))"
   ]
  },
  {
   "cell_type": "code",
<<<<<<< HEAD
   "execution_count": 22,
=======
   "execution_count": 12,
>>>>>>> b896bc10c40336765e4351a65d57e9e0cad04447
   "metadata": {},
   "outputs": [],
   "source": [
    "knn_val = knn_predictions.values\n",
    "items2items_val = items2items_predictions.values\n",
    "adaboost_val = adaboost_predictions.values\n",
    "randomforest_val = randomforest_predictions.values\n",
    "vote_threshold = 1\n",
    "\n",
    "row = len(knn_val)\n",
    "col = len(knn_val[0])\n",
    "predictions_list = []\n",
    "\n",
    "for i in range(row):\n",
    "    prediction = [knn_val[i][0]]\n",
    "    for j in range(1,col):      #skip first item b/c that is anime Id\n",
    "        vote = knn_val[i][j] + items2items_val[i][j]*0 + adaboost_val[i][j] + randomforest_val[i][j]*0\n",
    "        if vote >= vote_threshold:\n",
    "            prediction.append(1)\n",
    "        else:\n",
    "            prediction.append(0)\n",
    "    predictions_list.append(prediction)\n",
    "\n",
    "bagging_predctions = pandas.DataFrame(predictions_list,columns=df_true.columns)"
   ]
  },
  {
   "cell_type": "code",
<<<<<<< HEAD
   "execution_count": 23,
=======
   "execution_count": 21,
>>>>>>> b896bc10c40336765e4351a65d57e9e0cad04447
   "metadata": {},
   "outputs": [
    {
     "name": "stderr",
     "output_type": "stream",
     "text": [
<<<<<<< HEAD
      "100%|██████████| 112/112 [00:00<00:00, 143.09it/s]"
=======
      "100%|██████████| 112/112 [00:01<00:00, 78.80it/s]"
>>>>>>> b896bc10c40336765e4351a65d57e9e0cad04447
     ]
    },
    {
     "name": "stdout",
     "output_type": "stream",
     "text": [
      "Total predictions: 1011136\n",
      "Total Positives: 244844\n",
      "Correct predictions: 801641\n",
      "Predicted watch: 274075\n",
      "True watched: 244844\n",
      "True positive: 154712\n",
      "True negative: 646929\n",
      "False negative: 90132\n",
      "Null Error Rate:  75.79\n",
      "False positive: 119363\n",
      "Percent correct:  79.28%\n",
      "Precision:  0.56\n",
<<<<<<< HEAD
      "Recall:  0.64\n",
      "F1 Score:  0.60\n"
=======
      "Recall:  0.63\n"
>>>>>>> b896bc10c40336765e4351a65d57e9e0cad04447
     ]
    },
    {
     "name": "stderr",
     "output_type": "stream",
     "text": [
      "\n"
     ]
    }
   ],
   "source": [
    "#caluclate accuracy\n",
    "correct = 0\n",
    "# prediction_matrix = pandas.read_csv('items2items_sim_variable.csv')\n",
    "pred_values = bagging_predctions.values\n",
    "true_values = df_true.values\n",
    "predict_watch = 0\n",
    "true_watch = 0\n",
    "true_pos = 0\n",
    "true_neg = 0\n",
    "false_pos = 0\n",
    "false_neg = 0\n",
    "positive = 0\n",
    "null = 0\n",
    "\n",
    "num_row = len(pred_values)\n",
    "num_col = len(pred_values[0])\n",
    "for i in tqdm(range(num_row)):\n",
    "    for j in range(1,num_col):          #first item is the anime id, so we skip it\n",
    "        if pred_values[i,j] == true_values[i,j]:\n",
    "            correct += 1\n",
    "        if pred_values[i,j] == 1:\n",
    "            predict_watch += 1\n",
    "            if true_values[i,j] == 1:\n",
    "                true_pos += 1\n",
    "                true_watch += 1\n",
    "            else:\n",
    "                false_pos += 1\n",
    "\n",
    "        if pred_values[i,j] == 0:\n",
    "            if true_values[i,j] == 0:\n",
    "                true_neg += 1\n",
    "            else:\n",
    "                false_neg += 1\n",
    "                true_watch += 1\n",
    "        \n",
    "        if true_values[i,j] == 1:\n",
    "            positive += 1\n",
    "\n",
    "        if 0 == true_values[i,j]:\n",
    "            null += 1\n",
    "        \n",
    "\n",
    "#subtracting 1 from column length b/c the first item is the anime id\n",
    "percent = (correct / ((num_row) * (num_col-1)))\n",
    "total = (num_row) * (num_col-1)\n",
    "\n",
    "precision = (true_pos / (true_pos + false_pos))\n",
    "recall = (true_pos / (true_pos + false_neg))\n",
    "f1_score = (2*(precision * recall)) / (precision + recall)\n",
    "\n",
    "print(f'Total predictions: {total}')\n",
    "print(f'Total Positives: {positive}')\n",
    "print(f'Correct predictions: {correct}')\n",
    "\n",
    "print(f'Predicted watch: {predict_watch}')\n",
    "print(f'True watched: {true_watch}')\n",
    "print(f'True positive: {true_pos}')\n",
    "print(f'True negative: {true_neg}')\n",
    "print(f'False negative: {false_neg}')\n",
    "print(f'Null Error Rate: {(null / total)*100: .2f}')\n",
    "print(f'False positive: {false_pos}')\n",
    "print(f'Percent correct: {percent * 100: .2f}%')\n",
    "print(f'Precision: {precision: .2f}')\n",
    "print(f'Recall: {recall: .2f}')\n",
    "print(f'F1 Score: {f1_score: .2f}')"
   ]
  },
  {
   "cell_type": "code",
<<<<<<< HEAD
   "execution_count": 13,
   "metadata": {},
   "outputs": [],
   "source": [
    "models = ['Knn', 'Items2Items', 'Adaboost', 'Bagging']\n",
    "models_acc = []\n",
    "models_precision = []\n",
    "models_recall = []\n",
    "models_f1 = []"
   ]
  },
  {
   "cell_type": "code",
   "execution_count": 25,
   "metadata": {},
   "outputs": [],
   "source": [
    "models_acc.append(percent)\n",
    "models_precision.append(precision)\n",
    "models_recall.append(recall)\n",
    "models_f1.append(f1_score)"
   ]
  },
  {
   "cell_type": "code",
   "execution_count": 26,
   "metadata": {},
   "outputs": [
    {
=======
   "execution_count": 22,
   "metadata": {},
   "outputs": [
    {
     "name": "stderr",
     "output_type": "stream",
     "text": [
      "C:\\Users\\MSI Laptop\\AppData\\Local\\Temp\\ipykernel_43808\\678633288.py:17: MatplotlibDeprecationWarning: Auto-removal of overlapping axes is deprecated since 3.6 and will be removed two minor releases later; explicitly call ax.remove() as needed.\n",
      "  ax= plt.subplot()\n"
     ]
    },
    {
>>>>>>> b896bc10c40336765e4351a65d57e9e0cad04447
     "data": {
      "text/plain": [
       "[0.5365530027208147,\n",
       " 0.39238063148025387,\n",
       " 0.5485870355080306,\n",
       " 0.6003011180294897]"
      ]
     },
<<<<<<< HEAD
     "execution_count": 26,
=======
     "execution_count": 22,
>>>>>>> b896bc10c40336765e4351a65d57e9e0cad04447
     "metadata": {},
     "output_type": "execute_result"
    }
   ],
   "source": [
    "models_f1"
   ]
  },
  {
   "cell_type": "code",
   "execution_count": 31,
   "metadata": {},
   "outputs": [
    {
     "data": {
<<<<<<< HEAD
      "image/png": "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",
=======
      "image/png": "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",
>>>>>>> b896bc10c40336765e4351a65d57e9e0cad04447
      "text/plain": [
       "<Figure size 1000x500 with 1 Axes>"
      ]
     },
     "metadata": {},
     "output_type": "display_data"
    }
   ],
   "source": [
    "import matplotlib.pyplot as plt\n",
    "import numpy as np\n",
    "\n",
    "\n",
    "x = np.arange(len(models))  # the label locations\n",
    "width = 0.20  # the width of the bars\n",
    "\n",
    "fig, ax = plt.subplots()\n",
    "rects1 = ax.bar(x - width, models_acc, width, label='Accuracy')\n",
    "rects2 = ax.bar(x, models_precision, width, label='Precision')\n",
    "rects3 = ax.bar(x + width, models_recall, width, label='Recall')\n",
    "rects4 = ax.bar(x + width*2, models_f1, width, label='F1 Score')\n",
    "\n",
    "# Add some text for labels, title and custom x-axis tick labels, etc.\n",
    "ax.set_ylabel('Scores')\n",
    "ax.set_xlabel('Models')\n",
    "ax.set_title('Testing Results')\n",
    "ax.set_xticks(x, models)\n",
    "ax.legend(loc='lower right')\n",
    "\n",
    "ax.bar_label(rects1, fmt='%.2f', padding=3)\n",
    "ax.bar_label(rects2, fmt='%.2f', padding=3)\n",
    "ax.bar_label(rects3, fmt='%.2f', padding=3)\n",
    "ax.bar_label(rects4, fmt='%.2f', padding=3)\n",
    "\n",
    "fig.set_size_inches(10,5)\n",
    "fig.tight_layout()\n",
    "\n",
    "plt.show()"
   ]
  },
  {
   "cell_type": "code",
   "execution_count": 1,
   "metadata": {},
   "outputs": [
    {
     "ename": "NameError",
     "evalue": "name 'true_values' is not defined",
     "output_type": "error",
     "traceback": [
      "\u001b[1;31m---------------------------------------------------------------------------\u001b[0m",
      "\u001b[1;31mNameError\u001b[0m                                 Traceback (most recent call last)",
      "Cell \u001b[1;32mIn [1], line 8\u001b[0m\n\u001b[0;32m      6\u001b[0m y_true \u001b[39m=\u001b[39m []\n\u001b[0;32m      7\u001b[0m y_pred \u001b[39m=\u001b[39m []\n\u001b[1;32m----> 8\u001b[0m \u001b[39mfor\u001b[39;00m i \u001b[39min\u001b[39;00m \u001b[39mrange\u001b[39m(\u001b[39mlen\u001b[39m(true_values)):\n\u001b[0;32m      9\u001b[0m     y_true \u001b[39m+\u001b[39m\u001b[39m=\u001b[39m \u001b[39mlist\u001b[39m(true_values[i][\u001b[39m1\u001b[39m:])\n\u001b[0;32m     10\u001b[0m     y_pred \u001b[39m+\u001b[39m\u001b[39m=\u001b[39m \u001b[39mlist\u001b[39m(pred_values[i][\u001b[39m1\u001b[39m:])\n",
      "\u001b[1;31mNameError\u001b[0m: name 'true_values' is not defined"
     ]
    }
   ],
   "source": [
    "from sklearn.metrics import confusion_matrix\n",
    "import seaborn as sns\n",
    "import matplotlib.pyplot as plt  \n",
    "\n",
    "#have to convert true_values and pred_values from matrix to list\n",
    "y_true = []\n",
    "y_pred = []\n",
    "for i in range(len(true_values)):\n",
    "    y_true += list(true_values[i][1:])\n",
    "    y_pred += list(pred_values[i][1:])\n",
    "\n",
    "cm = confusion_matrix(y_true,y_pred)\n",
    "plt.matshow(cm)\n",
    "\n",
    "   \n",
    "\n",
    "ax= plt.subplot()\n",
    "sns.heatmap(cm, annot=True, fmt='g', ax=ax, cmap='ocean_r');  #annot=True to annotate cells, ftm='g' to disable scientific notation\n",
    "\n",
    "# labels, title and ticks\n",
    "ax.set_xlabel('Predicted labels')\n",
    "ax.set_ylabel('True labels')\n",
    "ax.set_title('Confusion Matrix')\n",
    "ax.xaxis.set_ticklabels(['Negative', 'Positive'])\n",
    "ax.yaxis.set_ticklabels(['Negative', 'Positive'])"
   ]
  },
  {
   "cell_type": "code",
   "execution_count": 23,
   "metadata": {},
   "outputs": [
    {
     "name": "stdout",
     "output_type": "stream",
     "text": [
      "Accuray: 0.79\n",
      "Precision: 0.56\n",
      "Recall: 0.63\n",
      "F1 score: 0.60\n"
     ]
    }
   ],
   "source": [
    "from sklearn.metrics import accuracy_score\n",
    "from sklearn.metrics import precision_score\n",
    "from sklearn.metrics import recall_score\n",
    "from sklearn.metrics import f1_score\n",
    "\n",
    "print(f'Accuray: {accuracy_score(y_true, y_pred):.2f}')\n",
    "print(f'Precision: {precision_score(y_true, y_pred):.2f}')\n",
    "print(f'Recall: {recall_score(y_true, y_pred):.2f}')\n",
    "print(f'F1 score: {f1_score(y_true, y_pred):.2f}')"
   ]
  }
 ],
 "metadata": {
  "kernelspec": {
   "display_name": "Python 3.9.13 64-bit (microsoft store)",
   "language": "python",
   "name": "python3"
  },
  "language_info": {
   "codemirror_mode": {
    "name": "ipython",
    "version": 3
   },
   "file_extension": ".py",
   "mimetype": "text/x-python",
   "name": "python",
   "nbconvert_exporter": "python",
   "pygments_lexer": "ipython3",
   "version": "3.9.13"
  },
  "orig_nbformat": 4,
  "vscode": {
   "interpreter": {
    "hash": "3ab5f0538989203499ae8c09796501035f37df75f796f45e9c3b3f0fac523391"
   }
  }
 },
 "nbformat": 4,
 "nbformat_minor": 2
}
