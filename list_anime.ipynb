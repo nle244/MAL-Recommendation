{
 "cells": [
  {
   "cell_type": "code",
   "execution_count": 4,
   "metadata": {},
   "outputs": [],
   "source": [
    "import pandas\n",
    "import csv\n",
    "import os\n",
    "from tqdm import tqdm\n",
    "\n",
    "from pytest import skip\n",
    "\n",
    "\n",
    "df_user_info = pandas.read_csv('user_watch_list_more_than_20.csv')\n",
    "df_anime = pandas.read_csv('new_anime.csv')\n",
    "df_anime_test = pandas.read_csv('anime_test.csv')"
   ]
  },
  {
   "cell_type": "code",
   "execution_count": 12,
   "metadata": {},
   "outputs": [],
   "source": [
    "#create list of anime in test set \n",
    "test_anime = []\n",
    "for i in range(len(df_anime_test)):\n",
    "    test_anime.append(df_anime_test.loc[i]['Id'].replace('\\'',''))\n"
   ]
  },
  {
   "cell_type": "code",
   "execution_count": null,
   "metadata": {},
   "outputs": [],
   "source": [
    "#creates bag of words with all features\n",
    "def create_soup(x):\n",
    "    result = x['Anime Title']\n",
    "\n",
    "    if x['Studio'] != 'n/a':\n",
    "        result += ' ' + x['Studio']\n",
    "    if x['Source Material'] != 'n/a':\n",
    "        result += ' ' + x['Source Material']\n",
    "    if x['Genre'] != 'n/a':\n",
    "        result += ' ' + x['Genre']\n",
    "    if x['VAs'] != 'n/a':\n",
    "        result += ' ' + x['VAs']\n",
    "\n",
    "    punc = '[],\\'\\\"'\n",
    "    \n",
    "    for ele in result:\n",
    "        if ele in punc:\n",
    "            result = result.replace(ele, \"\")\n",
    "\n",
    "    result\n",
    "    return result"
   ]
  },
  {
   "cell_type": "code",
   "execution_count": null,
   "metadata": {},
   "outputs": [],
   "source": [
    "#creates bag of words with reduced features\n",
    "def create_soup_reduced(x):\n",
    "    result = x['Anime Title']\n",
    "\n",
    "    if x['Studio'] != 'n/a':\n",
    "        result += ' ' + x['Studio']\n",
    "    # if x['Source Material'] != 'n/a':\n",
    "    #     result += ' ' + x['Source Material']\n",
    "    if x['Genre'] != 'n/a':\n",
    "        result += ' ' + x['Genre']\n",
    "    # if x['VAs'] != 'n/a':\n",
    "    #     result += ' ' + x['VAs']\n",
    "\n",
    "    punc = '[],\\'\\\"'\n",
    "    \n",
    "    for ele in result:\n",
    "        if ele in punc:\n",
    "            result = result.replace(ele, \"\")\n",
    "\n",
    "    result\n",
    "    return result"
   ]
  },
  {
   "cell_type": "code",
   "execution_count": null,
   "metadata": {},
   "outputs": [],
   "source": [
    "#creates bag of words with reduced features\n",
    "def create_soup_genres(x):\n",
    "    result = x['Anime Title']\n",
    "\n",
    "    # if x['Studio'] != 'n/a':\n",
    "    #     result += ' ' + x['Studio']\n",
    "    # if x['Source Material'] != 'n/a':\n",
    "    #     result += ' ' + x['Source Material']\n",
    "    if x['Genre'] != 'n/a':\n",
    "        result += ' ' + x['Genre']\n",
    "    # if x['VAs'] != 'n/a':\n",
    "    #     result += ' ' + x['VAs']\n",
    "\n",
    "    punc = '[],\\'\\\"'\n",
    "    \n",
    "    for ele in result:\n",
    "        if ele in punc:\n",
    "            result = result.replace(ele, \"\")\n",
    "\n",
    "    result\n",
    "    return result"
   ]
  },
  {
   "cell_type": "code",
   "execution_count": null,
   "metadata": {},
   "outputs": [],
   "source": [
    "#creates bag of words as a set\n",
    "def create_soup_set(x):\n",
    "    result = x['Anime Title']\n",
    "\n",
    "    if x['Studio'] != 'n/a':\n",
    "        result += ' ' + x['Studio']\n",
    "    if x['Source Material'] != 'n/a':\n",
    "        result += ' ' + x['Source Material']\n",
    "    if x['Genre'] != 'n/a':\n",
    "        result += ' ' + x['Genre']\n",
    "    if x['VAs'] != 'n/a':\n",
    "        result += ' ' + x['VAs']\n",
    "\n",
    "    punc = '[],\\'\\\"'\n",
    "    \n",
    "    for ele in result:\n",
    "        if ele in punc:\n",
    "            result = result.replace(ele, \"\")\n",
    "\n",
    "    result = set(result.split())\n",
    "    return result"
   ]
  },
  {
   "cell_type": "code",
   "execution_count": null,
   "metadata": {},
   "outputs": [],
   "source": [
    "#read each user's watch list and creates a bag of words of all anime they watched\n",
    "result = []\n",
    "length = len(df_user_info)\n",
    "\n",
    "# text = 34156\n",
    "# print(text)\n",
    "# print(create_soup(df_anime.loc[df_anime['Id'] == text.index[0]]))\n",
    "\n",
    "for j in tqdm(range(length)):\n",
    "    try:\n",
    "        user = df_user_info.loc[j]['user']\n",
    "        watched = (df_user_info.loc[j]['watched list']).split()\n",
    "        bag = ''\n",
    "        for k in range(len(watched)):\n",
    "            if watched[k] not in test_anime:\n",
    "                try:\n",
    "                    temp = '\\'' + watched[k] + '\\''\n",
    "                    index = df_anime.loc[df_anime['Id'] == temp].index[0]\n",
    "                    bag += ' ' + create_soup_genres(df_anime.loc[index])\n",
    "                except:\n",
    "                    pass\n",
    "    except:\n",
    "        pass\n",
    "    result.append([user,bag])"
   ]
  },
  {
   "cell_type": "code",
   "execution_count": null,
   "metadata": {},
   "outputs": [],
   "source": [
    "print(result[2])"
   ]
  },
  {
   "cell_type": "code",
   "execution_count": null,
   "metadata": {},
   "outputs": [],
   "source": [
    "outputdf = pandas.DataFrame(result, columns=['user','bag of words'])\n",
    "outputdf.to_csv('users_bag_of_words_genres.csv', index=False)"
   ]
  },
  {
   "cell_type": "code",
   "execution_count": null,
   "metadata": {},
   "outputs": [],
   "source": [
    "#read each user's watch list and creates a bag of words of all anime they watched\n",
    "def make_bag(func):\n",
    "    result = []\n",
    "    length = len(df_user_info)\n",
    "\n",
    "    # text = 34156\n",
    "    # print(text)\n",
    "    # print(create_soup(df_anime.loc[df_anime['Id'] == text.index[0]]))\n",
    "\n",
    "    for j in range(1):\n",
    "        try:\n",
    "            user = df_user_info.loc[j]['user']\n",
    "            watched = (df_user_info.loc[j]['watched list']).split()\n",
    "            bag = ''\n",
    "            for k in range(len(watched)):\n",
    "                if watched[k] not in test_anime:\n",
    "                    try:\n",
    "                        temp = '\\'' + watched[k] + '\\''\n",
    "                        index = df_anime.loc[df_anime['Id'] == temp].index[0]\n",
    "                        bag += ' ' + func(df_anime.loc[index])\n",
    "                        print(bag)\n",
    "                    except:\n",
    "                        pass\n",
    "        except:\n",
    "            pass\n",
    "        result.append([user,bag])\n",
    "    return result"
   ]
  },
  {
   "cell_type": "code",
   "execution_count": null,
   "metadata": {},
   "outputs": [],
   "source": [
    "#create empty dataframe\n",
    "header = ['anime']\n",
    "for i in range(len(df_user_info)):\n",
    "    header.append(df_user_info.loc[i]['user'])\n",
    "\n",
    "result = []\n",
    "for i in range(len(df_anime)):\n",
    "    row = [df_anime.loc[i]['Id'].replace('\\'','')]\n",
    "    for j in range(len(df_user_info)):\n",
    "        row.append(0)\n",
    "    result.append(row)\n",
    "\n"
   ]
  },
  {
   "cell_type": "code",
   "execution_count": null,
   "metadata": {},
   "outputs": [],
   "source": [
    "print(result[0])"
   ]
  },
  {
   "cell_type": "code",
   "execution_count": null,
   "metadata": {},
   "outputs": [],
   "source": [
    "outputdf = pandas.DataFrame(result, columns=header)\n",
    "outputdf.to_csv('anime_matrix.csv', index=False)"
   ]
  },
  {
   "cell_type": "code",
   "execution_count": null,
   "metadata": {},
   "outputs": [],
   "source": [
    "df_matrix = pandas.read_csv('anime_matrix.csv')\n",
    "\n",
    "print(df_matrix.head())"
   ]
  },
  {
   "cell_type": "code",
   "execution_count": null,
   "metadata": {},
   "outputs": [],
   "source": [
    "#fills in the true values for each anime based on user's watch list\n",
    "u = []\n",
    "for i in range(len(df_user_info)):\n",
    "    u.append(df_user_info.loc[i]['user'])\n",
    "    \n",
    "for j in tqdm(range(len(u))):\n",
    "    try:\n",
    "        w = df_user_info.loc[j][\"watched list\"].split()\n",
    "        for i in range(len(df_anime)):\n",
    "            # print(df_matrix.at[i,'ilampan'])\n",
    "            if df_anime.loc[i]['Id'].replace('\\'','') in w:\n",
    "                df_matrix.at[i,u[j]] = 1\n",
    "    except:\n",
    "        pass\n",
    "\n",
    "# print(df_matrix.at[0,'ilampan'])\n",
    "\n"
   ]
  },
  {
   "cell_type": "code",
   "execution_count": null,
   "metadata": {},
   "outputs": [],
   "source": [
    "temp = df_user_info.loc[0][\"watched list\"].split()\n",
    "print(temp[0])"
   ]
  },
  {
   "cell_type": "code",
   "execution_count": null,
   "metadata": {},
   "outputs": [],
   "source": [
    "anime = []\n",
    "for i in range(len(df_anime)):\n",
    "    anime.append(df_anime.loc[i]['Id'])\n",
    "\n",
    "users_watched = []\n",
    "header = ['anime']\n",
    "for i in range(len(df_user_info)):\n",
    "    header.append(df_user_info.loc[i]['user'])\n",
    "    try:\n",
    "        users_watched.append(df_user_info.loc[i][\"watched list\"].split())\n",
    "    except:\n",
    "        users_watched.append([])    #append empty list if the user has no watch list\n"
   ]
  },
  {
   "cell_type": "code",
   "execution_count": null,
   "metadata": {},
   "outputs": [],
   "source": [
    "#creates anime watched true values\n",
    "result = []\n",
    "for i in tqdm(range(len(anime))):\n",
    "    id = anime[i].replace('\\'','')\n",
    "    temp = [id]\n",
    "    for j in range(len(users_watched)):\n",
    "        if id in users_watched[j]:\n",
    "            temp.append(1)\n",
    "        else:\n",
    "            temp.append(0)\n",
    "    result.append(temp)"
   ]
  },
  {
   "cell_type": "code",
   "execution_count": null,
   "metadata": {},
   "outputs": [],
   "source": [
    "print((header[1]))"
   ]
  },
  {
   "cell_type": "code",
   "execution_count": null,
   "metadata": {},
   "outputs": [],
   "source": [
    "outputdf = pandas.DataFrame(result, columns=header)\n",
    "outputdf.to_csv('anime_matrix_true.csv', index=False)"
   ]
  },
  {
   "cell_type": "code",
   "execution_count": 5,
   "metadata": {},
   "outputs": [],
   "source": [
    "df_temp = pandas.read_csv('anime_matrix_true.csv')"
   ]
  },
  {
   "cell_type": "code",
   "execution_count": null,
   "metadata": {},
   "outputs": [],
   "source": [
    "#spot checking for anime matrix true\n",
    "# out = []\n",
    "# for i in range(len(df_anime)):\n",
    "#     out.append(df_matrix.at[i,'Manzerek'])\n",
    "\n",
    "# print(out)\n",
    "print(df_matrix.loc[4163]['anime'])\n",
    "print(df_matrix.at[4163,'clouds88'])\n"
   ]
  },
  {
   "cell_type": "code",
   "execution_count": null,
   "metadata": {},
   "outputs": [],
   "source": [
    "df_matrix.to_csv('anime_matrix_temp.csv', index=False)"
   ]
  },
  {
   "cell_type": "code",
   "execution_count": null,
   "metadata": {},
   "outputs": [],
   "source": [
    "#read each user's watch list and creates a bag of words of all anime they watched\n",
    "result = []\n",
    "length = len(df_user_info)\n",
    "\n",
    "# text = 34156\n",
    "# print(text)\n",
    "# print(create_soup(df_anime.loc[df_anime['Id'] == text.index[0]]))\n",
    "\n",
    "for j in tqdm(range(length)):\n",
    "    try:\n",
    "        user = df_user_info.loc[j]['user']\n",
    "        watched = (df_user_info.loc[j]['watched list']).split()\n",
    "        bag = ''\n",
    "        for k in range(len(watched)):\n",
    "            if watched[k] not in test_anime:\n",
    "                try:\n",
    "                    temp = '\\'' + watched[k] + '\\''\n",
    "                    index = df_anime.loc[df_anime['Id'] == temp].index[0]\n",
    "                    bag += ' ' + create_soup_reduced(df_anime.loc[index])\n",
    "                except:\n",
    "                    pass\n",
    "    except:\n",
    "        pass\n",
    "    result.append([user,bag])"
   ]
  },
  {
   "cell_type": "code",
   "execution_count": null,
   "metadata": {},
   "outputs": [],
   "source": [
    "outputdf = pandas.DataFrame(result, columns=['user','bag of words'])\n",
    "outputdf.to_csv('users_bag_of_words_reduced.csv', index=False)"
   ]
  },
  {
   "cell_type": "code",
   "execution_count": null,
   "metadata": {},
   "outputs": [],
   "source": [
    "wa = df_user_info.loc[2]['watched list'].split()\n",
    "\n",
    "bag = ''\n",
    "for i in tqdm(range(len(wa))):\n",
    "    if wa[i] not in test_anime:\n",
    "        try:\n",
    "            temp = '\\'' + wa[i] + '\\''\n",
    "            index = df_anime.loc[df_anime['Id'] == temp].index[0]\n",
    "            bag += ' ' + create_soup(df_anime.loc[index])\n",
    "        except:\n",
    "            pass\n",
    "\n"
   ]
  },
  {
   "cell_type": "code",
   "execution_count": 14,
   "metadata": {},
   "outputs": [],
   "source": [
    "#X is the list of anime found in df_anime\n",
    "#y is if the the user watched the anime or not\n",
    "\n",
    "df_anime_x = pandas.read_csv('anime_train.csv')\n",
    "df_anime_y = pandas.read_csv('anime_matrix_true.csv')\n"
   ]
  },
  {
   "cell_type": "code",
   "execution_count": 13,
   "metadata": {},
   "outputs": [
    {
     "name": "stdout",
     "output_type": "stream",
     "text": [
      "Index(['anime', 'ilampan', 'Zephyyr', 'Alister-Dark', 'AMechaDegenarate',\n",
      "       'Matthew_Myers', 'eezairi', 'Neji4460', 'Aguena_Jun', 'andrzejszczelba',\n",
      "       ...\n",
      "       'Jaxelar', 'BitSneakySvenpai', 'PeelyPeelyBoi', 'Tray1990', 'Kilax',\n",
      "       'Darkidda', 'chidoriP', 'snepback', 'Prism8Azure', 'urban_orange'],\n",
      "      dtype='object', length=9242)\n"
     ]
    }
   ],
   "source": [
    "print(df_anime_y.columns)"
   ]
  },
  {
   "cell_type": "code",
   "execution_count": 54,
   "metadata": {},
   "outputs": [],
   "source": [
    "#creates bag of words with selected features\n",
    "def create_soup_selection(x,studio=False,source=False,genre=False,va=False,all=False):\n",
    "    result = x['Anime Title']\n",
    "\n",
    "    if x['Studio'] != 'n/a' and (studio or all):\n",
    "        result += ' ' + x['Studio']\n",
    "    if x['Source Material'] != 'n/a' and (source or all):\n",
    "        result += ' ' + x['Source Material']\n",
    "    if x['Genre'] != 'n/a' and (genre or all):\n",
    "        result += ' ' + x['Genre']\n",
    "    if x['VAs'] != 'n/a' and (va or all):\n",
    "        result += ' ' + x['VAs']\n",
    "\n",
    "    punc = '[],\\'\\\"'\n",
    "    \n",
    "    for ele in result:\n",
    "        if ele in punc:\n",
    "            result = result.replace(ele, \"\")\n",
    "\n",
    "    result\n",
    "    return result\n",
    "\n",
    "def Sort_Tuple(tup):\n",
    "    # getting length of list of tuples\n",
    "    lst = len(tup)\n",
    "    for i in range(0, lst):\n",
    "            \n",
    "        for j in range(0, lst-i-1):\n",
    "            if (tup[j][1] < tup[j + 1][1]):\n",
    "                temp = tup[j]\n",
    "                tup[j]= tup[j + 1]\n",
    "                tup[j + 1]= temp\n",
    "    return tup"
   ]
  },
  {
   "cell_type": "code",
   "execution_count": 15,
   "metadata": {},
   "outputs": [
    {
     "name": "stdout",
     "output_type": "stream",
     "text": [
      "(3499, 8)\n",
      "(3499, 9242)\n"
     ]
    }
   ],
   "source": [
    "df_anime_y.drop(df_anime_y.tail(876).index,inplace=True)\n",
    "\n",
    "print(df_anime_x.shape)\n",
    "print(df_anime_y.shape)"
   ]
  },
  {
   "cell_type": "code",
   "execution_count": 16,
   "metadata": {},
   "outputs": [],
   "source": [
    "from sklearn.model_selection import train_test_split\n",
    "\n",
    "X_train, X_test, y_train, y_test = train_test_split(df_anime_x, df_anime_y, test_size=0.2, random_state=42)"
   ]
  },
  {
   "cell_type": "code",
   "execution_count": 17,
   "metadata": {},
   "outputs": [
    {
     "name": "stderr",
     "output_type": "stream",
     "text": [
      "100%|██████████| 9241/9241 [02:41<00:00, 57.39it/s]\n"
     ]
    }
   ],
   "source": [
    "#create user list\n",
    "users = []\n",
    "for i in range(len(df_user_info)):\n",
    "    users.append(df_user_info.loc[i]['user'])\n",
    "\n",
    "#create watch list based on df_anime_y\n",
    "result = []\n",
    "for j in tqdm(range(len(users))):\n",
    "    watched = ''\n",
    "    for i in range(len(df_anime_y)):\n",
    "        if (df_anime_y.at[i,users[j]]):\n",
    "            watched += str(df_anime_y.loc[i]['Id']) + ' '\n",
    "    result.append([users[j],watched])"
   ]
  },
  {
   "cell_type": "code",
   "execution_count": 19,
   "metadata": {},
   "outputs": [
    {
     "name": "stdout",
     "output_type": "stream",
     "text": [
      "<bound method NDFrame.head of          Id  ilampan  Zephyyr  Alister-Dark  AMechaDegenarate  Matthew_Myers  \\\n",
      "1650  23799        0        0             0                 0              0   \n",
      "2456   1810        0        0             0                 0              0   \n",
      "2232    658        0        0             0                 0              0   \n",
      "1945   5129        0        0             0                 0              0   \n",
      "309   36522        0        0             0                 0              0   \n",
      "...     ...      ...      ...           ...               ...            ...   \n",
      "3127  10338        0        0             0                 0              0   \n",
      "744   40368        0        0             0                 0              0   \n",
      "631   38804        0        0             0                 0              0   \n",
      "1557  20085        0        0             0                 0              0   \n",
      "2213    612        0        0             0                 0              0   \n",
      "\n",
      "      eezairi  Neji4460  Aguena_Jun  andrzejszczelba  ...  Jaxelar  \\\n",
      "1650        0         0           0                0  ...        0   \n",
      "2456        0         0           0                0  ...        0   \n",
      "2232        0         0           0                0  ...        0   \n",
      "1945        0         0           0                0  ...        0   \n",
      "309         0         0           0                0  ...        0   \n",
      "...       ...       ...         ...              ...  ...      ...   \n",
      "3127        0         0           0                0  ...        0   \n",
      "744         0         0           0                0  ...        0   \n",
      "631         0         0           0                0  ...        0   \n",
      "1557        0         0           0                0  ...        0   \n",
      "2213        0         0           0                0  ...        0   \n",
      "\n",
      "      BitSneakySvenpai  PeelyPeelyBoi  Tray1990  Kilax  Darkidda  chidoriP  \\\n",
      "1650                 0              0         0      0         0         0   \n",
      "2456                 0              0         0      1         0         0   \n",
      "2232                 0              0         0      0         0         0   \n",
      "1945                 0              0         0      0         0         0   \n",
      "309                  0              0         0      0         0         0   \n",
      "...                ...            ...       ...    ...       ...       ...   \n",
      "3127                 0              0         0      0         0         0   \n",
      "744                  0              0         0      0         0         0   \n",
      "631                  0              0         0      0         0         0   \n",
      "1557                 0              0         0      0         0         0   \n",
      "2213                 0              0         0      0         0         0   \n",
      "\n",
      "      snepback  Prism8Azure  urban_orange  \n",
      "1650         0            0             0  \n",
      "2456         0            0             0  \n",
      "2232         0            0             0  \n",
      "1945         0            0             0  \n",
      "309          0            0             0  \n",
      "...        ...          ...           ...  \n",
      "3127         0            1             0  \n",
      "744          0            0             0  \n",
      "631          0            0             0  \n",
      "1557         0            0             0  \n",
      "2213         0            0             0  \n",
      "\n",
      "[700 rows x 9242 columns]>\n"
     ]
    }
   ],
   "source": [
    "print(y_test.head)"
   ]
  },
  {
   "cell_type": "code",
   "execution_count": 10,
   "metadata": {},
   "outputs": [
    {
     "ename": "NameError",
     "evalue": "name 'result' is not defined",
     "output_type": "error",
     "traceback": [
      "\u001b[1;31m---------------------------------------------------------------------------\u001b[0m",
      "\u001b[1;31mNameError\u001b[0m                                 Traceback (most recent call last)",
      "Cell \u001b[1;32mIn [10], line 1\u001b[0m\n\u001b[1;32m----> 1\u001b[0m df_mini_watch_list \u001b[39m=\u001b[39m pandas\u001b[39m.\u001b[39mDataFrame(result, columns\u001b[39m=\u001b[39m[\u001b[39m'\u001b[39m\u001b[39muser\u001b[39m\u001b[39m'\u001b[39m, \u001b[39m'\u001b[39m\u001b[39mwatch list\u001b[39m\u001b[39m'\u001b[39m])\n\u001b[0;32m      3\u001b[0m test_anime \u001b[39m=\u001b[39m []\n\u001b[0;32m      4\u001b[0m \u001b[39mfor\u001b[39;00m i \u001b[39min\u001b[39;00m \u001b[39mrange\u001b[39m(\u001b[39mlen\u001b[39m(X_test)):\n",
      "\u001b[1;31mNameError\u001b[0m: name 'result' is not defined"
     ]
    }
   ],
   "source": [
    "df_mini_watch_list = pandas.DataFrame(result, columns=['user', 'watch list'])\n",
    "\n",
    "test_anime = []\n",
    "for i in range(len(X_test)):\n",
    "    test_anime.append(X_test.iloc[i]['Id'])"
   ]
  },
  {
   "cell_type": "code",
   "execution_count": 87,
   "metadata": {},
   "outputs": [
    {
     "name": "stderr",
     "output_type": "stream",
     "text": [
      "100%|██████████| 9241/9241 [18:25<00:00,  8.36it/s]\n",
      "100%|██████████| 3499/3499 [00:00<00:00, 6127.97it/s]\n"
     ]
    }
   ],
   "source": [
    "#read each user's watch list and creates a bag of words of all anime they watched\n",
    "user_bag_result = []\n",
    "length = len(users)\n",
    "\n",
    "for j in tqdm(range(length)):\n",
    "    user = df_mini_watch_list.loc[j]['user']\n",
    "    watched = (df_mini_watch_list.loc[j]['watch list']).split()\n",
    "    bag = ''\n",
    "    for k in range(len(watched)):\n",
    "        if watched[k] not in test_anime:\n",
    "            try:\n",
    "                temp = '\\'' + watched[k] + '\\''\n",
    "                index = df_anime.loc[df_anime['Id'] == temp].index[0]\n",
    "                bag += ' ' + create_soup_selection(df_anime.loc[index],genre=True,studio=True)\n",
    "            except:\n",
    "                pass\n",
    "    user_bag_result.append([user,bag])\n",
    "\n",
    "#creates a bag of words for each anime\n",
    "anime_bag_result = []\n",
    "for i in tqdm(range(len(df_anime_x))):\n",
    "    anime = df_anime_x.iloc[i]['Id'].replace('\\'','')\n",
    "    bag = create_soup_selection(df_anime_x.iloc[i],genre=True,studio=True)\n",
    "    anime_bag_result.append([anime,bag])\n",
    "\n",
    "#output the user bag of words to csv\n",
    "outputdf = pandas.DataFrame(user_bag_result, columns=['user','bag of words'])\n",
    "outputdf.to_csv('users_bag_of_words_genre_studio.csv', index=False)\n",
    "\n",
    "#output the anime bag of words to csv\n",
    "outputdf = pandas.DataFrame(anime_bag_result, columns=['Id','bag of words'])\n",
    "outputdf.to_csv('anime_bag_of_words_genre_studio.csv', index=False)"
   ]
  },
  {
   "cell_type": "code",
   "execution_count": 24,
   "metadata": {},
   "outputs": [],
   "source": [
    "df_anime_x_temp = df_anime_x.copy()\n",
    "\n",
    "# df_anime_x_temp = df_anime_y[['ilampan']].copy()\n",
    "user_column = df_anime_y['ilampan']\n",
    "df_anime_x_temp['ilampan'] = user_column"
   ]
  },
  {
   "cell_type": "code",
   "execution_count": 122,
   "metadata": {},
   "outputs": [],
   "source": [
    "columns = df_anime_y.columns\n",
    "users = []\n",
    "for col in columns[1:]:\n",
    "    users.append(col)"
   ]
  },
  {
   "cell_type": "code",
   "execution_count": 23,
   "metadata": {},
   "outputs": [
    {
     "ename": "NameError",
     "evalue": "name 'df_anime_x_temp' is not defined",
     "output_type": "error",
     "traceback": [
      "\u001b[1;31m---------------------------------------------------------------------------\u001b[0m",
      "\u001b[1;31mNameError\u001b[0m                                 Traceback (most recent call last)",
      "Cell \u001b[1;32mIn [23], line 2\u001b[0m\n\u001b[0;32m      1\u001b[0m user_column \u001b[39m=\u001b[39m df_anime_y[users[\u001b[39m0\u001b[39m]]\n\u001b[1;32m----> 2\u001b[0m df_anime_x_temp[users[\u001b[39m0\u001b[39m]] \u001b[39m=\u001b[39m user_column\n",
      "\u001b[1;31mNameError\u001b[0m: name 'df_anime_x_temp' is not defined"
     ]
    }
   ],
   "source": [
    "user_column = df_anime_y[users[0]]\n",
    "df_anime_x_temp[users[0]] = user_column"
   ]
  },
  {
   "cell_type": "code",
   "execution_count": null,
   "metadata": {},
   "outputs": [],
   "source": [
    "#creates a bag of words for each anime\n",
    "anime_bag_result = []\n",
    "for i in tqdm(range(len(df_anime_x))):\n",
    "    anime = df_anime_x.iloc[i]['Id'].replace('\\'','')\n",
    "    bag = create_soup_selection(df_anime_x.iloc[i],genre=True,studio=True)\n",
    "    anime_bag_result.append([anime,bag])"
   ]
  },
  {
   "cell_type": "code",
   "execution_count": 25,
   "metadata": {},
   "outputs": [
    {
     "name": "stdout",
     "output_type": "stream",
     "text": [
      "ilampan\n"
     ]
    }
   ],
   "source": [
    "print(users[0])"
   ]
  },
  {
   "cell_type": "code",
   "execution_count": 38,
   "metadata": {},
   "outputs": [],
   "source": [
    "def jaccard(list1, list2):\n",
    "    intersection = len(list(set(list1).intersection(list2)))\n",
    "    union = (len(list1) + len(list2)) - intersection\n",
    "    return float(intersection / union)"
   ]
  },
  {
   "cell_type": "code",
   "execution_count": 31,
   "metadata": {},
   "outputs": [
    {
     "name": "stdout",
     "output_type": "stream",
     "text": [
      "Id                                                            '1810'\n",
      "Anime Title                                 'KyoushiroutoTowanoSora'\n",
      "Rating                                                          6.42\n",
      "Studio                                                           TNK\n",
      "Source Material                                                Manga\n",
      "Demographic                                                'Shounen'\n",
      "Genre                                ['Drama', 'Romance', 'Shounen']\n",
      "VAs                ['MatsuokaYuki', 'YukiKonishi', 'KonishiKatsuy...\n",
      "Name: 2456, dtype: object\n"
     ]
    }
   ],
   "source": [
    "df_anime_x_temp = df_anime_x.copy()\n",
    "\n",
    "# df_anime_x_temp = df_anime_y[['ilampan']].copy()\n",
    "user_column = df_anime_y[users[0]]\n",
    "df_anime_x_temp[users[0]] = user_column\n",
    "\n",
    "print(X_test.iloc[1])\n"
   ]
  },
  {
   "cell_type": "code",
   "execution_count": 102,
   "metadata": {},
   "outputs": [
    {
     "name": "stderr",
     "output_type": "stream",
     "text": [
      "100%|██████████| 700/700 [10:16<00:00,  1.14it/s]\n"
     ]
    }
   ],
   "source": [
    "all_distances = []\n",
    "for j in tqdm(range(len(X_test))):\n",
    "    bag1 = create_soup_selection(X_test.iloc[j],all=True).split()\n",
    "    distances = []\n",
    "    for i in range(len(X_train)):\n",
    "        bag2 = create_soup_selection(X_train.iloc[i],all=True).split()\n",
    "        distances.append((X_train.iloc[i]['Id'].replace('\\'',''),jaccard(list(bag1),list(bag2))))\n",
    "    Sort_Tuple(distances)\n",
    "    all_distances.append(distances)\n"
   ]
  },
  {
   "cell_type": "code",
   "execution_count": 103,
   "metadata": {},
   "outputs": [],
   "source": [
    "import pickle\n",
    "\n",
    "# open a file, where you ant to store the data\n",
    "file = open('knn_distances', 'wb')\n",
    "\n",
    "# dump information to that file\n",
    "pickle.dump(all_distances, file)\n",
    "\n",
    "# close the file\n",
    "file.close()"
   ]
  },
  {
   "cell_type": "code",
   "execution_count": null,
   "metadata": {},
   "outputs": [],
   "source": [
    "import pickle\n",
    "\n",
    "# open a file, where you stored the pickled data\n",
    "file = open('knn_distances', 'rb')\n",
    "\n",
    "# dump information to that file\n",
    "all_distances = pickle.load(file)\n",
    "\n",
    "# close the file\n",
    "file.close()"
   ]
  },
  {
   "cell_type": "code",
   "execution_count": 100,
   "metadata": {},
   "outputs": [
    {
     "name": "stdout",
     "output_type": "stream",
     "text": [
      "[('143', 0.17777777777777778), ('10030', 0.13043478260869565), ('7674', 0.13043478260869565), ('12365', 0.13043478260869565), ('1128', 0.1111111111111111)]\n",
      "2799\n",
      "143\n"
     ]
    }
   ],
   "source": [
    "print(distances[0:5])\n",
    "print(len(distances))\n",
    "print(distances[0][0])"
   ]
  },
  {
   "cell_type": "code",
   "execution_count": 98,
   "metadata": {},
   "outputs": [
    {
     "name": "stdout",
     "output_type": "stream",
     "text": [
      "[('143', 0.17777777777777778), ('10030', 0.13043478260869565), ('7674', 0.13043478260869565), ('12365', 0.13043478260869565), ('1128', 0.1111111111111111)]\n",
      "0    0\n",
      "Name: ilampan, dtype: int64\n",
      "<bound method NDFrame.head of          Id  ilampan  Zephyyr  Alister-Dark  AMechaDegenarate  Matthew_Myers  \\\n",
      "0     32937        0        1             0                 0              0   \n",
      "1     33206        0        1             0                 0              0   \n",
      "2     32615        0        1             0                 1              0   \n",
      "3     33487        0        1             0                 0              0   \n",
      "4     33506        0        1             0                 0              0   \n",
      "...     ...      ...      ...           ...               ...            ...   \n",
      "3494  16241        0        1             0                 0              0   \n",
      "3495  17681        1        0             0                 0              0   \n",
      "3496  17249        0        0             0                 0              0   \n",
      "3497  17731        0        0             0                 0              0   \n",
      "3498  17849        0        0             0                 0              0   \n",
      "\n",
      "      eezairi  Neji4460  Aguena_Jun  andrzejszczelba  ...  Jaxelar  \\\n",
      "0           1         1           1                1  ...        1   \n",
      "1           0         0           1                1  ...        0   \n",
      "2           1         1           0                1  ...        0   \n",
      "3           0         1           1                0  ...        0   \n",
      "4           0         1           0                0  ...        0   \n",
      "...       ...       ...         ...              ...  ...      ...   \n",
      "3494        0         0           0                0  ...        0   \n",
      "3495        0         0           0                0  ...        0   \n",
      "3496        0         0           0                0  ...        0   \n",
      "3497        0         0           0                0  ...        0   \n",
      "3498        0         0           0                0  ...        0   \n",
      "\n",
      "      BitSneakySvenpai  PeelyPeelyBoi  Tray1990  Kilax  Darkidda  chidoriP  \\\n",
      "0                    1              1         1      1         0         1   \n",
      "1                    1              1         0      0         1         1   \n",
      "2                    0              0         1      0         0         0   \n",
      "3                    1              1         0      1         1         1   \n",
      "4                    0              0         1      0         0         0   \n",
      "...                ...            ...       ...    ...       ...       ...   \n",
      "3494                 0              0         0      0         0         0   \n",
      "3495                 0              0         0      0         0         0   \n",
      "3496                 0              0         0      0         0         0   \n",
      "3497                 0              0         0      0         0         0   \n",
      "3498                 0              0         0      0         0         0   \n",
      "\n",
      "      snepback  Prism8Azure  urban_orange  \n",
      "0            1            0             0  \n",
      "1            1            0             0  \n",
      "2            1            1             0  \n",
      "3            0            0             0  \n",
      "4            1            0             1  \n",
      "...        ...          ...           ...  \n",
      "3494         0            0             0  \n",
      "3495         0            0             0  \n",
      "3496         0            0             0  \n",
      "3497         0            0             0  \n",
      "3498         0            0             0  \n",
      "\n",
      "[3499 rows x 9242 columns]>\n",
      "sum =  0    3.0\n",
      "Name: Zephyyr, dtype: float64\n"
     ]
    }
   ],
   "source": [
    "Sort_Tuple(distances)\n",
    "\n",
    "print(distances[0:5])\n",
    "\n",
    "print(df_anime_y.loc[df_anime_y['Id'] == 32937]['ilampan'])\n",
    "\n",
    "# temp = df_anime_y.loc[df_anime_y['Id'] == 32937]['ilampan']\n",
    "# print(df_anime_y.loc[df_anime_y['Id'] == 32937])\n",
    "print(df_anime_y.head)\n",
    "sum = 0\n",
    "for i in range(5):\n",
    "    sum += df_anime_y.loc[df_anime_y['Id'] == 32937]['Zephyyr']\n",
    "\n",
    "print('sum = ',sum/2)\n",
    "\n",
    "\n"
   ]
  }
 ],
 "metadata": {
  "kernelspec": {
   "display_name": "Python 3.9.13 64-bit (microsoft store)",
   "language": "python",
   "name": "python3"
  },
  "language_info": {
   "codemirror_mode": {
    "name": "ipython",
    "version": 3
   },
   "file_extension": ".py",
   "mimetype": "text/x-python",
   "name": "python",
   "nbconvert_exporter": "python",
   "pygments_lexer": "ipython3",
   "version": "3.9.13"
  },
  "orig_nbformat": 4,
  "vscode": {
   "interpreter": {
    "hash": "3ab5f0538989203499ae8c09796501035f37df75f796f45e9c3b3f0fac523391"
   }
  }
 },
 "nbformat": 4,
 "nbformat_minor": 2
}
