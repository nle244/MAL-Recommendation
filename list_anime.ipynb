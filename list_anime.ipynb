{
 "cells": [
  {
   "cell_type": "code",
   "execution_count": 11,
   "metadata": {},
   "outputs": [],
   "source": [
    "import pandas\n",
    "import csv\n",
    "import os\n",
    "from tqdm import tqdm\n",
    "\n",
    "from pytest import skip\n",
    "\n",
    "\n",
    "df_user_info = pandas.read_csv('user_watch_list_more_than_20.csv')\n",
    "df_anime = pandas.read_csv('new_anime.csv')\n",
    "df_anime_test = pandas.read_csv('anime_test.csv')"
   ]
  },
  {
   "cell_type": "code",
   "execution_count": 12,
   "metadata": {},
   "outputs": [],
   "source": [
    "#create list of anime in test set \n",
    "test_anime = []\n",
    "for i in range(len(df_anime_test)):\n",
    "    test_anime.append(df_anime_test.loc[i]['Id'].replace('\\'',''))\n"
   ]
  },
  {
   "cell_type": "code",
   "execution_count": null,
   "metadata": {},
   "outputs": [],
   "source": [
    "#creates bag of words with all features\n",
    "def create_soup(x):\n",
    "    result = x['Anime Title']\n",
    "\n",
    "    if x['Studio'] != 'n/a':\n",
    "        result += ' ' + x['Studio']\n",
    "    if x['Source Material'] != 'n/a':\n",
    "        result += ' ' + x['Source Material']\n",
    "    if x['Genre'] != 'n/a':\n",
    "        result += ' ' + x['Genre']\n",
    "    if x['VAs'] != 'n/a':\n",
    "        result += ' ' + x['VAs']\n",
    "\n",
    "    punc = '[],\\'\\\"'\n",
    "    \n",
    "    for ele in result:\n",
    "        if ele in punc:\n",
    "            result = result.replace(ele, \"\")\n",
    "\n",
    "    result\n",
    "    return result"
   ]
  },
  {
   "cell_type": "code",
   "execution_count": null,
   "metadata": {},
   "outputs": [],
   "source": [
    "#creates bag of words with reduced features\n",
    "def create_soup_reduced(x):\n",
    "    result = x['Anime Title']\n",
    "\n",
    "    if x['Studio'] != 'n/a':\n",
    "        result += ' ' + x['Studio']\n",
    "    # if x['Source Material'] != 'n/a':\n",
    "    #     result += ' ' + x['Source Material']\n",
    "    if x['Genre'] != 'n/a':\n",
    "        result += ' ' + x['Genre']\n",
    "    # if x['VAs'] != 'n/a':\n",
    "    #     result += ' ' + x['VAs']\n",
    "\n",
    "    punc = '[],\\'\\\"'\n",
    "    \n",
    "    for ele in result:\n",
    "        if ele in punc:\n",
    "            result = result.replace(ele, \"\")\n",
    "\n",
    "    result\n",
    "    return result"
   ]
  },
  {
   "cell_type": "code",
   "execution_count": null,
   "metadata": {},
   "outputs": [],
   "source": [
    "#creates bag of words with reduced features\n",
    "def create_soup_genres(x):\n",
    "    result = x['Anime Title']\n",
    "\n",
    "    # if x['Studio'] != 'n/a':\n",
    "    #     result += ' ' + x['Studio']\n",
    "    # if x['Source Material'] != 'n/a':\n",
    "    #     result += ' ' + x['Source Material']\n",
    "    if x['Genre'] != 'n/a':\n",
    "        result += ' ' + x['Genre']\n",
    "    # if x['VAs'] != 'n/a':\n",
    "    #     result += ' ' + x['VAs']\n",
    "\n",
    "    punc = '[],\\'\\\"'\n",
    "    \n",
    "    for ele in result:\n",
    "        if ele in punc:\n",
    "            result = result.replace(ele, \"\")\n",
    "\n",
    "    result\n",
    "    return result"
   ]
  },
  {
   "cell_type": "code",
   "execution_count": null,
   "metadata": {},
   "outputs": [],
   "source": [
    "#creates bag of words as a set\n",
    "def create_soup_set(x):\n",
    "    result = x['Anime Title']\n",
    "\n",
    "    if x['Studio'] != 'n/a':\n",
    "        result += ' ' + x['Studio']\n",
    "    if x['Source Material'] != 'n/a':\n",
    "        result += ' ' + x['Source Material']\n",
    "    if x['Genre'] != 'n/a':\n",
    "        result += ' ' + x['Genre']\n",
    "    if x['VAs'] != 'n/a':\n",
    "        result += ' ' + x['VAs']\n",
    "\n",
    "    punc = '[],\\'\\\"'\n",
    "    \n",
    "    for ele in result:\n",
    "        if ele in punc:\n",
    "            result = result.replace(ele, \"\")\n",
    "\n",
    "    result = set(result.split())\n",
    "    return result"
   ]
  },
  {
   "cell_type": "code",
   "execution_count": null,
   "metadata": {},
   "outputs": [],
   "source": [
    "#read each user's watch list and creates a bag of words of all anime they watched\n",
    "result = []\n",
    "length = len(df_user_info)\n",
    "\n",
    "# text = 34156\n",
    "# print(text)\n",
    "# print(create_soup(df_anime.loc[df_anime['Id'] == text.index[0]]))\n",
    "\n",
    "for j in tqdm(range(length)):\n",
    "    try:\n",
    "        user = df_user_info.loc[j]['user']\n",
    "        watched = (df_user_info.loc[j]['watched list']).split()\n",
    "        bag = ''\n",
    "        for k in range(len(watched)):\n",
    "            if watched[k] not in test_anime:\n",
    "                try:\n",
    "                    temp = '\\'' + watched[k] + '\\''\n",
    "                    index = df_anime.loc[df_anime['Id'] == temp].index[0]\n",
    "                    bag += ' ' + create_soup_genres(df_anime.loc[index])\n",
    "                except:\n",
    "                    pass\n",
    "    except:\n",
    "        pass\n",
    "    result.append([user,bag])"
   ]
  },
  {
   "cell_type": "code",
   "execution_count": null,
   "metadata": {},
   "outputs": [],
   "source": [
    "print(result[2])"
   ]
  },
  {
   "cell_type": "code",
   "execution_count": null,
   "metadata": {},
   "outputs": [],
   "source": [
    "outputdf = pandas.DataFrame(result, columns=['user','bag of words'])\n",
    "outputdf.to_csv('users_bag_of_words_genres.csv', index=False)"
   ]
  },
  {
   "cell_type": "code",
   "execution_count": null,
   "metadata": {},
   "outputs": [],
   "source": [
    "#read each user's watch list and creates a bag of words of all anime they watched\n",
    "def make_bag(func):\n",
    "    result = []\n",
    "    length = len(df_user_info)\n",
    "\n",
    "    # text = 34156\n",
    "    # print(text)\n",
    "    # print(create_soup(df_anime.loc[df_anime['Id'] == text.index[0]]))\n",
    "\n",
    "    for j in range(1):\n",
    "        try:\n",
    "            user = df_user_info.loc[j]['user']\n",
    "            watched = (df_user_info.loc[j]['watched list']).split()\n",
    "            bag = ''\n",
    "            for k in range(len(watched)):\n",
    "                if watched[k] not in test_anime:\n",
    "                    try:\n",
    "                        temp = '\\'' + watched[k] + '\\''\n",
    "                        index = df_anime.loc[df_anime['Id'] == temp].index[0]\n",
    "                        bag += ' ' + func(df_anime.loc[index])\n",
    "                        print(bag)\n",
    "                    except:\n",
    "                        pass\n",
    "        except:\n",
    "            pass\n",
    "        result.append([user,bag])\n",
    "    return result"
   ]
  },
  {
   "cell_type": "code",
   "execution_count": null,
   "metadata": {},
   "outputs": [],
   "source": [
    "#create empty dataframe\n",
    "header = ['anime']\n",
    "for i in range(len(df_user_info)):\n",
    "    header.append(df_user_info.loc[i]['user'])\n",
    "\n",
    "result = []\n",
    "for i in range(len(df_anime)):\n",
    "    row = [df_anime.loc[i]['Id'].replace('\\'','')]\n",
    "    for j in range(len(df_user_info)):\n",
    "        row.append(0)\n",
    "    result.append(row)\n",
    "\n"
   ]
  },
  {
   "cell_type": "code",
   "execution_count": null,
   "metadata": {},
   "outputs": [],
   "source": [
    "print(result[0])"
   ]
  },
  {
   "cell_type": "code",
   "execution_count": null,
   "metadata": {},
   "outputs": [],
   "source": [
    "outputdf = pandas.DataFrame(result, columns=header)\n",
    "outputdf.to_csv('anime_matrix.csv', index=False)"
   ]
  },
  {
   "cell_type": "code",
   "execution_count": null,
   "metadata": {},
   "outputs": [],
   "source": [
    "df_matrix = pandas.read_csv('anime_matrix.csv')\n",
    "\n",
    "print(df_matrix.head())"
   ]
  },
  {
   "cell_type": "code",
   "execution_count": null,
   "metadata": {},
   "outputs": [],
   "source": [
    "#fills in the true values for each anime based on user's watch list\n",
    "u = []\n",
    "for i in range(len(df_user_info)):\n",
    "    u.append(df_user_info.loc[i]['user'])\n",
    "    \n",
    "for j in tqdm(range(len(u))):\n",
    "    try:\n",
    "        w = df_user_info.loc[j][\"watched list\"].split()\n",
    "        for i in range(len(df_anime)):\n",
    "            # print(df_matrix.at[i,'ilampan'])\n",
    "            if df_anime.loc[i]['Id'].replace('\\'','') in w:\n",
    "                df_matrix.at[i,u[j]] = 1\n",
    "    except:\n",
    "        pass\n",
    "\n",
    "# print(df_matrix.at[0,'ilampan'])\n",
    "\n"
   ]
  },
  {
   "cell_type": "code",
   "execution_count": null,
   "metadata": {},
   "outputs": [],
   "source": [
    "temp = df_user_info.loc[0][\"watched list\"].split()\n",
    "print(temp[0])"
   ]
  },
  {
   "cell_type": "code",
   "execution_count": null,
   "metadata": {},
   "outputs": [],
   "source": [
    "anime = []\n",
    "for i in range(len(df_anime)):\n",
    "    anime.append(df_anime.loc[i]['Id'])\n",
    "\n",
    "users_watched = []\n",
    "header = ['anime']\n",
    "for i in range(len(df_user_info)):\n",
    "    header.append(df_user_info.loc[i]['user'])\n",
    "    try:\n",
    "        users_watched.append(df_user_info.loc[i][\"watched list\"].split())\n",
    "    except:\n",
    "        users_watched.append([])    #append empty list if the user has no watch list\n"
   ]
  },
  {
   "cell_type": "code",
   "execution_count": null,
   "metadata": {},
   "outputs": [],
   "source": [
    "#creates anime watched true values\n",
    "result = []\n",
    "for i in tqdm(range(len(anime))):\n",
    "    id = anime[i].replace('\\'','')\n",
    "    temp = [id]\n",
    "    for j in range(len(users_watched)):\n",
    "        if id in users_watched[j]:\n",
    "            temp.append(1)\n",
    "        else:\n",
    "            temp.append(0)\n",
    "    result.append(temp)"
   ]
  },
  {
   "cell_type": "code",
   "execution_count": null,
   "metadata": {},
   "outputs": [],
   "source": [
    "print((header[1]))"
   ]
  },
  {
   "cell_type": "code",
   "execution_count": null,
   "metadata": {},
   "outputs": [],
   "source": [
    "outputdf = pandas.DataFrame(result, columns=header)\n",
    "outputdf.to_csv('anime_matrix_true.csv', index=False)"
   ]
  },
  {
   "cell_type": "code",
   "execution_count": null,
   "metadata": {},
   "outputs": [],
   "source": [
    "df_temp = pandas.read_csv('anime_matrix_true.csv')"
   ]
  },
  {
   "cell_type": "code",
   "execution_count": null,
   "metadata": {},
   "outputs": [],
   "source": [
    "#spot checking for anime matrix true\n",
    "# out = []\n",
    "# for i in range(len(df_anime)):\n",
    "#     out.append(df_matrix.at[i,'Manzerek'])\n",
    "\n",
    "# print(out)\n",
    "print(df_matrix.loc[4163]['anime'])\n",
    "print(df_matrix.at[4163,'clouds88'])\n"
   ]
  },
  {
   "cell_type": "code",
   "execution_count": null,
   "metadata": {},
   "outputs": [],
   "source": [
    "df_matrix.to_csv('anime_matrix_temp.csv', index=False)"
   ]
  },
  {
   "cell_type": "code",
   "execution_count": null,
   "metadata": {},
   "outputs": [],
   "source": [
    "#read each user's watch list and creates a bag of words of all anime they watched\n",
    "result = []\n",
    "length = len(df_user_info)\n",
    "\n",
    "# text = 34156\n",
    "# print(text)\n",
    "# print(create_soup(df_anime.loc[df_anime['Id'] == text.index[0]]))\n",
    "\n",
    "for j in tqdm(range(length)):\n",
    "    try:\n",
    "        user = df_user_info.loc[j]['user']\n",
    "        watched = (df_user_info.loc[j]['watched list']).split()\n",
    "        bag = ''\n",
    "        for k in range(len(watched)):\n",
    "            if watched[k] not in test_anime:\n",
    "                try:\n",
    "                    temp = '\\'' + watched[k] + '\\''\n",
    "                    index = df_anime.loc[df_anime['Id'] == temp].index[0]\n",
    "                    bag += ' ' + create_soup_reduced(df_anime.loc[index])\n",
    "                except:\n",
    "                    pass\n",
    "    except:\n",
    "        pass\n",
    "    result.append([user,bag])"
   ]
  },
  {
   "cell_type": "code",
   "execution_count": null,
   "metadata": {},
   "outputs": [],
   "source": [
    "outputdf = pandas.DataFrame(result, columns=['user','bag of words'])\n",
    "outputdf.to_csv('users_bag_of_words_reduced.csv', index=False)"
   ]
  },
  {
   "cell_type": "code",
   "execution_count": null,
   "metadata": {},
   "outputs": [],
   "source": [
    "wa = df_user_info.loc[2]['watched list'].split()\n",
    "\n",
    "bag = ''\n",
    "for i in tqdm(range(len(wa))):\n",
    "    if wa[i] not in test_anime:\n",
    "        try:\n",
    "            temp = '\\'' + wa[i] + '\\''\n",
    "            index = df_anime.loc[df_anime['Id'] == temp].index[0]\n",
    "            bag += ' ' + create_soup(df_anime.loc[index])\n",
    "        except:\n",
    "            pass\n",
    "\n"
   ]
  },
  {
   "cell_type": "code",
   "execution_count": 42,
   "metadata": {},
   "outputs": [],
   "source": [
    "#X is the list of anime found in df_anime\n",
    "#y is if the the user watched the anime or not\n",
    "\n",
    "df_anime_x = pandas.read_csv('anime_train.csv')\n",
    "df_anime_y = pandas.read_csv('anime_matrix_true.csv')\n"
   ]
  },
  {
   "cell_type": "code",
   "execution_count": 84,
   "metadata": {},
   "outputs": [],
   "source": [
    "#creates bag of words with selected features\n",
    "def create_soup_selection(x,studio=False,source=False,genre=False,va=False,all=False):\n",
    "    result = x['Anime Title']\n",
    "\n",
    "    if x['Studio'] != 'n/a' and (studio or all):\n",
    "        result += ' ' + x['Studio']\n",
    "    if x['Source Material'] != 'n/a' and (source or all):\n",
    "        result += ' ' + x['Source Material']\n",
    "    if x['Genre'] != 'n/a' and (genre or all):\n",
    "        result += ' ' + x['Genre']\n",
    "    if x['VAs'] != 'n/a' and (va or all):\n",
    "        result += ' ' + x['VAs']\n",
    "\n",
    "    punc = '[],\\'\\\"'\n",
    "    \n",
    "    for ele in result:\n",
    "        if ele in punc:\n",
    "            result = result.replace(ele, \"\")\n",
    "\n",
    "    result\n",
    "    return result"
   ]
  },
  {
   "cell_type": "code",
   "execution_count": 28,
   "metadata": {},
   "outputs": [
    {
     "name": "stdout",
     "output_type": "stream",
     "text": [
      "(3499, 8)\n",
      "(3499, 9242)\n"
     ]
    }
   ],
   "source": [
    "df_anime_y.drop(df_anime_y.tail(876).index,inplace=True)\n",
    "\n",
    "print(df_anime_x.shape)\n",
    "print(df_anime_y.shape)"
   ]
  },
  {
   "cell_type": "code",
   "execution_count": 31,
   "metadata": {},
   "outputs": [],
   "source": [
    "from sklearn.model_selection import train_test_split\n",
    "\n",
    "X_train, X_test, y_train, y_test = train_test_split(df_anime_x, df_anime_y, test_size=0.2, random_state=42)"
   ]
  },
  {
   "cell_type": "code",
   "execution_count": 55,
   "metadata": {},
   "outputs": [
    {
     "name": "stderr",
     "output_type": "stream",
     "text": [
      "100%|██████████| 9241/9241 [02:28<00:00, 62.42it/s]\n"
     ]
    }
   ],
   "source": [
    "#create user list\n",
    "users = []\n",
    "for i in range(len(df_user_info)):\n",
    "    users.append(df_user_info.loc[i]['user'])\n",
    "\n",
    "#create watch list based on df_anime_y\n",
    "result = []\n",
    "for j in tqdm(range(len(users))):\n",
    "    watched = ''\n",
    "    for i in range(len(df_anime_y)):\n",
    "        if (df_anime_y.at[i,users[j]]):\n",
    "            watched += str(df_anime_y.loc[i]['Id']) + ' '\n",
    "    result.append([users[j],watched])"
   ]
  },
  {
   "cell_type": "code",
   "execution_count": 71,
   "metadata": {},
   "outputs": [],
   "source": [
    "df_mini_watch_list = pandas.DataFrame(result, columns=['user', 'watch list'])\n",
    "\n",
    "test_anime = []\n",
    "for i in range(len(X_test)):\n",
    "    test_anime.append(X_test.iloc[i]['Id'])"
   ]
  },
  {
   "cell_type": "code",
   "execution_count": 87,
   "metadata": {},
   "outputs": [
    {
     "name": "stderr",
     "output_type": "stream",
     "text": [
      "100%|██████████| 9241/9241 [18:25<00:00,  8.36it/s]\n",
      "100%|██████████| 3499/3499 [00:00<00:00, 6127.97it/s]\n"
     ]
    }
   ],
   "source": [
    "#read each user's watch list and creates a bag of words of all anime they watched\n",
    "user_bag_result = []\n",
    "length = len(users)\n",
    "\n",
    "for j in tqdm(range(length)):\n",
    "    user = df_mini_watch_list.loc[j]['user']\n",
    "    watched = (df_mini_watch_list.loc[j]['watch list']).split()\n",
    "    bag = ''\n",
    "    for k in range(len(watched)):\n",
    "        if watched[k] not in test_anime:\n",
    "            try:\n",
    "                temp = '\\'' + watched[k] + '\\''\n",
    "                index = df_anime.loc[df_anime['Id'] == temp].index[0]\n",
    "                bag += ' ' + create_soup_selection(df_anime.loc[index],genre=True,studio=True)\n",
    "            except:\n",
    "                pass\n",
    "    user_bag_result.append([user,bag])\n",
    "\n",
    "#creates a bag of words for each anime\n",
    "anime_bag_result = []\n",
    "for i in tqdm(range(len(df_anime_x))):\n",
    "    anime = df_anime_x.iloc[i]['Id'].replace('\\'','')\n",
    "    bag = create_soup_selection(df_anime_x.iloc[i],genre=True,studio=True)\n",
    "    anime_bag_result.append([anime,bag])\n",
    "\n",
    "#output the user bag of words to csv\n",
    "outputdf = pandas.DataFrame(user_bag_result, columns=['user','bag of words'])\n",
    "outputdf.to_csv('users_bag_of_words_genre_studio.csv', index=False)\n",
    "\n",
    "#output the anime bag of words to csv\n",
    "outputdf = pandas.DataFrame(anime_bag_result, columns=['Id','bag of words'])\n",
    "outputdf.to_csv('anime_bag_of_words_genre_studio.csv', index=False)"
   ]
  }
 ],
 "metadata": {
  "kernelspec": {
   "display_name": "Python 3.10.8 64-bit (microsoft store)",
   "language": "python",
   "name": "python3"
  },
  "language_info": {
   "codemirror_mode": {
    "name": "ipython",
    "version": 3
   },
   "file_extension": ".py",
   "mimetype": "text/x-python",
   "name": "python",
   "nbconvert_exporter": "python",
   "pygments_lexer": "ipython3",
   "version": "3.10.8"
  },
  "orig_nbformat": 4,
  "vscode": {
   "interpreter": {
    "hash": "8fc903fd1a35692d96a4695a6c4f7b57bb80f609b0147f9dc1e34250c7f2a3f2"
   }
  }
 },
 "nbformat": 4,
 "nbformat_minor": 2
}
