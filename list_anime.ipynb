{
 "cells": [
  {
   "cell_type": "code",
   "execution_count": 1,
   "metadata": {},
   "outputs": [],
   "source": [
    "import pandas\n",
    "import csv\n",
    "\n",
    "from pytest import skip\n",
    "\n",
    "df_user_info = pandas.read_csv('users_watched2.csv')\n",
    "df_anime = pandas.read_csv('new_anime.csv')\n",
    "df_anime_test = pandas.read_csv('anime_train.csv')\n"
   ]
  },
  {
   "cell_type": "code",
   "execution_count": 2,
   "metadata": {},
   "outputs": [],
   "source": [
    "test_anime = []\n",
    "for i in range(len(df_anime_test)):\n",
    "    test_anime.append(df_anime_test.loc[i]['Id'].replace('\\'',''))\n"
   ]
  },
  {
   "cell_type": "code",
   "execution_count": 3,
   "metadata": {},
   "outputs": [],
   "source": [
    "#creates bag of words\n",
    "def create_soup(x):\n",
    "    result = x['Anime Title']\n",
    "\n",
    "    if x['Studio'] != 'n/a':\n",
    "        result += ' ' + x['Studio']\n",
    "    if x['Source Material'] != 'n/a':\n",
    "        result += ' ' + x['Source Material']\n",
    "    if x['Genre'] != 'n/a':\n",
    "        result += ' ' + x['Genre']\n",
    "    if x['VAs'] != 'n/a':\n",
    "        result += ' ' + x['VAs']\n",
    "\n",
    "    punc = '[],\\'\\\"'\n",
    "    \n",
    "    for ele in result:\n",
    "        if ele in punc:\n",
    "            result = result.replace(ele, \"\")\n",
    "\n",
    "    result\n",
    "    return result"
   ]
  },
  {
   "cell_type": "code",
   "execution_count": 4,
   "metadata": {},
   "outputs": [],
   "source": [
    "#creates bag of words\n",
    "def create_soup_set(x):\n",
    "    result = x['Anime Title']\n",
    "\n",
    "    if x['Studio'] != 'n/a':\n",
    "        result += ' ' + x['Studio']\n",
    "    if x['Source Material'] != 'n/a':\n",
    "        result += ' ' + x['Source Material']\n",
    "    if x['Genre'] != 'n/a':\n",
    "        result += ' ' + x['Genre']\n",
    "    if x['VAs'] != 'n/a':\n",
    "        result += ' ' + x['VAs']\n",
    "\n",
    "    punc = '[],\\'\\\"'\n",
    "    \n",
    "    for ele in result:\n",
    "        if ele in punc:\n",
    "            result = result.replace(ele, \"\")\n",
    "\n",
    "    result = set(result)\n",
    "    return result"
   ]
  },
  {
   "cell_type": "code",
   "execution_count": 5,
   "metadata": {},
   "outputs": [
    {
     "name": "stdout",
     "output_type": "stream",
     "text": [
      "KonoSubarashiiSekainiShukufukuwo!2 StudioDeen Lightnovel Adventure Comedy Fantasy Isekai Parody Reincarnation TakahashiRie RieFukushima FukushimaJun JunAmamiya AmamiyaSora SoraKayano KayanoAi AiHorie HorieYui YuiToyosaki ToyosakiAki AkiSuwa SuwaAyaka AyakaNishida NishidaMasakazu MasakazuSuwa SuwaAyaka AyakaNaganawa NaganawaMaria\n"
     ]
    }
   ],
   "source": [
    "print(create_soup(df_anime.loc[0]))"
   ]
  },
  {
   "cell_type": "code",
   "execution_count": 6,
   "metadata": {},
   "outputs": [],
   "source": [
    "#read each user's watch list and creates a bag of words of all anime they watched\n",
    "result = []\n",
    "length = len(df_user_info)\n",
    "\n",
    "# text = 34156\n",
    "# print(text)\n",
    "# print(create_soup(df_anime.loc[df_anime['Id'] == text.index[0]]))\n",
    "\n",
    "for j in range(length):\n",
    "    try:\n",
    "        user = df_user_info.loc[j]['user']\n",
    "        watched = (df_user_info.loc[j]['watched list']).split()\n",
    "        bag = ''\n",
    "        for k in range(len(watched)):\n",
    "            if watched[k] not in test_anime:\n",
    "                try:\n",
    "                    temp = '\\'' + watched[k] + '\\''\n",
    "                    index = df_anime.loc[df_anime['Id'] == temp].index[0]\n",
    "                    bag += ' ' + create_soup(df_anime.loc[index])\n",
    "                except:\n",
    "                    pass\n",
    "    except:\n",
    "        pass\n",
    "    result.append([user,bag])\n",
    "\n"
   ]
  },
  {
   "cell_type": "code",
   "execution_count": 7,
   "metadata": {},
   "outputs": [
    {
     "name": "stdout",
     "output_type": "stream",
     "text": [
      "['Fosh_W', ' Free! KyotoAnimationAnimationDo Original Sports School MiyanoMamoru MamoruYukino YukinoSatsuki SatsukiMatsumoto MatsumotoMegumi MegumiYonaga YonagaTsubasa TsubasaHirakawa HirakawaDaisuke DaisukeWatanabe WatanabeAkeno AkenoMiyata MiyataKouki KoukiTsuda TsudaKenjirou KenjirouYanaka YanakaHiroshi HiroshiYukino YukinoSatsuki JoJonoKimyounaBoukenPart3:StardustCrusaders DavidProduction Manga Action Adventure Drama Supernatural Shounen IshizukaUnshou UnshouOno OnoDaisuke DaisukeHirakawa HirakawaDaisuke DaisukeKomatsu KomatsuFuminori FuminoriMiyake MiyakeKenta KentaKoyasu KoyasuTakehito TakehitoKiuchi KiuchiHidenobu HidenobuOokawa OokawaTooru TooruKojima KojimaSachiko SachikoKugimiya KugimiyaRie BokunoHeroAcademia Bones Manga Action School SuperPower Shounen YamashitaDaiki DaikiOkamoto OkamotoNobuhiko NobuhikoMiyake MiyakeKenta KentaSakura SakuraAyane AyaneIshikawa IshikawaKaito KaitoKaji KajiYuuki YuukiSuwabe SuwabeJunichi JunichiMasuda MasudaToshiki ToshikiYuuki YuukiAoi AoiUchiyama UchiyamaKouki Haikyuu!! ProductionI.G Manga Sports School TeamSports Shounen MuraseAyumu AyumuIshikawa IshikawaKaito KaitoNamikawa NamikawaDaisuke DaisukeOkamoto OkamotoNobuhiko NobuhikoKaji KajiYuuki YuukiUchiyama UchiyamaKouki KoukiNakamura NakamuraYuuichi YuuichiIrino IrinoMiyu MiyuHayashi HayashiYuu YuuSaitou SaitouSouma Haikyuu!!SecondSeason ProductionI.G Manga Sports School TeamSports Shounen MuraseAyumu AyumuIshikawa IshikawaKaito KaitoNamikawa NamikawaDaisuke DaisukeOkamoto OkamotoNobuhiko NobuhikoKaji KajiYuuki YuukiUchiyama UchiyamaKouki KoukiKimura KimuraRyouhei RyouheiNakamura NakamuraYuuichi YuuichiIrino IrinoMiyu MiyuOosaka OosakaRyouta Haikyuu!!:KarasunoKoukouvs.ShiratorizawaGakuenKoukou ProductionI.G Manga Sports School TeamSports Shounen MuraseAyumu AyumuIshikawa IshikawaKaito KaitoNamikawa NamikawaDaisuke DaisukeOkamoto OkamotoNobuhiko NobuhikoUchiyama UchiyamaKouki KoukiKimura KimuraRyouhei RyouheiNakamura NakamuraYuuichi YuuichiIrino IrinoMiyu MiyuOosaka OosakaRyouta RyoutaHayashi HayashiYuu KonoSubarashiiSekainiShukufukuwo! StudioDeen Lightnovel Adventure Comedy Fantasy Isekai Parody Reincarnation TakahashiRie RieFukushima FukushimaJun JunAmamiya AmamiyaSora SoraKayano KayanoAi AiHorie HorieYui YuiSuwa SuwaAyaka AyakaSuwa SuwaAyaka AyakaHara HaraSayuri SayuriInada InadaTetsu TetsuYasumoto YasumotoHiroki KurokonoBasket2ndSeason ProductionI.G Manga Sports School TeamSports Shounen OnoKensho KenshoOno OnoYuuki YuukiSuwabe SuwabeJunichi JunichiKamiya KamiyaHiroshi HiroshiKimura KimuraRyouhei RyouheiOno OnoDaisuke DaisukeSuzumura SuzumuraKenichi KenichiHamada HamadaKenji KenjiSuzuki SuzukiTatsuhisa TatsuhisaOrikasa OrikasaFumiko KurokonoBasket3rdSeason ProductionI.G Manga Sports School TeamSports Shounen OnoKensho KenshoOno OnoYuuki YuukiSuwabe SuwabeJunichi JunichiKamiya KamiyaHiroshi HiroshiKimura KimuraRyouhei RyouheiOno OnoDaisuke DaisukeSuzumura SuzumuraKenichi KenichiHamada HamadaKenji KenjiSuzuki SuzukiTatsuhisa TatsuhisaOrikasa OrikasaFumiko MagicKaito1412 A-1Pictures Manga Adventure Comedy Romance Shounen YamaguchiKappei KappeiIchimichi IchimichiMao MaoTakayama TakayamaMinami MinamiHayashibara HayashibaraMegumi MegumiYamazaki YamazakiWakana WakanaKoyama KoyamaRikiya RikiyaMatsui MatsuiNaoko NaokoMiyano MiyanoMamoru MamoruChafurin ChafurinIkeda IkedaShuuichi NanatsunoTaizai A-1Pictures Manga Action Adventure Fantasy Shounen SuzukiTatsuhisa TatsuhisaKaji KajiYuuki YuukiFukuyama FukuyamaJun JunKuno KunoMisaki MisakiTakagi TakagiYuuhei YuuheiYuuki YuukiAoi AoiAmamiya AmamiyaSora SoraSakamoto SakamotoMaaya MaayaKoiwai KoiwaiKotori KotoriMiyano MiyanoMamoru NanatsunoTaizai:SeisennoShirushi A-1Pictures Manga Action Adventure Fantasy Shounen SuzukiTatsuhisa TatsuhisaKaji KajiYuuki YuukiFukuyama FukuyamaJun JunKuno KunoMisaki MisakiTakagi TakagiYuuhei YuuheiYuuki YuukiAoi AoiAmamiya AmamiyaSora SoraSakamoto SakamotoMaaya MaayaMiyano MiyanoMamoru Noragami Bones Manga Action Fantasy Mythology Shounen KamiyaHiroshi HiroshiKaji KajiYuuki YuukiUchida UchidaMaaya MaayaSawashiro SawashiroMiyuki MiyukiToyosaki ToyosakiAki AkiFukuyama FukuyamaJun JunKugimiya KugimiyaRie RieOno OnoDaisuke DaisukeSakurai SakuraiTakahiro TakahiroInoue InoueKazuhiko OnePunchMan Madhouse Webmanga Action Comedy Parody SuperPower Seinen FurukawaMakoto MakotoIshikawa IshikawaKaito KaitoYuuki YuukiAoi AoiNakamura NakamuraYuuichi YuuichiHayami HayamiSaori SaoriKaji KajiYuuki YuukiYasumoto YasumotoHiroki HirokiHatano HatanoWataru WataruOnosaka OnosakaMasaya Overlord Madhouse Lightnovel Action Adventure Fantasy Supernatural Isekai VideoGame HinoSatoshi SatoshiHara HaraYumi YumiUesaka UesakaSumire SumireNumakura NumakuraManami ManamiKatou KatouMasayuki MasayukiChiba ChibaShigeru ShigeruMiyano MiyanoMamoru MamoruShindou ShindouKei KeiKomatsu KomatsuMikako MikakoSeto SetoAsami ShokugekinoSouma J.C.Staff Manga Gourmet Ecchi School Shounen MatsuokaYoshitsugu YoshitsuguTaneda TanedaRisa RisaTakahashi TakahashiMinami MinamiAkasaki AkasakiChinatsu ChinatsuSakurai SakuraiTakahiro TakahiroOkamoto OkamotoNobuhiko NobuhikoIshigami IshigamiShizuka ShizukaKoyama KoyamaRikiya RikiyaHanae HanaeNatsuki NatsukiSuwabe SuwabeJunichi TokyoGhoul Pierrot Manga Action Fantasy Horror Gore Psychological Seinen KoboriYurie YurieAmamiya AmamiyaSora SoraKugimiya KugimiyaRie RieSakurai SakuraiTakahiro TakahiroMiyano MiyanoMamoru MamoruToyonaga ToyonagaToshiyuki ToshiyukiSakamoto SakamotoMaaya MaayaKaji KajiYuuki YuukiNamikawa NamikawaDaisuke DaisukeHanazawa HanazawaKana TokyoGhoul√A Pierrot Manga Action Fantasy Horror Gore Psychological Seinen HanaeNatsuki NatsukiAmamiya AmamiyaSora SoraKugimiya KugimiyaRie RieSakurai SakuraiTakahiro TakahiroMiyano MiyanoMamoru MamoruToyonaga ToyonagaToshiyuki ToshiyukiSakamoto SakamotoMaaya MaayaKaji KajiYuuki YuukiNamikawa NamikawaDaisuke DaisukeKonishi KonishiKatsuyuki NoragamiAragoto Bones Manga Action Fantasy Mythology Shounen KamiyaHiroshi HiroshiKaji KajiYuuki YuukiUchida UchidaMaaya MaayaSawashiro SawashiroMiyuki MiyukiFukuyama FukuyamaJun JunToyosaki ToyosakiAki AkiKugimiya KugimiyaRie RieOkiayu OkiayuRyoutarou RyoutarouOno OnoDaisuke DaisukeHamazoe HamazoeShinya GekkanShoujoNozaki-kun DogaKobo 4-komamanga Comedy Romance OtakuCulture School OkamotoNobuhiko NobuhikoOzawa OzawaAri AriSawashiro SawashiroMiyuki MiyukiNakamura NakamuraYuuichi YuuichiNakahara NakaharaMai MaiOno OnoYuuki YuukiKimura KimuraRyouhei RyouheiHino HinoSatoshi SatoshiKawasumi KawasumiAyako AyakoMiyano MiyanoMamoru']\n"
     ]
    }
   ],
   "source": [
    "print(result[5421])"
   ]
  },
  {
   "cell_type": "code",
   "execution_count": 8,
   "metadata": {},
   "outputs": [],
   "source": [
    "outputdf = pandas.DataFrame(result, columns=['user','bag of words'])\n",
    "outputdf.to_csv('users_bag_of_words.csv', index=False)"
   ]
  },
  {
   "cell_type": "code",
   "execution_count": 23,
   "metadata": {},
   "outputs": [
    {
     "name": "stdout",
     "output_type": "stream",
     "text": [
      "7530\n",
      "True\n"
     ]
    }
   ],
   "source": [
    "test_df = pandas.read_csv('users_bag_of_words.csv')\n",
    "\n",
    "# print(test_df.loc[0]['bag of words'])\n",
    "test = test_df.loc[0]['bag of words'].split()\n",
    "print(len(test))\n",
    "s = set(test)\n",
    "\n",
    "print('AkimotoYousuke' in s)"
   ]
  }
 ],
 "metadata": {
  "kernelspec": {
   "display_name": "Python 3.10.8 64-bit (microsoft store)",
   "language": "python",
   "name": "python3"
  },
  "language_info": {
   "codemirror_mode": {
    "name": "ipython",
    "version": 3
   },
   "file_extension": ".py",
   "mimetype": "text/x-python",
   "name": "python",
   "nbconvert_exporter": "python",
   "pygments_lexer": "ipython3",
   "version": "3.10.8"
  },
  "orig_nbformat": 4,
  "vscode": {
   "interpreter": {
    "hash": "8fc903fd1a35692d96a4695a6c4f7b57bb80f609b0147f9dc1e34250c7f2a3f2"
   }
  }
 },
 "nbformat": 4,
 "nbformat_minor": 2
}
