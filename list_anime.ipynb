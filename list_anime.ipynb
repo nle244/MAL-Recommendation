{
 "cells": [
  {
   "cell_type": "code",
   "execution_count": null,
   "metadata": {},
   "outputs": [],
   "source": [
    "import pandas\n",
    "import numpy\n",
    "import csv\n",
    "import os\n",
    "from tqdm import tqdm\n",
    "\n",
    "from pytest import skip\n",
    "\n",
    "\n",
    "df_user_info = pandas.read_csv('user_list_more_than_20.csv')\n",
    "df_anime = pandas.read_csv('new_anime.csv')\n",
    "df_anime_test = pandas.read_csv('anime_test.csv')"
   ]
  },
  {
   "cell_type": "code",
   "execution_count": null,
   "metadata": {},
   "outputs": [],
   "source": [
    "#create list of anime in test set \n",
    "test_anime = []\n",
    "for i in range(len(df_anime_test)):\n",
    "    test_anime.append(df_anime_test.loc[i]['Id'].replace('\\'',''))\n"
   ]
  },
  {
   "cell_type": "code",
   "execution_count": null,
   "metadata": {},
   "outputs": [],
   "source": [
    "# #creates bag of words with all features\n",
    "# def create_soup(x):\n",
    "#     result = x['Anime Title']\n",
    "\n",
    "#     if x['Studio'] != 'n/a':\n",
    "#         result += ' ' + x['Studio']\n",
    "#     if x['Source Material'] != 'n/a':\n",
    "#         result += ' ' + x['Source Material']\n",
    "#     if x['Genre'] != 'n/a':\n",
    "#         result += ' ' + x['Genre']\n",
    "#     if x['VAs'] != 'n/a':\n",
    "#         result += ' ' + x['VAs']\n",
    "\n",
    "#     punc = '[],\\'\\\"'\n",
    "    \n",
    "#     for ele in result:\n",
    "#         if ele in punc:\n",
    "#             result = result.replace(ele, \"\")\n",
    "\n",
    "#     result\n",
    "#     return result"
   ]
  },
  {
   "cell_type": "code",
   "execution_count": null,
   "metadata": {},
   "outputs": [],
   "source": [
    "# #creates bag of words with reduced features\n",
    "# def create_soup_reduced(x):\n",
    "#     result = x['Anime Title']\n",
    "\n",
    "#     if x['Studio'] != 'n/a':\n",
    "#         result += ' ' + x['Studio']\n",
    "#     # if x['Source Material'] != 'n/a':\n",
    "#     #     result += ' ' + x['Source Material']\n",
    "#     if x['Genre'] != 'n/a':\n",
    "#         result += ' ' + x['Genre']\n",
    "#     # if x['VAs'] != 'n/a':\n",
    "#     #     result += ' ' + x['VAs']\n",
    "\n",
    "#     punc = '[],\\'\\\"'\n",
    "    \n",
    "#     for ele in result:\n",
    "#         if ele in punc:\n",
    "#             result = result.replace(ele, \"\")\n",
    "\n",
    "#     result\n",
    "#     return result"
   ]
  },
  {
   "cell_type": "code",
   "execution_count": null,
   "metadata": {},
   "outputs": [],
   "source": [
    "# #creates bag of words with reduced features\n",
    "# def create_soup_genres(x):\n",
    "#     result = x['Anime Title']\n",
    "\n",
    "#     # if x['Studio'] != 'n/a':\n",
    "#     #     result += ' ' + x['Studio']\n",
    "#     # if x['Source Material'] != 'n/a':\n",
    "#     #     result += ' ' + x['Source Material']\n",
    "#     if x['Genre'] != 'n/a':\n",
    "#         result += ' ' + x['Genre']\n",
    "#     # if x['VAs'] != 'n/a':\n",
    "#     #     result += ' ' + x['VAs']\n",
    "\n",
    "#     punc = '[],\\'\\\"'\n",
    "    \n",
    "#     for ele in result:\n",
    "#         if ele in punc:\n",
    "#             result = result.replace(ele, \"\")\n",
    "\n",
    "#     result\n",
    "#     return result"
   ]
  },
  {
   "cell_type": "code",
   "execution_count": null,
   "metadata": {},
   "outputs": [],
   "source": [
    "# #creates bag of words as a set\n",
    "# def create_soup_set(x):\n",
    "#     result = x['Anime Title']\n",
    "\n",
    "#     if x['Studio'] != 'n/a':\n",
    "#         result += ' ' + x['Studio']\n",
    "#     if x['Source Material'] != 'n/a':\n",
    "#         result += ' ' + x['Source Material']\n",
    "#     if x['Genre'] != 'n/a':\n",
    "#         result += ' ' + x['Genre']\n",
    "#     if x['VAs'] != 'n/a':\n",
    "#         result += ' ' + x['VAs']\n",
    "\n",
    "#     punc = '[],\\'\\\"'\n",
    "    \n",
    "#     for ele in result:\n",
    "#         if ele in punc:\n",
    "#             result = result.replace(ele, \"\")\n",
    "\n",
    "#     result = set(result.split())\n",
    "#     return result"
   ]
  },
  {
   "cell_type": "code",
   "execution_count": null,
   "metadata": {},
   "outputs": [],
   "source": [
    "# #read each user's watch list and creates a bag of words of all anime they watched\n",
    "# result = []\n",
    "# length = len(df_user_info)\n",
    "\n",
    "# # text = 34156\n",
    "# # print(text)\n",
    "# # print(create_soup(df_anime.loc[df_anime['Id'] == text.index[0]]))\n",
    "\n",
    "# for j in tqdm(range(length)):\n",
    "#     try:\n",
    "#         user = df_user_info.loc[j]['user']\n",
    "#         watched = (df_user_info.loc[j]['watched list']).split()\n",
    "#         bag = ''\n",
    "#         for k in range(len(watched)):\n",
    "#             if watched[k] not in test_anime:\n",
    "#                 try:\n",
    "#                     temp = '\\'' + watched[k] + '\\''\n",
    "#                     index = df_anime.loc[df_anime['Id'] == temp].index[0]\n",
    "#                     bag += ' ' + create_soup_genres(df_anime.loc[index])\n",
    "#                 except:\n",
    "#                     pass\n",
    "#     except:\n",
    "#         pass\n",
    "#     result.append([user,bag])"
   ]
  },
  {
   "cell_type": "code",
   "execution_count": null,
   "metadata": {},
   "outputs": [],
   "source": [
    "# outputdf = pandas.DataFrame(result, columns=['user','bag of words'])\n",
    "# outputdf.to_csv('users_bag_of_words_genres.csv', index=False)"
   ]
  },
  {
   "cell_type": "code",
   "execution_count": null,
   "metadata": {},
   "outputs": [],
   "source": [
    "# #read each user's watch list and creates a bag of words of all anime they watched\n",
    "# def make_bag(func):\n",
    "#     result = []\n",
    "#     length = len(df_user_info)\n",
    "\n",
    "#     # text = 34156\n",
    "#     # print(text)\n",
    "#     # print(create_soup(df_anime.loc[df_anime['Id'] == text.index[0]]))\n",
    "\n",
    "#     for j in range(1):\n",
    "#         try:\n",
    "#             user = df_user_info.loc[j]['user']\n",
    "#             watched = (df_user_info.loc[j]['watched list']).split()\n",
    "#             bag = ''\n",
    "#             for k in range(len(watched)):\n",
    "#                 if watched[k] not in test_anime:\n",
    "#                     try:\n",
    "#                         temp = '\\'' + watched[k] + '\\''\n",
    "#                         index = df_anime.loc[df_anime['Id'] == temp].index[0]\n",
    "#                         bag += ' ' + func(df_anime.loc[index])\n",
    "#                         print(bag)\n",
    "#                     except:\n",
    "#                         pass\n",
    "#         except:\n",
    "#             pass\n",
    "#         result.append([user,bag])\n",
    "#     return result"
   ]
  },
  {
   "cell_type": "code",
   "execution_count": null,
   "metadata": {},
   "outputs": [],
   "source": [
    "#Creates empty anime matrix\n",
    "\n",
    "#create empty dataframe\n",
    "header = ['anime']\n",
    "for i in range(len(df_user_info)):\n",
    "    header.append(df_user_info.loc[i]['user'])\n",
    "    \n",
    "#create row of zeros\n",
    "result = []\n",
    "for i in range(len(df_anime)):\n",
    "    row = [df_anime.loc[i]['Id'].replace('\\'','')]\n",
    "    for j in range(len(df_user_info)):\n",
    "        row.append(0)\n",
    "    result.append(row)\n",
    "\n",
    "#output to csv\n",
    "outputdf = pandas.DataFrame(result, columns=header)\n",
    "outputdf.to_csv('anime_matrix.csv', index=False)"
   ]
  },
  {
   "cell_type": "code",
   "execution_count": null,
   "metadata": {},
   "outputs": [],
   "source": [
    "# #fills in the true values for each anime based on user's watch list\n",
    "# u = []\n",
    "# for i in range(len(df_user_info)):\n",
    "#     u.append(df_user_info.loc[i]['user'])\n",
    "    \n",
    "# for j in tqdm(range(len(u))):\n",
    "#     try:\n",
    "#         w = df_user_info.loc[j][\"watched list\"].split()\n",
    "#         for i in range(len(df_anime)):\n",
    "#             # print(df_matrix.at[i,'ilampan'])\n",
    "#             if df_anime.loc[i]['Id'].replace('\\'','') in w:\n",
    "#                 df_matrix.at[i,u[j]] = 1\n",
    "#     except:\n",
    "#         pass\n",
    "\n",
    "# # print(df_matrix.at[0,'ilampan'])\n",
    "\n"
   ]
  },
  {
   "cell_type": "code",
   "execution_count": null,
   "metadata": {},
   "outputs": [],
   "source": [
    "#creates anime watched true values\n",
    "anime = []\n",
    "for i in range(len(df_anime)):\n",
    "    anime.append(df_anime.loc[i]['Id'])\n",
    "\n",
    "users_watched = []\n",
    "header = ['Id']\n",
    "for i in range(len(df_user_info)):\n",
    "    header.append(df_user_info.loc[i]['user'])\n",
    "    try:\n",
    "        users_watched.append(df_user_info.loc[i][\"watched list\"].split())\n",
    "    except:\n",
    "        users_watched.append([])    #append empty list if the user has no watch list\n",
    "\n",
    "\n",
    "result = []\n",
    "for i in tqdm(range(len(anime))):\n",
    "    id = anime[i].replace('\\'','')\n",
    "    temp = [id]\n",
    "    for j in range(len(users_watched)):\n",
    "        if id in users_watched[j]:\n",
    "            temp.append(1)\n",
    "        else:\n",
    "            temp.append(0)\n",
    "    result.append(temp)\n",
    "\n",
    "outputdf = pandas.DataFrame(result, columns=header)\n",
    "outputdf.to_csv('anime_matrix_true.csv', index=False)"
   ]
  },
  {
   "cell_type": "code",
   "execution_count": null,
   "metadata": {},
   "outputs": [],
   "source": [
    "# #read each user's watch list and creates a bag of words of all anime they watched\n",
    "# result = []\n",
    "# length = len(df_user_info)\n",
    "\n",
    "# # text = 34156\n",
    "# # print(text)\n",
    "# # print(create_soup(df_anime.loc[df_anime['Id'] == text.index[0]]))\n",
    "\n",
    "# for j in tqdm(range(length)):\n",
    "#     try:\n",
    "#         user = df_user_info.loc[j]['user']\n",
    "#         watched = (df_user_info.loc[j]['watched list']).split()\n",
    "#         bag = ''\n",
    "#         for k in range(len(watched)):\n",
    "#             if watched[k] not in test_anime:\n",
    "#                 try:\n",
    "#                     temp = '\\'' + watched[k] + '\\''\n",
    "#                     index = df_anime.loc[df_anime['Id'] == temp].index[0]\n",
    "#                     bag += ' ' + create_soup_reduced(df_anime.loc[index])\n",
    "#                 except:\n",
    "#                     pass\n",
    "#     except:\n",
    "#         pass\n",
    "#     result.append([user,bag])"
   ]
  },
  {
   "cell_type": "code",
   "execution_count": null,
   "metadata": {},
   "outputs": [],
   "source": [
    "# outputdf = pandas.DataFrame(result, columns=['user','bag of words'])\n",
    "# outputdf.to_csv('users_bag_of_words_reduced.csv', index=False)"
   ]
  },
  {
   "cell_type": "code",
   "execution_count": null,
   "metadata": {},
   "outputs": [],
   "source": [
    "# wa = df_user_info.loc[2]['watched list'].split()\n",
    "\n",
    "# bag = ''\n",
    "# for i in tqdm(range(len(wa))):\n",
    "#     if wa[i] not in test_anime:\n",
    "#         try:\n",
    "#             temp = '\\'' + wa[i] + '\\''\n",
    "#             index = df_anime.loc[df_anime['Id'] == temp].index[0]\n",
    "#             bag += ' ' + create_soup(df_anime.loc[index])\n",
    "#         except:\n",
    "#             pass\n",
    "\n"
   ]
  },
  {
   "cell_type": "code",
   "execution_count": null,
   "metadata": {},
   "outputs": [],
   "source": [
    "#X is the list of anime found in df_anime\n",
    "#y is if the the user watched the anime or not\n",
    "\n",
    "df_anime_x = pandas.read_csv('anime_train.csv')\n",
    "df_anime_y = pandas.read_csv('anime_matrix_true.csv')\n",
    "\n",
    "a = len(df_anime_x)\n",
    "b = len(df_anime_y)\n",
    "\n",
    "df_anime_y.drop(df_anime_y.tail(b-a).index,inplace=True)\n",
    "\n",
    "print(df_anime_x.shape)\n",
    "print(df_anime_y.shape)"
   ]
  },
  {
   "cell_type": "code",
   "execution_count": null,
   "metadata": {},
   "outputs": [],
   "source": [
    "print(df_anime_y.head)"
   ]
  },
  {
   "cell_type": "code",
   "execution_count": null,
   "metadata": {},
   "outputs": [],
   "source": [
    "#creates bag of words with selected features\n",
    "def Create_soup_selection(x,studio=False,source=False,genre=False,va=False,all=False):\n",
    "    result = x['Anime Title']\n",
    "\n",
    "    if x['Studio'] != 'n/a' and (studio or all):\n",
    "        result += ' ' + x['Studio']\n",
    "    if x['Source Material'] != 'n/a' and (source or all):\n",
    "        result += ' ' + x['Source Material']\n",
    "    if x['Genre'] != 'n/a' and (genre or all):\n",
    "        result += ' ' + x['Genre']\n",
    "    if x['VAs'] != 'n/a' and (va or all):\n",
    "        result += ' ' + x['VAs']\n",
    "\n",
    "    punc = '[],\\'\\\"'\n",
    "    \n",
    "    for ele in result:\n",
    "        if ele in punc:\n",
    "            result = result.replace(ele, \"\")\n",
    "\n",
    "    result\n",
    "    return result\n",
    "\n",
    "#sorts list of tuples by the second element\n",
    "def Sort_Tuple(tup):\n",
    "    # getting length of list of tuples\n",
    "    lst = len(tup)\n",
    "    for i in range(0, lst):\n",
    "            \n",
    "        for j in range(0, lst-i-1):\n",
    "            if (tup[j][1] < tup[j + 1][1]):\n",
    "                temp = tup[j]\n",
    "                tup[j]= tup[j + 1]\n",
    "                tup[j + 1]= temp\n",
    "    return tup\n",
    "\n",
    "#finds the jaccard similarity\n",
    "def Jaccard(list1, list2):\n",
    "    intersection = len(list(set(list1).intersection(list2)))\n",
    "    union = (len(list1) + len(list2)) - intersection\n",
    "    return float(intersection / union)"
   ]
  },
  {
   "cell_type": "code",
   "execution_count": null,
   "metadata": {},
   "outputs": [],
   "source": [
    "from sklearn.model_selection import train_test_split\n",
    "\n",
    "X_train, X_test, y_train, y_test = train_test_split(df_anime_x, df_anime_y, test_size=0.2, random_state=42)"
   ]
  },
  {
   "cell_type": "code",
   "execution_count": null,
   "metadata": {},
   "outputs": [],
   "source": [
    "#create user list\n",
    "users = df_anime_y.columns[1:]\n",
    "\n",
    "#create watch list based on df_anime_y\n",
    "users_watched = []\n",
    "for j in tqdm(range(len(users))):\n",
    "    watched = []\n",
    "    for i in range(len(df_anime_y)):\n",
    "        if (df_anime_y.at[i,users[j]]):\n",
    "            watched.append(str(df_anime_y.loc[i]['Id']))\n",
    "    users_watched.append(watched)"
   ]
  },
  {
   "cell_type": "code",
   "execution_count": null,
   "metadata": {},
   "outputs": [],
   "source": [
    "df_mini_watch_list = pandas.DataFrame(result, columns=['user', 'watch list'])\n",
    "\n",
    "test_anime = []\n",
    "for i in range(len(X_test)):\n",
    "    test_anime.append(X_test.iloc[i]['Id'])"
   ]
  },
  {
   "cell_type": "code",
   "execution_count": null,
   "metadata": {},
   "outputs": [],
   "source": [
    "#read each user's watch list and creates a bag of words of all anime they watched\n",
    "user_bag_result = []\n",
    "length = len(users)\n",
    "\n",
    "for j in tqdm(range(length)):\n",
    "    # user = df_mini_watch_list.loc[j]['user']\n",
    "    watched = users_watched[j]\n",
    "    bag = ''\n",
    "    for k in range(len(watched)):\n",
    "        if watched[k] not in test_anime:\n",
    "            try:\n",
    "                temp = '\\'' + str(watched[k]) + '\\''\n",
    "                index = df_anime.loc[df_anime['Id'] == temp].index[0]\n",
    "                bag += ' ' + Create_soup_selection(df_anime.loc[index],all=True)\n",
    "            except:\n",
    "                pass\n",
    "    user_bag_result.append([users[j],bag])\n",
    "\n",
    "#creates a bag of words for each anime\n",
    "anime_bag_result = []\n",
    "for i in tqdm(range(len(df_anime_x))):\n",
    "    anime = df_anime_x.iloc[i]['Id'].replace('\\'','')\n",
    "    bag = Create_soup_selection(df_anime_x.iloc[i],all=True)\n",
    "    anime_bag_result.append([anime,bag])\n",
    "\n",
    "#output the user bag of words to csv\n",
    "outputdf = pandas.DataFrame(user_bag_result, columns=['user','bag of words'])\n",
    "outputdf.to_csv('users_bag_of_words_all.csv', index=False)\n",
    "\n",
    "#output the anime bag of words to csv\n",
    "outputdf = pandas.DataFrame(anime_bag_result, columns=['Id','bag of words'])\n",
    "outputdf.to_csv('anime_bag_of_words_all.csv', index=False)"
   ]
  },
  {
   "cell_type": "code",
   "execution_count": 14,
   "metadata": {},
   "outputs": [
    {
     "name": "stdout",
     "output_type": "stream",
     "text": [
      "34096\n"
     ]
    }
   ],
   "source": [
    "print(str(34096))"
   ]
  },
  {
   "cell_type": "code",
   "execution_count": null,
   "metadata": {},
   "outputs": [],
   "source": [
    "df_anime_x_temp = df_anime_x.copy()\n",
    "\n",
    "# df_anime_x_temp = df_anime_y[['ilampan']].copy()\n",
    "user_column = df_anime_y['ilampan']\n",
    "df_anime_x_temp['ilampan'] = user_column"
   ]
  },
  {
   "cell_type": "code",
   "execution_count": null,
   "metadata": {},
   "outputs": [],
   "source": [
    "\n",
    "rows =[]\n",
    "for i in range(len(X_test)):\n",
    "    rows.append(X_test.iloc[i]['Id'].replace('\\'',''))"
   ]
  },
  {
   "cell_type": "code",
   "execution_count": null,
   "metadata": {},
   "outputs": [],
   "source": [
    "user_column = df_anime_y[users[0]]\n",
    "df_anime_x_temp[users[0]] = user_column"
   ]
  },
  {
   "cell_type": "code",
   "execution_count": null,
   "metadata": {},
   "outputs": [],
   "source": [
    "print(users[0])\n",
    "print(len(rows))"
   ]
  },
  {
   "cell_type": "code",
   "execution_count": null,
   "metadata": {},
   "outputs": [],
   "source": [
    "df_anime_x_temp = df_anime_x.copy()\n",
    "\n",
    "# df_anime_x_temp = df_anime_y[['ilampan']].copy()\n",
    "user_column = df_anime_y[users[0]]\n",
    "df_anime_x_temp[users[0]] = user_column\n",
    "\n",
    "print(X_test.iloc[1])\n"
   ]
  },
  {
   "cell_type": "code",
   "execution_count": null,
   "metadata": {},
   "outputs": [],
   "source": [
    "#compute all distances and dump to file\n",
    "all_distances = []\n",
    "for j in tqdm(range(len(X_test))):\n",
    "    bag1 = Create_soup_selection(X_test.iloc[j],all=True).split()\n",
    "    distances = []\n",
    "    for i in range(len(X_train)):\n",
    "        bag2 = Create_soup_selection(X_train.iloc[i],all=True).split()\n",
    "        distances.append((X_train.iloc[i]['Id'].replace('\\'',''),Jaccard(list(bag1),list(bag2))))\n",
    "    Sort_Tuple(distances)\n",
    "    all_distances.append(distances)\n",
    "\n",
    "import pickle\n",
    "\n",
    "# open a file, where you ant to store the data\n",
    "file = open('knn_distances', 'wb')\n",
    "\n",
    "# dump information to that file\n",
    "pickle.dump(all_distances, file)\n",
    "\n",
    "# close the file\n",
    "file.close()"
   ]
  },
  {
   "cell_type": "code",
   "execution_count": null,
   "metadata": {},
   "outputs": [],
   "source": [
    "import pickle\n",
    "\n",
    "# open a file, where you stored the pickled data\n",
    "file = open('knn_distances', 'rb')\n",
    "\n",
    "# dump information to that file\n",
    "all_distances = pickle.load(file)\n",
    "\n",
    "# close the file\n",
    "file.close()"
   ]
  },
  {
   "cell_type": "code",
   "execution_count": null,
   "metadata": {},
   "outputs": [],
   "source": [
    "#KNN implementation\n",
    "\n",
    "#make empty prediction matrix\n",
    "#add anime Id column\n",
    "#for every user\n",
    "#   for each list of distances\n",
    "#       find value of sum and divide by k\n",
    "#       if sum / k is >= 0.5 predict 1, else predict 0\n",
    "#   append to list of predictions\n",
    "\n",
    "# print(type(distances[1][0]))\n",
    "# temp = df_anime_y.loc[df_anime_y['Id'] == 32937]['ilampan']\n",
    "# print(df_anime_y.loc[df_anime_y['Id'] == 32937])\n",
    "for knn in tqdm(range(2,16)):\n",
    "    neighbors = knn\n",
    "    prediction_result = []\n",
    "    for j in (range(len(users))):\n",
    "        col = users[j]\n",
    "        watched = users_watched[j]\n",
    "        predictions = []\n",
    "        for k in range(len(all_distances)):\n",
    "            distances = all_distances[k]\n",
    "            #compute the sum\n",
    "            neigh = []\n",
    "            for i in range(neighbors):\n",
    "                neigh.append(distances[i][0])\n",
    "            sum = len(list(set(neigh).intersection(watched)))\n",
    "            if (sum / neighbors) >= 0.5:\n",
    "                predictions.append(1)\n",
    "            else:\n",
    "                predictions.append(0)\n",
    "        prediction_result.append(predictions)\n",
    "\n",
    "    #create df_predictions\n",
    "    df_predictions = pandas.DataFrame()\n",
    "    df_predictions['Id'] = rows\n",
    "    for i in range(len(users)):\n",
    "        col = users[i]\n",
    "        df_predictions[col] = prediction_result[i]\n",
    "\n",
    "    #write to csv\n",
    "    outputdf = df_predictions.copy()\n",
    "    outputdf.to_csv(f'predictions_matrix_{neighbors}nn.csv', index=False)"
   ]
  },
  {
   "cell_type": "code",
   "execution_count": null,
   "metadata": {},
   "outputs": [],
   "source": [
    "df_test = pandas.DataFrame()\n",
    "df_test['Id'] = rows\n",
    "print(len(prediction_result))\n",
    "df_temp = pandas.DataFrame(prediction_result,columns=users)\n",
    "# df_teee = pandas.DataFrame(prediction_result, index=False, columns=users)\n",
    "pandas.concat([df_test, pandas.DataFrame(prediction_result, index=df_test.index, columns=rows)], axis=1)"
   ]
  },
  {
   "cell_type": "code",
   "execution_count": null,
   "metadata": {},
   "outputs": [],
   "source": [
    "# temp = all_distances[0]\n",
    "# watched = users_watched[0]\n",
    "# print(watched)\n",
    "# t = []\n",
    "# t.append(str(30))\n",
    "# print(t[0] in watched)\n",
    "# # print(watched)\n",
    "# print(temp[0:neighbors])\n",
    "# neigh = []\n",
    "# for i in range(neighbors):\n",
    "#     neigh.append(temp[i][0])\n",
    "# print('neighbors = ',neigh)\n",
    "# print(t[0] in neigh)\n",
    "# print('intersect = ',len(list(set(watched).intersection(t))))"
   ]
  },
  {
   "cell_type": "code",
   "execution_count": null,
   "metadata": {},
   "outputs": [],
   "source": [
    "df_predictions = pandas.DataFrame()\n",
    "df_predictions['Id'] = rows\n",
    "print(df_predictions.head)"
   ]
  }
 ],
 "metadata": {
  "kernelspec": {
   "display_name": "Python 3.10.8 64-bit (microsoft store)",
   "language": "python",
   "name": "python3"
  },
  "language_info": {
   "codemirror_mode": {
    "name": "ipython",
    "version": 3
   },
   "file_extension": ".py",
   "mimetype": "text/x-python",
   "name": "python",
   "nbconvert_exporter": "python",
   "pygments_lexer": "ipython3",
   "version": "3.10.8"
  },
  "orig_nbformat": 4,
  "vscode": {
   "interpreter": {
    "hash": "8fc903fd1a35692d96a4695a6c4f7b57bb80f609b0147f9dc1e34250c7f2a3f2"
   }
  }
 },
 "nbformat": 4,
 "nbformat_minor": 2
}
