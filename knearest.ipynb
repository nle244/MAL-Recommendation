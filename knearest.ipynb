{
 "cells": [
  {
   "cell_type": "code",
   "execution_count": 1,
   "metadata": {},
   "outputs": [],
   "source": [
    "import pandas\n",
    "import numpy\n",
    "import csv\n",
    "import os\n",
    "import warnings\n",
    "from tqdm import tqdm\n",
    "from functions import *\n",
    "\n",
    "from pytest import skip\n",
    "\n",
    "df_user_info = pandas.read_csv('user_list_more_than_20.csv')\n",
    "df_anime_x = pandas.read_csv('top_and_bottom_anime.csv')\n",
    "df_anime_y = pandas.read_csv('anime_matrix_true.csv')\n",
    "\n",
    "#create main split for training and testing\n",
    "from sklearn.model_selection import train_test_split\n",
    "X_train, X_test, y_train, y_test = train_test_split(df_anime_x, df_anime_y, test_size=0.2, random_state=42)\n",
    "\n",
    "#create cross training split for building the models\n",
    "X_cross_train, X_cross_test, y_cross_train, y_cross_test = train_test_split(X_train, y_train, test_size=0.2, random_state=69)"
   ]
  },
  {
   "cell_type": "code",
   "execution_count": 2,
   "metadata": {},
   "outputs": [],
   "source": [
    "#Same spits are performed again to create df_true to check accuracy \n",
    "#create main split for training and testing\n",
    "from sklearn.model_selection import train_test_split\n",
    "A_train, A_test, b_train, b_test = train_test_split(df_anime_y, df_anime_y, test_size=0.2, random_state=42)\n",
    "\n",
    "#create cross training split for building the models\n",
    "A_cross_train, A_cross_test, b_cross_train, b_cross_test = train_test_split(A_train, b_train, test_size=0.2, random_state=69)\n",
    "\n",
    "df_true = A_cross_test.copy()"
   ]
  },
  {
   "cell_type": "code",
   "execution_count": 3,
   "metadata": {},
   "outputs": [
    {
     "name": "stderr",
     "output_type": "stream",
     "text": [
      "100%|██████████| 9028/9028 [00:03<00:00, 2429.90it/s]\n"
     ]
    }
   ],
   "source": [
    "#create user list\n",
    "watch_values = y_cross_train.values\n",
    "users = y_cross_train.columns[1:]\n",
    "\n",
    "#get rows of anime in the test list\n",
    "rows = X_cross_test['Id'].copy()\n",
    "\n",
    "#create watch list based on df_anime_y\n",
    "users_watched = []\n",
    "for i in tqdm(range(len(users))):\n",
    "    watched = []\n",
    "    for j in range(len(watch_values)):\n",
    "        if(watch_values[j][i+1]):\n",
    "            watched.append(str(watch_values[j][0]))\n",
    "    users_watched.append(watched)"
   ]
  },
  {
   "cell_type": "code",
   "execution_count": 4,
   "metadata": {},
   "outputs": [
    {
     "name": "stderr",
     "output_type": "stream",
     "text": [
      " 81%|████████▏ | 453/556 [00:40<00:09, 11.19it/s]\n"
     ]
    },
    {
     "ename": "KeyboardInterrupt",
     "evalue": "",
     "output_type": "error",
     "traceback": [
      "\u001b[1;31m---------------------------------------------------------------------------\u001b[0m",
      "\u001b[1;31mKeyboardInterrupt\u001b[0m                         Traceback (most recent call last)",
      "Cell \u001b[1;32mIn [4], line 22\u001b[0m\n\u001b[0;32m     20\u001b[0m \u001b[39mfor\u001b[39;00m j \u001b[39min\u001b[39;00m \u001b[39mrange\u001b[39m(\u001b[39mlen\u001b[39m(users_watched)):\n\u001b[0;32m     21\u001b[0m     \u001b[39mif\u001b[39;00m \u001b[39mid\u001b[39m \u001b[39min\u001b[39;00m users_watched[j]:\n\u001b[1;32m---> 22\u001b[0m         temp\u001b[39m.\u001b[39mappend(\u001b[39m1\u001b[39m)\n\u001b[0;32m     23\u001b[0m     \u001b[39melse\u001b[39;00m:\n\u001b[0;32m     24\u001b[0m         temp\u001b[39m.\u001b[39mappend(\u001b[39m0\u001b[39m)\n",
      "\u001b[1;31mKeyboardInterrupt\u001b[0m: "
     ]
    }
   ],
   "source": [
    "#creates anime watched true values\n",
    "anime = []\n",
    "for i in range(len(df_anime_x)):\n",
    "    anime.append(df_anime_x.loc[i]['Id'])\n",
    "\n",
    "users_watched = []\n",
    "header = ['Id']\n",
    "for i in range(len(df_user_info)):\n",
    "    header.append(df_user_info.loc[i]['user'])\n",
    "    try:\n",
    "        users_watched.append(df_user_info.loc[i][\"watched list\"].split())\n",
    "    except:\n",
    "        users_watched.append([])    #append empty list if the user has no watch list\n",
    "\n",
    "\n",
    "result = []\n",
    "for i in tqdm(range(len(anime))):\n",
    "    id = anime[i].replace('\\'','')\n",
    "    temp = [id]\n",
    "    for j in range(len(users_watched)):\n",
    "        if id in users_watched[j]:\n",
    "            temp.append(1)\n",
    "        else:\n",
    "            temp.append(0)\n",
    "    result.append(temp)\n",
    "\n",
    "outputdf = pandas.DataFrame(result, columns=header)\n",
    "outputdf.to_csv('anime_matrix_true_knn.csv', index=False)"
   ]
  },
  {
   "cell_type": "markdown",
   "metadata": {},
   "source": [
    "# Compute All Distances"
   ]
  },
  {
   "cell_type": "code",
   "execution_count": null,
   "metadata": {},
   "outputs": [
    {
     "name": "stderr",
     "output_type": "stream",
     "text": [
      "100%|██████████| 89/89 [00:04<00:00, 21.34it/s]\n"
     ]
    }
   ],
   "source": [
    "#compute all distances and dump to file\n",
    "#for Create_soup_selection choose all, or choose between studio, source, genre, va\n",
    "test = X_cross_test.copy()\n",
    "train = X_cross_train.copy()\n",
    "\n",
    "all_distances = []\n",
    "for j in tqdm(range(len(test))):\n",
    "    bag1 = Create_soup_selection(test.iloc[j],studio=False,source=True,genre=True,va=True).split()\n",
    "    distances = []\n",
    "    for i in range(len(train)):\n",
    "        bag2 = Create_soup_selection(train.iloc[i],studio=False,source=True,genre=True,va=True).split()\n",
    "        distances.append((train.iloc[i]['Id'].replace('\\'',''),Jaccard(list(bag1),list(bag2))))\n",
    "    Sort_Tuple(distances)\n",
    "    all_distances.append(distances)\n",
    "\n",
    "import pickle\n",
    "\n",
    "# open a file, where you ant to store the data\n",
    "file = open('knn_distances_all__', 'wb')\n",
    "\n",
    "# dump information to that file\n",
    "pickle.dump(all_distances, file)\n",
    "\n",
    "# close the file\n",
    "file.close()"
   ]
  },
  {
   "cell_type": "code",
   "execution_count": 5,
   "metadata": {},
   "outputs": [],
   "source": [
    "import pickle\n",
    "\n",
    "# open a file, where you stored the pickled data\n",
    "file = open('knn_distances_all', 'rb')\n",
    "\n",
    "# dump information to that file\n",
    "all_distances = pickle.load(file)\n",
    "\n",
    "# close the file\n",
    "file.close()"
   ]
  },
  {
   "cell_type": "markdown",
   "metadata": {},
   "source": [
    "# Make Predictions"
   ]
  },
  {
   "cell_type": "code",
   "execution_count": 6,
   "metadata": {},
   "outputs": [
    {
     "name": "stderr",
     "output_type": "stream",
     "text": [
      "100%|██████████| 1/1 [00:37<00:00, 37.67s/it]\n"
     ]
    }
   ],
   "source": [
    "#KNN implementation\n",
    "\n",
    "#make empty prediction matrix\n",
    "#add anime Id column from 'rows'\n",
    "#for every user\n",
    "#   for each list of distances\n",
    "#       find value of sum and divide by k\n",
    "#       if sum / k is >= 0.5 predict 1, else predict 0\n",
    "#   append to list of predictions\n",
    "\n",
    "for knn in tqdm(range(11,12)):\n",
    "    neighbors = 9\n",
    "    prediction_result = []\n",
    "    for j in (range(len(users))):\n",
    "        col = users[j]\n",
    "        watched = users_watched[j]\n",
    "        predictions = []\n",
    "        for k in range(len(all_distances)):\n",
    "            distances = all_distances[k]\n",
    "            #compute the sum\n",
    "            neigh = []\n",
    "            for i in range(neighbors):\n",
    "                neigh.append(distances[i][0])\n",
    "            value = len(list(set(neigh).intersection(watched)))\n",
    "            if (value / neighbors) > 0.5:\n",
    "                predictions.append(1)\n",
    "            else:\n",
    "                predictions.append(0)\n",
    "        prediction_result.append(predictions)\n",
    "\n",
    "    #create df_predictions\n",
    "    warnings.simplefilter(action='ignore', category=pandas.errors.PerformanceWarning)\n",
    "    df_predictions = pandas.DataFrame()\n",
    "    df_predictions['Id'] = rows\n",
    "    for i in range(len(users)):\n",
    "        col = users[i]\n",
    "        df_predictions[col] = prediction_result[i]\n",
    "\n",
    "    #write to csv\n",
    "    outputdf = df_predictions.copy()\n",
    "    outputdf.to_csv(f'predictions_matrix_{neighbors}nn.csv', index=False)"
   ]
  },
  {
   "cell_type": "markdown",
   "metadata": {},
   "source": [
    "# Evaluation"
   ]
  },
  {
   "cell_type": "code",
   "execution_count": 64,
   "metadata": {},
   "outputs": [
    {
     "name": "stderr",
     "output_type": "stream",
     "text": [
      "  0%|          | 0/25 [00:06<?, ?it/s]\n"
     ]
    },
    {
     "ename": "KeyboardInterrupt",
     "evalue": "",
     "output_type": "error",
     "traceback": [
      "\u001b[1;31m---------------------------------------------------------------------------\u001b[0m",
      "\u001b[1;31mKeyboardInterrupt\u001b[0m                         Traceback (most recent call last)",
      "Cell \u001b[1;32mIn [64], line 47\u001b[0m\n\u001b[0;32m     45\u001b[0m \u001b[39m#caluclate accuracy\u001b[39;00m\n\u001b[0;32m     46\u001b[0m value \u001b[39m=\u001b[39m \u001b[39m0\u001b[39m\n\u001b[1;32m---> 47\u001b[0m prediction_matrix \u001b[39m=\u001b[39m pandas\u001b[39m.\u001b[39;49mread_csv(\u001b[39mf\u001b[39;49m\u001b[39m'\u001b[39;49m\u001b[39mpredictions_matrix_\u001b[39;49m\u001b[39m{\u001b[39;49;00mneighbors\u001b[39m}\u001b[39;49;00m\u001b[39mnn.csv\u001b[39;49m\u001b[39m'\u001b[39;49m)\n\u001b[0;32m     48\u001b[0m pred_values \u001b[39m=\u001b[39m prediction_matrix\u001b[39m.\u001b[39mvalues\n\u001b[0;32m     49\u001b[0m true_values \u001b[39m=\u001b[39m df_true\u001b[39m.\u001b[39mvalues\n",
      "File \u001b[1;32m~\\AppData\\Local\\Packages\\PythonSoftwareFoundation.Python.3.10_qbz5n2kfra8p0\\LocalCache\\local-packages\\Python310\\site-packages\\pandas\\util\\_decorators.py:211\u001b[0m, in \u001b[0;36mdeprecate_kwarg.<locals>._deprecate_kwarg.<locals>.wrapper\u001b[1;34m(*args, **kwargs)\u001b[0m\n\u001b[0;32m    209\u001b[0m     \u001b[39melse\u001b[39;00m:\n\u001b[0;32m    210\u001b[0m         kwargs[new_arg_name] \u001b[39m=\u001b[39m new_arg_value\n\u001b[1;32m--> 211\u001b[0m \u001b[39mreturn\u001b[39;00m func(\u001b[39m*\u001b[39margs, \u001b[39m*\u001b[39m\u001b[39m*\u001b[39mkwargs)\n",
      "File \u001b[1;32m~\\AppData\\Local\\Packages\\PythonSoftwareFoundation.Python.3.10_qbz5n2kfra8p0\\LocalCache\\local-packages\\Python310\\site-packages\\pandas\\util\\_decorators.py:317\u001b[0m, in \u001b[0;36mdeprecate_nonkeyword_arguments.<locals>.decorate.<locals>.wrapper\u001b[1;34m(*args, **kwargs)\u001b[0m\n\u001b[0;32m    311\u001b[0m \u001b[39mif\u001b[39;00m \u001b[39mlen\u001b[39m(args) \u001b[39m>\u001b[39m num_allow_args:\n\u001b[0;32m    312\u001b[0m     warnings\u001b[39m.\u001b[39mwarn(\n\u001b[0;32m    313\u001b[0m         msg\u001b[39m.\u001b[39mformat(arguments\u001b[39m=\u001b[39marguments),\n\u001b[0;32m    314\u001b[0m         \u001b[39mFutureWarning\u001b[39;00m,\n\u001b[0;32m    315\u001b[0m         stacklevel\u001b[39m=\u001b[39mfind_stack_level(inspect\u001b[39m.\u001b[39mcurrentframe()),\n\u001b[0;32m    316\u001b[0m     )\n\u001b[1;32m--> 317\u001b[0m \u001b[39mreturn\u001b[39;00m func(\u001b[39m*\u001b[39margs, \u001b[39m*\u001b[39m\u001b[39m*\u001b[39mkwargs)\n",
      "File \u001b[1;32m~\\AppData\\Local\\Packages\\PythonSoftwareFoundation.Python.3.10_qbz5n2kfra8p0\\LocalCache\\local-packages\\Python310\\site-packages\\pandas\\io\\parsers\\readers.py:950\u001b[0m, in \u001b[0;36mread_csv\u001b[1;34m(filepath_or_buffer, sep, delimiter, header, names, index_col, usecols, squeeze, prefix, mangle_dupe_cols, dtype, engine, converters, true_values, false_values, skipinitialspace, skiprows, skipfooter, nrows, na_values, keep_default_na, na_filter, verbose, skip_blank_lines, parse_dates, infer_datetime_format, keep_date_col, date_parser, dayfirst, cache_dates, iterator, chunksize, compression, thousands, decimal, lineterminator, quotechar, quoting, doublequote, escapechar, comment, encoding, encoding_errors, dialect, error_bad_lines, warn_bad_lines, on_bad_lines, delim_whitespace, low_memory, memory_map, float_precision, storage_options)\u001b[0m\n\u001b[0;32m    935\u001b[0m kwds_defaults \u001b[39m=\u001b[39m _refine_defaults_read(\n\u001b[0;32m    936\u001b[0m     dialect,\n\u001b[0;32m    937\u001b[0m     delimiter,\n\u001b[1;32m   (...)\u001b[0m\n\u001b[0;32m    946\u001b[0m     defaults\u001b[39m=\u001b[39m{\u001b[39m\"\u001b[39m\u001b[39mdelimiter\u001b[39m\u001b[39m\"\u001b[39m: \u001b[39m\"\u001b[39m\u001b[39m,\u001b[39m\u001b[39m\"\u001b[39m},\n\u001b[0;32m    947\u001b[0m )\n\u001b[0;32m    948\u001b[0m kwds\u001b[39m.\u001b[39mupdate(kwds_defaults)\n\u001b[1;32m--> 950\u001b[0m \u001b[39mreturn\u001b[39;00m _read(filepath_or_buffer, kwds)\n",
      "File \u001b[1;32m~\\AppData\\Local\\Packages\\PythonSoftwareFoundation.Python.3.10_qbz5n2kfra8p0\\LocalCache\\local-packages\\Python310\\site-packages\\pandas\\io\\parsers\\readers.py:611\u001b[0m, in \u001b[0;36m_read\u001b[1;34m(filepath_or_buffer, kwds)\u001b[0m\n\u001b[0;32m    608\u001b[0m     \u001b[39mreturn\u001b[39;00m parser\n\u001b[0;32m    610\u001b[0m \u001b[39mwith\u001b[39;00m parser:\n\u001b[1;32m--> 611\u001b[0m     \u001b[39mreturn\u001b[39;00m parser\u001b[39m.\u001b[39;49mread(nrows)\n",
      "File \u001b[1;32m~\\AppData\\Local\\Packages\\PythonSoftwareFoundation.Python.3.10_qbz5n2kfra8p0\\LocalCache\\local-packages\\Python310\\site-packages\\pandas\\io\\parsers\\readers.py:1772\u001b[0m, in \u001b[0;36mTextFileReader.read\u001b[1;34m(self, nrows)\u001b[0m\n\u001b[0;32m   1765\u001b[0m nrows \u001b[39m=\u001b[39m validate_integer(\u001b[39m\"\u001b[39m\u001b[39mnrows\u001b[39m\u001b[39m\"\u001b[39m, nrows)\n\u001b[0;32m   1766\u001b[0m \u001b[39mtry\u001b[39;00m:\n\u001b[0;32m   1767\u001b[0m     \u001b[39m# error: \"ParserBase\" has no attribute \"read\"\u001b[39;00m\n\u001b[0;32m   1768\u001b[0m     (\n\u001b[0;32m   1769\u001b[0m         index,\n\u001b[0;32m   1770\u001b[0m         columns,\n\u001b[0;32m   1771\u001b[0m         col_dict,\n\u001b[1;32m-> 1772\u001b[0m     ) \u001b[39m=\u001b[39m \u001b[39mself\u001b[39;49m\u001b[39m.\u001b[39;49m_engine\u001b[39m.\u001b[39;49mread(  \u001b[39m# type: ignore[attr-defined]\u001b[39;49;00m\n\u001b[0;32m   1773\u001b[0m         nrows\n\u001b[0;32m   1774\u001b[0m     )\n\u001b[0;32m   1775\u001b[0m \u001b[39mexcept\u001b[39;00m \u001b[39mException\u001b[39;00m:\n\u001b[0;32m   1776\u001b[0m     \u001b[39mself\u001b[39m\u001b[39m.\u001b[39mclose()\n",
      "File \u001b[1;32m~\\AppData\\Local\\Packages\\PythonSoftwareFoundation.Python.3.10_qbz5n2kfra8p0\\LocalCache\\local-packages\\Python310\\site-packages\\pandas\\io\\parsers\\c_parser_wrapper.py:245\u001b[0m, in \u001b[0;36mCParserWrapper.read\u001b[1;34m(self, nrows)\u001b[0m\n\u001b[0;32m    243\u001b[0m     chunks \u001b[39m=\u001b[39m \u001b[39mself\u001b[39m\u001b[39m.\u001b[39m_reader\u001b[39m.\u001b[39mread_low_memory(nrows)\n\u001b[0;32m    244\u001b[0m     \u001b[39m# destructive to chunks\u001b[39;00m\n\u001b[1;32m--> 245\u001b[0m     data \u001b[39m=\u001b[39m _concatenate_chunks(chunks)\n\u001b[0;32m    247\u001b[0m \u001b[39melse\u001b[39;00m:\n\u001b[0;32m    248\u001b[0m     data \u001b[39m=\u001b[39m \u001b[39mself\u001b[39m\u001b[39m.\u001b[39m_reader\u001b[39m.\u001b[39mread(nrows)\n",
      "File \u001b[1;32m~\\AppData\\Local\\Packages\\PythonSoftwareFoundation.Python.3.10_qbz5n2kfra8p0\\LocalCache\\local-packages\\Python310\\site-packages\\pandas\\io\\parsers\\c_parser_wrapper.py:415\u001b[0m, in \u001b[0;36m_concatenate_chunks\u001b[1;34m(chunks)\u001b[0m\n\u001b[0;32m    403\u001b[0m             result[name] \u001b[39m=\u001b[39m array_type\u001b[39m.\u001b[39m_concat_same_type(\n\u001b[0;32m    404\u001b[0m                 arrs  \u001b[39m# type: ignore[arg-type]\u001b[39;00m\n\u001b[0;32m    405\u001b[0m             )\n\u001b[0;32m    406\u001b[0m         \u001b[39melse\u001b[39;00m:\n\u001b[0;32m    407\u001b[0m             \u001b[39m# error: Argument 1 to \"concatenate\" has incompatible\u001b[39;00m\n\u001b[0;32m    408\u001b[0m             \u001b[39m# type \"List[Union[ExtensionArray, ndarray[Any, Any]]]\"\u001b[39;00m\n\u001b[1;32m   (...)\u001b[0m\n\u001b[0;32m    413\u001b[0m             \u001b[39m# , Sequence[Sequence[Sequence[Sequence[\u001b[39;00m\n\u001b[0;32m    414\u001b[0m             \u001b[39m# _SupportsArray[dtype[Any]]]]]]]\"\u001b[39;00m\n\u001b[1;32m--> 415\u001b[0m             result[name] \u001b[39m=\u001b[39m np\u001b[39m.\u001b[39;49mconcatenate(arrs)  \u001b[39m# type: ignore[arg-type]\u001b[39;00m\n\u001b[0;32m    417\u001b[0m \u001b[39mif\u001b[39;00m warning_columns:\n\u001b[0;32m    418\u001b[0m     warning_names \u001b[39m=\u001b[39m \u001b[39m\"\u001b[39m\u001b[39m,\u001b[39m\u001b[39m\"\u001b[39m\u001b[39m.\u001b[39mjoin(warning_columns)\n",
      "File \u001b[1;32m<__array_function__ internals>:180\u001b[0m, in \u001b[0;36mconcatenate\u001b[1;34m(*args, **kwargs)\u001b[0m\n",
      "\u001b[1;31mKeyboardInterrupt\u001b[0m: "
     ]
    }
   ],
   "source": [
    "#This block is the same as \n",
    "#KNN implementation\n",
    "\n",
    "#make empty prediction matrix\n",
    "#add anime Id column from 'rows'\n",
    "#for every user\n",
    "#   for each list of distances\n",
    "#       find value of sum and divide by k\n",
    "#       if sum / k is >= 0.5 predict 1, else predict 0\n",
    "#   append to list of predictions\n",
    "k_value = []\n",
    "k_acc = []\n",
    "for knn in tqdm(range(1,26)):\n",
    "    neighbors = knn\n",
    "    prediction_result = []\n",
    "    for j in (range(len(users))):\n",
    "        col = users[j]\n",
    "        watched = users_watched[j]\n",
    "        predictions = []\n",
    "        for k in range(len(all_distances)):\n",
    "            distances = all_distances[k]\n",
    "            #compute the sum\n",
    "            neigh = []\n",
    "            for i in range(neighbors):\n",
    "                neigh.append(distances[i][0])\n",
    "            value = len(list(set(neigh).intersection(watched)))\n",
    "            if (value / neighbors) >= 0.5:\n",
    "                predictions.append(1)\n",
    "            else:\n",
    "                predictions.append(0)\n",
    "        prediction_result.append(predictions)\n",
    "\n",
    "    #create df_predictions\n",
    "    warnings.simplefilter(action='ignore', category=pandas.errors.PerformanceWarning)\n",
    "    df_predictions = pandas.DataFrame()\n",
    "    df_predictions['Id'] = rows\n",
    "    for i in range(len(users)):\n",
    "        col = users[i]\n",
    "        df_predictions[col] = prediction_result[i]\n",
    "\n",
    "    #write to csv\n",
    "    outputdf = df_predictions.copy()\n",
    "    outputdf.to_csv(f'predictions_matrix_{neighbors}nn.csv', index=False)\n",
    "\n",
    "    #caluclate accuracy\n",
    "    value = 0\n",
    "    prediction_matrix = pandas.read_csv(f'predictions_matrix_{neighbors}nn.csv')\n",
    "    pred_values = prediction_matrix.values\n",
    "    true_values = df_true.values\n",
    "    predict_watch = 0\n",
    "    true_watch = 0\n",
    "    false_pos = 0\n",
    "    false_neg = 0\n",
    "    null = 0\n",
    "\n",
    "    num_row = len(pred_values)\n",
    "    num_col = len(pred_values[0])\n",
    "    for i in tqdm(range(num_row)):\n",
    "        for j in range(1,num_col):          #first item is the anime id, so we skip it\n",
    "            if pred_values[i,j] == true_values[i,j]:\n",
    "                value += 1\n",
    "            if pred_values[i,j] == 1:\n",
    "                predict_watch += 1 \n",
    "                if true_values[i,j] == 0:\n",
    "                    false_pos += 1\n",
    "            if true_values[i,j] == 1:\n",
    "                true_watch += 1\n",
    "                if pred_values[i,j] == 0:\n",
    "                    false_neg += 1\n",
    "            if 0 == true_values[i,j]:\n",
    "                null += 1\n",
    "\n",
    "    #subtracting 1 from column length b/c the first item is the anime id\n",
    "    percent = (value / ((num_row) * (num_col-1))) * 100\n",
    "    total = (num_row) * (num_col-1)\n",
    "    # print(f'Total predictions: {total}')\n",
    "    # print(f'Correct predictions: {value}')\n",
    "\n",
    "    # print(f'Predicted watch: {predict_watch}')\n",
    "    # print(f'True watched: {true_watch}')\n",
    "    # print(f'False positive: {false_pos}')\n",
    "    # print(f'False negative: {false_neg}')\n",
    "    # print(f'Null Error Rate: {(null / total)*100: .2f}')\n",
    "    # print(f'Percent correct: {percent: .2f}%')\n",
    "\n",
    "    k_value.append(knn)\n",
    "    k_acc.append(percent)"
   ]
  },
  {
   "cell_type": "code",
   "execution_count": 53,
   "metadata": {},
   "outputs": [
    {
     "data": {
      "image/png": "[encoded data removed]",
      "text/plain": [
       "<Figure size 640x480 with 1 Axes>"
      ]
     },
     "metadata": {},
     "output_type": "display_data"
    }
   ],
   "source": [
    "import matplotlib.pyplot as plt\n",
    "\n",
    "plt.plot(k_value,k_acc)\n",
    "plt.title('Elbow plot')\n",
    "plt.ylabel('Accuracy %')\n",
    "plt.xlabel('K Values')\n",
    "plt.show()"
   ]
  },
  {
   "cell_type": "code",
   "execution_count": 194,
   "metadata": {},
   "outputs": [],
   "source": [
    "labels = ['all','drop va','drop genre','drop source', 'drop studio']\n",
    "percent_val = []"
   ]
  },
  {
   "cell_type": "code",
   "execution_count": 222,
   "metadata": {},
   "outputs": [
    {
     "data": {
      "text/plain": [
       "[0.8168942565700716,\n",
       " 0.8131095269150159,\n",
       " 0.7916631403921881,\n",
       " 0.8111792027798659,\n",
       " 0.8192776032617624]"
      ]
     },
     "execution_count": 222,
     "metadata": {},
     "output_type": "execute_result"
    }
   ],
   "source": [
    "from sklearn import accuracy_score\n",
    "\n",
    "percent_val.insert(0, accuracy_score(y_true, y_pred))\n",
    "percent_val"
   ]
  },
  {
   "cell_type": "code",
   "execution_count": 227,
   "metadata": {},
   "outputs": [
    {
     "data": {
      "image/png": "[encoded data removed]",
      "text/plain": [
       "<Figure size 640x480 with 1 Axes>"
      ]
     },
     "metadata": {},
     "output_type": "display_data"
    }
   ],
   "source": [
    "import matplotlib.pyplot as plt\n",
    "fig = plt.figure()\n",
    "ax = fig.add_axes([0,0,1,1])\n",
    "plt.ylim(0.75,0.85)\n",
    "\n",
    "ax.bar(labels,percent_val)\n",
    "ax.set_ylabel('Accuracy')\n",
    "ax.set_title('Evaluation of dropped features')\n",
    "plt.show()"
   ]
  },
  {
   "cell_type": "code",
   "execution_count": 7,
   "metadata": {},
   "outputs": [
    {
     "name": "stderr",
     "output_type": "stream",
     "text": [
      "100%|██████████| 89/89 [00:02<00:00, 42.27it/s]"
     ]
    },
    {
     "name": "stdout",
     "output_type": "stream",
     "text": [
      "Total predictions: 803492\n",
      "Correct predictions: 658283\n",
      "Predicted watch: 126475\n",
      "True watched: 185064\n",
      "True positive: 83165\n",
      "True negative: 575118\n",
      "False negative: 101899\n",
      "Null Error Rate:  76.97\n",
      "False positive: 43310\n",
      "Percent correct:  81.93%\n",
      "Precision:  0.66\n",
      "Recall:  0.45\n"
     ]
    },
    {
     "name": "stderr",
     "output_type": "stream",
     "text": [
      "\n"
     ]
    }
   ],
   "source": [
    "#caluclate accuracy\n",
    "correct = 0\n",
    "prediction_matrix = pandas.read_csv('predictions_matrix_11nn.csv')\n",
    "pred_values = prediction_matrix.values\n",
    "true_values = df_true.values\n",
    "predict_watch = 0\n",
    "true_watch = 0\n",
    "true_pos = 0\n",
    "true_neg = 0\n",
    "false_pos = 0\n",
    "false_neg = 0\n",
    "null = 0\n",
    "\n",
    "num_row = len(pred_values)\n",
    "num_col = len(pred_values[0])\n",
    "for i in tqdm(range(num_row)):\n",
    "    for j in range(1,num_col):          #first item is the anime id, so we skip it\n",
    "        if pred_values[i,j] == true_values[i,j]:\n",
    "            correct += 1\n",
    "        if pred_values[i,j] == 1:\n",
    "            predict_watch += 1\n",
    "            if true_values[i,j] == 1:\n",
    "                true_pos += 1\n",
    "                true_watch += 1\n",
    "            else:\n",
    "                false_pos += 1\n",
    "\n",
    "        if pred_values[i,j] == 0:\n",
    "            if true_values[i,j] == 0:\n",
    "                true_neg += 1\n",
    "            else:\n",
    "                false_neg += 1\n",
    "                true_watch += 1\n",
    "\n",
    "        if 0 == true_values[i,j]:\n",
    "            null += 1\n",
    "        \n",
    "\n",
    "#subtracting 1 from column length b/c the first item is the anime id\n",
    "percent = (correct / ((num_row) * (num_col-1)))\n",
    "total = (num_row) * (num_col-1)\n",
    "print(f'Total predictions: {total}')\n",
    "print(f'Correct predictions: {correct}')\n",
    "\n",
    "print(f'Predicted watch: {predict_watch}')\n",
    "print(f'True watched: {true_watch}')\n",
    "print(f'True positive: {true_pos}')\n",
    "print(f'True negative: {true_neg}')\n",
    "print(f'False negative: {false_neg}')\n",
    "print(f'Null Error Rate: {(null / total)*100: .2f}')\n",
    "print(f'False positive: {false_pos}')\n",
    "print(f'Percent correct: {percent * 100: .2f}%')\n",
    "print(f'Precision: {(true_pos / (true_pos + false_pos)): .2f}')\n",
    "print(f'Recall: {(true_pos / (true_pos + false_neg)): .2f}')"
   ]
  },
  {
   "cell_type": "code",
   "execution_count": 8,
   "metadata": {},
   "outputs": [
    {
     "name": "stderr",
     "output_type": "stream",
     "text": [
      "C:\\Users\\Tenkawa PC\\AppData\\Local\\Temp\\ipykernel_1056\\678633288.py:17: MatplotlibDeprecationWarning: Auto-removal of overlapping axes is deprecated since 3.6 and will be removed two minor releases later; explicitly call ax.remove() as needed.\n",
      "  ax= plt.subplot()\n"
     ]
    },
    {
     "data": {
      "text/plain": [
       "[Text(0, 0.5, 'Negative'), Text(0, 1.5, 'Positive')]"
      ]
     },
     "execution_count": 8,
     "metadata": {},
     "output_type": "execute_result"
    },
    {
     "data": {
      "image/png": "[encoded data removed]",
      "text/plain": [
       "<Figure size 480x480 with 2 Axes>"
      ]
     },
     "metadata": {},
     "output_type": "display_data"
    }
   ],
   "source": [
    "from sklearn.metrics import confusion_matrix\n",
    "import seaborn as sns\n",
    "import matplotlib.pyplot as plt  \n",
    "\n",
    "#have to convert true_values and pred_values from matrix to list\n",
    "y_true = []\n",
    "y_pred = []\n",
    "for i in range(len(true_values)):\n",
    "    y_true += list(true_values[i][1:])\n",
    "    y_pred += list(pred_values[i][1:])\n",
    "\n",
    "cm = confusion_matrix(y_true,y_pred)\n",
    "plt.matshow(cm)\n",
    "\n",
    "   \n",
    "\n",
    "ax= plt.subplot()\n",
    "sns.heatmap(cm, annot=True, fmt='g', ax=ax, cmap='ocean_r');  #annot=True to annotate cells, ftm='g' to disable scientific notation\n",
    "\n",
    "# labels, title and ticks\n",
    "ax.set_xlabel('Predicted labels')\n",
    "ax.set_ylabel('True labels')\n",
    "ax.set_title('Confusion Matrix')\n",
    "ax.xaxis.set_ticklabels(['Negative', 'Positive'])\n",
    "ax.yaxis.set_ticklabels(['Negative', 'Positive'])"
   ]
  },
  {
   "cell_type": "code",
   "execution_count": 9,
   "metadata": {},
   "outputs": [
    {
     "name": "stdout",
     "output_type": "stream",
     "text": [
      "Accuray: 0.82\n",
      "Precision: 0.66\n",
      "Recall: 0.45\n",
      "F1 score: 0.53\n"
     ]
    }
   ],
   "source": [
    "from sklearn.metrics import accuracy_score\n",
    "from sklearn.metrics import precision_score\n",
    "from sklearn.metrics import recall_score\n",
    "from sklearn.metrics import f1_score\n",
    "\n",
    "print(f'Accuray: {accuracy_score(y_true, y_pred):.2f}')\n",
    "print(f'Precision: {precision_score(y_true, y_pred):.2f}')\n",
    "print(f'Recall: {recall_score(y_true, y_pred):.2f}')\n",
    "print(f'F1 score: {f1_score(y_true, y_pred):.2f}')"
   ]
  }
 ],
 "metadata": {
  "kernelspec": {
   "display_name": "Python 3.10.8 64-bit (microsoft store)",
   "language": "python",
   "name": "python3"
  },
  "language_info": {
   "codemirror_mode": {
    "name": "ipython",
    "version": 3
   },
   "file_extension": ".py",
   "mimetype": "text/x-python",
   "name": "python",
   "nbconvert_exporter": "python",
   "pygments_lexer": "ipython3",
   "version": "3.10.8"
  },
  "orig_nbformat": 4,
  "vscode": {
   "interpreter": {
    "hash": "8fc903fd1a35692d96a4695a6c4f7b57bb80f609b0147f9dc1e34250c7f2a3f2"
   }
  }
 },
 "nbformat": 4,
 "nbformat_minor": 2
}
