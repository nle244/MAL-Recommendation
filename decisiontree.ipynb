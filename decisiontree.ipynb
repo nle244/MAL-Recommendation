{
 "cells": [
  {
   "cell_type": "code",
   "execution_count": null,
   "metadata": {},
   "outputs": [],
   "source": [
    "import pandas\n",
    "import numpy\n",
    "from tqdm import tqdm\n",
    "from sklearn.ensemble import AdaBoostClassifier\n",
    "from sklearn.model_selection import train_test_split\n",
    "from sklearn import preprocessing\n",
    "\n",
    "df_anime = pandas.read_csv('top_and_bottom_anime.csv')\n",
    "df_anime = df_anime.drop(columns='Id')\n",
    "df_anime = df_anime.drop(columns='Rating')\n",
    "df_anime = df_anime.drop(columns='Demographic')\n",
    "\n",
    "new = pandas.DataFrame()\n",
    "le = preprocessing.LabelEncoder()\n",
    "for i in range(df_anime.shape[1]):\n",
    "    temp = df_anime.iloc[:,i].values.tolist()\n",
    "    temp = le.fit_transform(temp)\n",
    "    new[df_anime.columns[i]] = temp\n",
    "\n",
    "df_predictions = knn_predictions['Id'].copy()\n",
    "df_anime_y = pandas.read_csv('anime_matrix_true.csv')\n",
    "rows = df_anime_y[['Id']].copy()\n",
    "\n",
    "#make adaboost predictions\n",
    "columns = df_anime_y.columns\n",
    "predictions = []\n",
    "\n",
    "avg = []\n",
    "for i in tqdm(range(1,len(columns))):   #skip first item b/c it's anime Id\n",
    "    x = new\n",
    "    y = df_anime_y[columns[i]]\n",
    "    x_train,x_test,y_train,y_test = train_test_split(x,y,test_size=0.2, random_state=42)\n",
    "    \n",
    "    #create cross training split for building the models\n",
    "    X_cross_train, X_cross_test, y_cross_train, y_cross_test = train_test_split(x_train, y_train, test_size=0.2, random_state=1080)\n",
    "\n",
    "    adaboost = AdaBoostClassifier(n_estimators=100, random_state=42)\n",
    "    adaboost.fit(X_cross_train,y_cross_train)\n",
    "    avg.append(adaboost.score(X_cross_test,y_cross_test))\n",
    "    predictions.append(list(adaboost.predict(X_cross_test)))\n",
    "\n",
    "import warnings\n",
    "warnings.simplefilter(action='ignore', category=pandas.errors.PerformanceWarning)\n",
    "for i in tqdm(range(len(columns))):\n",
    "    df_predictions[columns[i]] = predictions[i]\n",
    "\n",
    "adaboost_predictions = df_predictions.copy()"
   ]
  }
 ],
 "metadata": {
  "kernelspec": {
   "display_name": "Python 3.10.8 64-bit (microsoft store)",
   "language": "python",
   "name": "python3"
  },
  "language_info": {
   "name": "python",
   "version": "3.10.8"
  },
  "orig_nbformat": 4,
  "vscode": {
   "interpreter": {
    "hash": "8fc903fd1a35692d96a4695a6c4f7b57bb80f609b0147f9dc1e34250c7f2a3f2"
   }
  }
 },
 "nbformat": 4,
 "nbformat_minor": 2
}
