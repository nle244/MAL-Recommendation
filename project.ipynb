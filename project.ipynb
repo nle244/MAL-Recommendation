{
 "cells": [
  {
   "cell_type": "code",
   "execution_count": 1,
   "metadata": {},
   "outputs": [],
   "source": [
    "import pandas as pd\n",
    "from tqdm import tqdm\n",
    "from sklearn.feature_extraction.text import CountVectorizer\n",
    "from sklearn.metrics.pairwise import cosine_similarity\n",
    "from sklearn.neighbors import KNeighborsClassifier\n",
    "from sklearn.model_selection import train_test_split\n",
    "import warnings\n",
    "import numpy as np\n",
    "import math\n",
    "import pickle"
   ]
  },
  {
   "cell_type": "markdown",
   "metadata": {},
   "source": [
    "# Decision Tree"
   ]
  },
  {
   "cell_type": "code",
   "execution_count": 2,
   "metadata": {},
   "outputs": [
    {
     "data": {
      "text/plain": [
       "0.8035714285714286"
      ]
     },
     "execution_count": 2,
     "metadata": {},
     "output_type": "execute_result"
    }
   ],
   "source": [
    "from sklearn.tree import DecisionTreeClassifier\n",
    "from sklearn import tree\n",
    "from sklearn import preprocessing\n",
    "\n",
    "new = pd.DataFrame()\n",
    "\n",
    "df_accuracy = pd.read_csv('top_and_bottom_anime.csv')\n",
    "df_accuracy = df_accuracy.drop(columns='Id')\n",
    "df_accuracy = df_accuracy.drop(columns='Rating')\n",
    "\n",
    "\n",
    "le = preprocessing.LabelEncoder()\n",
    "for i in range(df_accuracy.shape[1]):\n",
    "    temp = df_accuracy.iloc[:,i].values.tolist()\n",
    "    temp = le.fit_transform(temp)\n",
    "    new[df_accuracy.columns[i]] = temp\n",
    "\n",
    "df_true = pd.read_csv('anime_matrix_all.csv')\n",
    "df_true = df_true.drop(columns='anime')\n",
    "df_true = df_true['ilampan']\n",
    "\n",
    "x = new\n",
    "y = df_true\n",
    "x_train,x_test,y_train,y_test = train_test_split(x,y,test_size=0.2)\n",
    "\n",
    "clf = DecisionTreeClassifier()\n",
    "clf.fit(x_train,y_train)\n",
    "filename = 'decisiontree_model.sav'\n",
    "pickle.dump(clf, open(filename, 'wb'))\n",
    "loaded_model = pickle.load(open(filename,'rb'))\n",
    "result = loaded_model.score(x_test,y_test)\n",
    "result"
   ]
  },
  {
   "cell_type": "markdown",
   "metadata": {},
   "source": [
    "# Random Forest"
   ]
  },
  {
   "cell_type": "code",
   "execution_count": 3,
   "metadata": {},
   "outputs": [
    {
     "data": {
      "text/plain": [
       "0.8839285714285714"
      ]
     },
     "execution_count": 3,
     "metadata": {},
     "output_type": "execute_result"
    }
   ],
   "source": [
    "from sklearn.ensemble import RandomForestClassifier\n",
    "\n",
    "new = pd.DataFrame()\n",
    "\n",
    "df_accuracy = pd.read_csv('top_and_bottom_anime.csv')\n",
    "df_accuracy = df_accuracy.drop(columns='Id')\n",
    "df_accuracy = df_accuracy.drop(columns='Rating')\n",
    "\n",
    "\n",
    "le = preprocessing.LabelEncoder()\n",
    "for i in range(df_accuracy.shape[1]):\n",
    "    temp = df_accuracy.iloc[:,i].values.tolist()\n",
    "    temp = le.fit_transform(temp)\n",
    "    new[df_accuracy.columns[i]] = temp\n",
    "\n",
    "df_true = pd.read_csv('anime_matrix_all.csv')\n",
    "df_true = df_true.drop(columns='anime')\n",
    "df_true = df_true['ilampan']\n",
    "\n",
    "x = new\n",
    "y = df_true\n",
    "x_train,x_test,y_train,y_test = train_test_split(x,y,test_size=0.2)\n",
    "\n",
    "clf = RandomForestClassifier()\n",
    "clf.fit(x_train,y_train)\n",
    "filename = 'randomforest_model.sav'\n",
    "pickle.dump(clf, open(filename, 'wb'))\n",
    "result = clf.score(x_test,y_test)\n",
    "result"
   ]
  },
  {
   "cell_type": "markdown",
   "metadata": {},
   "source": [
    "# Adaboost"
   ]
  },
  {
   "cell_type": "code",
   "execution_count": 6,
   "metadata": {},
   "outputs": [
    {
     "data": {
      "text/plain": [
       "0.8035714285714286"
      ]
     },
     "execution_count": 6,
     "metadata": {},
     "output_type": "execute_result"
    }
   ],
   "source": [
    "import pandas as pd\n",
    "import tqdm\n",
    "from sklearn.ensemble import AdaBoostClassifier\n",
    "from sklearn.model_selection import train_test_split\n",
    "from sklearn import tree\n",
    "import matplotlib.pyplot as plt\n",
    "from sklearn import preprocessing\n",
    "\n",
    "new = pd.DataFrame()\n",
    "df_predictions = pd.DataFrame\n",
    "\n",
    "df_accuracy = pd.read_csv('top_and_bottom_anime.csv')\n",
    "df_predictions = df_accuracy['Id'].copy\n",
    "\n",
    "df_accuracy = df_accuracy.drop(columns='Id')\n",
    "df_accuracy = df_accuracy.drop(columns='Rating')\n",
    "\n",
    "\n",
    "le = preprocessing.LabelEncoder()\n",
    "for i in range(df_accuracy.shape[1]):\n",
    "    temp = df_accuracy.iloc[:,i].values.tolist()\n",
    "    temp = le.fit_transform(temp)\n",
    "    new[df_accuracy.columns[i]] = temp\n",
    "\n",
    "df_true = pd.read_csv('anime_matrix_true.csv')\n",
    "df_true = df_true.drop(columns='Id')\n",
    "\n",
    "columns = df_true.columns\n",
    "\n",
    "x = new\n",
    "y = df_true[columns[29]]\n",
    "x_train,x_test,y_train,y_test = train_test_split(x,y,test_size=0.2, random_state=42)\n",
    "\n",
    "adaboost = AdaBoostClassifier(n_estimators=100, random_state=42)\n",
    "adaboost.fit(x_train,y_train)\n",
    "result = adaboost.score(x_test,y_test)\n",
    "\n",
    "result"
   ]
  },
  {
   "cell_type": "markdown",
   "metadata": {},
   "source": [
    "# KNearestNeighbor"
   ]
  },
  {
   "cell_type": "code",
   "execution_count": 9,
   "metadata": {},
   "outputs": [
    {
     "data": {
      "text/plain": [
       "0.7410714285714286"
      ]
     },
     "execution_count": 9,
     "metadata": {},
     "output_type": "execute_result"
    }
   ],
   "source": [
    "import pandas as pd\n",
    "import tqdm\n",
    "from sklearn.neighbors import KNeighborsClassifier\n",
    "from sklearn.model_selection import train_test_split\n",
    "from sklearn import tree\n",
    "import matplotlib.pyplot as plt\n",
    "from sklearn import preprocessing\n",
    "\n",
    "new = pd.DataFrame()\n",
    "df_predictions = pd.DataFrame\n",
    "\n",
    "df_accuracy = pd.read_csv('top_and_bottom_anime.csv')\n",
    "df_predictions = df_accuracy['Id'].copy\n",
    "\n",
    "df_accuracy = df_accuracy.drop(columns='Id')\n",
    "df_accuracy = df_accuracy.drop(columns='Rating')\n",
    "\n",
    "\n",
    "le = preprocessing.LabelEncoder()\n",
    "for i in range(df_accuracy.shape[1]):\n",
    "    temp = df_accuracy.iloc[:,i].values.tolist()\n",
    "    temp = le.fit_transform(temp)\n",
    "    new[df_accuracy.columns[i]] = temp\n",
    "\n",
    "df_true = pd.read_csv('anime_matrix_true.csv')\n",
    "df_true = df_true.drop(columns='Id')\n",
    "\n",
    "columns = df_true.columns\n",
    "\n",
    "x = new\n",
    "y = df_true[columns[35]]\n",
    "x_train,x_test,y_train,y_test = train_test_split(x,y,test_size=0.2, random_state=42)\n",
    "\n",
    "knn = KNeighborsClassifier(n_neighbors=3)\n",
    "knn.fit(x_train,y_train)\n",
    "result = knn.score(x_test,y_test)\n",
    "result"
   ]
  },
  {
   "cell_type": "code",
   "execution_count": 4,
   "metadata": {},
   "outputs": [],
   "source": [
    "import pickle\n",
    "\n",
    "# open a file, where you ant to store the data\n",
    "file = open('knn.model', 'wb')\n",
    "\n",
    "# dump information to that file\n",
    "pickle.dump(knn, file)\n",
    "\n",
    "# close the file\n",
    "file.close()"
   ]
  }
 ],
 "metadata": {
  "kernelspec": {
   "display_name": "Python 3.10.8 64-bit (microsoft store)",
   "language": "python",
   "name": "python3"
  },
  "language_info": {
   "codemirror_mode": {
    "name": "ipython",
    "version": 3
   },
   "file_extension": ".py",
   "mimetype": "text/x-python",
   "name": "python",
   "nbconvert_exporter": "python",
   "pygments_lexer": "ipython3",
   "version": "3.10.8"
  },
  "orig_nbformat": 4,
  "vscode": {
   "interpreter": {
    "hash": "8fc903fd1a35692d96a4695a6c4f7b57bb80f609b0147f9dc1e34250c7f2a3f2"
   }
  }
 },
 "nbformat": 4,
 "nbformat_minor": 2
}
