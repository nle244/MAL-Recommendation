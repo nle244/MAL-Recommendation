{
 "cells": [
  {
   "cell_type": "code",
   "execution_count": 2,
   "metadata": {},
   "outputs": [],
   "source": [
    "import pandas as pd\n",
    "import numpy as np\n",
    "import csv as cv\n",
    "from sklearn.feature_extraction.text import CountVectorizer\n",
    "from sklearn.metrics.pairwise import cosine_similarity"
   ]
  },
  {
   "cell_type": "markdown",
   "metadata": {},
   "source": [
    "read in csv file of all animes"
   ]
  },
  {
   "cell_type": "code",
   "execution_count": 12,
   "metadata": {},
   "outputs": [
    {
     "name": "stdout",
     "output_type": "stream",
     "text": [
      "        Id                           Anime Title  Rating          Studio  \\\n",
      "0  '32937'  'KonoSubarashiiSekainiShukufukuwo!2'    8.27      StudioDeen   \n",
      "1  '33206'        'Kobayashi-sanChinoMaidDragon'    7.99  KyotoAnimation   \n",
      "2  '32615'                          'YoujoSenki'    7.97             Nut   \n",
      "3  '33487'               'Masamune-kunnoRevenge'    6.74     SILVERLINK.   \n",
      "4  '33506'       'AonoExorcist:KyotoFujouou-hen'    7.36     A-1Pictures   \n",
      "\n",
      "  Source Material Demographic  \\\n",
      "0      Lightnovel       'n/a'   \n",
      "1           Manga       'n/a'   \n",
      "2      Lightnovel       'n/a'   \n",
      "3           Manga   'Shounen'   \n",
      "4           Manga   'Shounen'   \n",
      "\n",
      "                                               Genre  \\\n",
      "0  ['Adventure', 'Comedy', 'Fantasy', 'Isekai', '...   \n",
      "1                         ['Fantasy', 'SliceofLife']   \n",
      "2  ['Action', 'Isekai', 'Military', 'Reincarnation']   \n",
      "3  ['Comedy', 'Romance', 'Harem', 'School', 'Shou...   \n",
      "4  ['Action', 'Fantasy', 'Mythology', 'School', '...   \n",
      "\n",
      "                                                 VAs  \n",
      "0  ['TakahashiRie', 'RieFukushima', 'FukushimaJun...  \n",
      "1  ['NaganawaMaria', 'MariaKuwahara', 'KuwaharaYu...  \n",
      "2  ['YuukiAoi', 'AoiHayami', 'HayamiSaori', 'Saor...  \n",
      "3  ['OhashiAyaka', 'AyakaHanae', 'HanaeNatsuki', ...  \n",
      "4  ['OkamotoNobuhiko', 'NobuhikoFukuyama', 'Fukuy...  \n"
     ]
    }
   ],
   "source": [
    "df_animes = pd.read_csv('new_anime.csv')\n",
    "result = df_animes.head(5)\n",
    "print(result)\n",
    "# print(df_animes['have watched'])"
   ]
  },
  {
   "cell_type": "markdown",
   "metadata": {},
   "source": [
    "reads in csv file of users watch list with watch count col dropped"
   ]
  },
  {
   "cell_type": "code",
   "execution_count": 4,
   "metadata": {},
   "outputs": [
    {
     "name": "stdout",
     "output_type": "stream",
     "text": [
      "                   user  watched count  \\\n",
      "0               ilampan            380   \n",
      "1               Zephyyr            538   \n",
      "2          Alister-Dark             34   \n",
      "3      AMechaDegenarate            203   \n",
      "4         Matthew_Myers            211   \n",
      "...                 ...            ...   \n",
      "10066          chidoriP            324   \n",
      "10067          snepback            754   \n",
      "10068       Prism8Azure            212   \n",
      "10069      urban_orange            150   \n",
      "10070            JeyJee            145   \n",
      "\n",
      "                                            watched list  \n",
      "0      19367 18411 17895 18247 18295 18679 18153 1970...  \n",
      "1      31646 9624 857 6547 35427 7817 34618 35712 380...  \n",
      "2      51096 35180 4181 2904 42938 5114 820 918 15335...  \n",
      "3      50709 41084 48895 47194 41457 11759 22199 47 4...  \n",
      "4      49438 48675 50709 49470 30014 21 41389 51096 3...  \n",
      "...                                                  ...  \n",
      "10066  48569 51417 48413 42963 50709 40356 51096 4145...  \n",
      "10067  48895 31374 31646 35180 38101 39783 41457 4856...  \n",
      "10068  49123 3654 38935 32924 8676 9117 11235 12669 6...  \n",
      "10069  36649 34566 457 23755 21 33352 41457 48569 991...  \n",
      "10070  48569 245 50631 50709 48895 23273 47257 47194 ...  \n",
      "\n",
      "[10071 rows x 3 columns]\n"
     ]
    }
   ],
   "source": [
    "df_users = pd.read_csv('users_watched2.csv')\n",
    "# df_users = df_users.drop('watched count', axis=1)\n",
    "\n",
    "# df_users = df_users.dropna()\n",
    "\n",
    "result = df_users.head(5)\n",
    "print(df_users)"
   ]
  },
  {
   "cell_type": "markdown",
   "metadata": {},
   "source": [
    "make watched list col into list for easier accessing"
   ]
  },
  {
   "cell_type": "code",
   "execution_count": 5,
   "metadata": {},
   "outputs": [],
   "source": [
    "# for i in range(len(df_users)):\n",
    "#     try:\n",
    "#         temp_list = list()\n",
    "#         temp_list = df_users.loc[i]['watched list']\n",
    "#         temp_list = temp_list.split()\n",
    "#         df_users.loc[i]['watched list'] = temp_list\n",
    "#     except:\n",
    "#         pass\n",
    "\n",
    "# df_users.to_csv('users_watched3.csv', index=None)"
   ]
  },
  {
   "cell_type": "code",
   "execution_count": 6,
   "metadata": {},
   "outputs": [],
   "source": [
    "# user_name = df_users.loc[0]['user']\n",
    "# df_animes[user_name] = 0\n",
    "\n",
    "\n",
    "# print(df_animes[user_name])"
   ]
  },
  {
   "cell_type": "code",
   "execution_count": 7,
   "metadata": {},
   "outputs": [],
   "source": [
    "# df_animes.at[0,user_name] = 1\n",
    "# print(df_animes[user_name])\n",
    "# print(df_animes)"
   ]
  },
  {
   "cell_type": "code",
   "execution_count": 8,
   "metadata": {},
   "outputs": [],
   "source": [
    "# df_users = df_users.drop(df_users.index[5:])\n",
    "# print(df_users)\n",
    "# df_users.to_csv('x_users.csv', index=None)"
   ]
  },
  {
   "cell_type": "code",
   "execution_count": 9,
   "metadata": {},
   "outputs": [],
   "source": [
    "# temp_list = list()\n",
    "# temp_list = df_users.loc[0]['watched list']\n",
    "# temp_list = temp_list.split(',')\n",
    "# temp_list[5] = temp_list[5].lstrip()\n",
    "# temp_list[5] = temp_list[5].strip(']')\n",
    "# print(temp_list)\n",
    "# print((temp_list[5]))"
   ]
  },
  {
   "cell_type": "code",
   "execution_count": 10,
   "metadata": {},
   "outputs": [],
   "source": [
    "# print(df_animes.loc[5]['Id'])\n",
    "\n",
    "# if (temp_list[5]) == (df_animes.loc[5]['Id']):\n",
    "#     print('yes')\n",
    "# else: \n",
    "#     print('no')\n"
   ]
  },
  {
   "cell_type": "code",
   "execution_count": 11,
   "metadata": {},
   "outputs": [],
   "source": [
    "def create_soup(x):\n",
    "    result = x['Anime Title']\n",
    "\n",
    "    if x['Studio'] != 'n/a':\n",
    "        result += ' ' + x['Studio'].replace('[','').replace(']','').replace(',','')\n",
    "    if x['Source Material'] != 'n/a':\n",
    "        result += ' ' + x['Source Material'].replace('[','').replace(']','').replace(',','')\n",
    "    if x['Genre'] != 'n/a':\n",
    "        result += ' ' + x['Genre'].replace('[','').replace(']','').replace(',','')\n",
    "    if x['VAs'] != 'n/a':\n",
    "        result += ' ' + x['VAs'].replace('[','').replace(']','').replace(',','')\n",
    "    \n",
    "    return result"
   ]
  },
  {
   "cell_type": "code",
   "execution_count": 15,
   "metadata": {},
   "outputs": [
    {
     "name": "stdout",
     "output_type": "stream",
     "text": [
      "Seiren StudioGokumiAXsiZ Original Romance Harem School SakuraAyane AyaneShimoji ShimojiShino ShinoKimura KimuraJuri JuriTamaru TamaruAtsushi AtsushiKuroki KurokiHonoka HonokaNumakura NumakuraManami ManamiMikami MikamiShiori ShioriIzawa IzawaShiori ShioriTamura TamuraYukari YukariAsari AsariRyouta\n"
     ]
    }
   ],
   "source": [
    "temp_woord = df_animes.loc[0]['Anime Title']\n",
    "temp_woord = temp_woord.split()\n",
    "# print(df_animes.loc[0]['Anime Title'])\n",
    "# print(df_animes.loc[0]['VAs'])\n",
    "\n",
    "test = df_animes.loc[11]\n",
    "\n",
    "# print(df_animes.loc[0]['VAs'].replace('[','').replace(']','').replace(',','') + ' ' + test['Anime Title'])\n",
    "result = test['Anime Title'].replace('\\'','')\n",
    "\n",
    "if test['Studio'] != 'n/a':\n",
    "    result += ' ' + test['Studio'].replace('[','').replace(']','').replace(',','').replace('\\'','')\n",
    "if test['Source Material'] != 'n/a':\n",
    "    result += ' ' + test['Source Material'].replace('[','').replace(']','').replace(',','').replace('\\'','')\n",
    "if test['Genre'] != 'n/a':\n",
    "    result += ' ' + test['Genre'].replace('[','').replace(']','').replace(',','').replace('\\'','')\n",
    "if test['VAs'] != 'n/a':\n",
    "    result += ' ' + test['VAs'].replace('[','').replace(']','').replace(',','').replace('\\'','')\n",
    "print(result)"
   ]
  },
  {
   "cell_type": "code",
   "execution_count": null,
   "metadata": {},
   "outputs": [
    {
     "name": "stdout",
     "output_type": "stream",
     "text": [
      "'CowboyBebop'SunriseOriginal 'n/a'['Action', 'Sci-Fi', 'AdultCast', 'Space']['YamaderaKouichi', 'KouichiHayashibara', 'HayashibaraMegumi', 'MegumiTada', 'TadaAoi', 'AoiIshizuka', 'IshizukaUnshou', 'UnshouYamadera', 'YamaderaKouichi', 'KouichiWakamoto', 'WakamotoNorio', 'NorioHoriuchi', 'HoriuchiKenyuu', 'KenyuuTakashima', 'TakashimaGara', 'GaraEbara', 'EbaraMasashi', 'MasashiGinga', 'GingaBanjou']\n"
     ]
    }
   ],
   "source": [
    "print(create_soup(df_animes.loc[0]))"
   ]
  },
  {
   "cell_type": "code",
   "execution_count": 37,
   "metadata": {},
   "outputs": [
    {
     "name": "stdout",
     "output_type": "stream",
     "text": [
      "19367 18411 17895 18247 18295 18679 18153 19703 18195 17265 17247 17074 16067 17549 19221 19369 17875 329 20159 19365 5909 10119 18277 13851 16011 18245 18497 18677 6408 9776 11339 11759 12291 17082 8676 11235 6547 10067 9989 11433 11111 11701 7647 12967 477 9736 10582 2251 3901 6347 5081 10396 13535 889 1519 11285 11633 10719 14967 14027 14345 1689 10163 12293 5356 10578 3087 4975 16157 14741 16934 2167 4181 6351 4059 8888 1575 12685 2904 9479 12549 6747 16592 8915 2025 7338 6573 15583 14353 9379 10638 8086 16512 9330 6746 790 12471 2759 3784 3785 3167 7465 14829 356 6922 10087 11741 227 8536 5114 4725 18229 16918 915 589 14811 8425 10793 13411 13161 387 11785 15699 9289 15809 15225 8630 5630 6372 6637 8074 934 10079 431 12189 13469 7088 488 17831 11013 13403 9041 10794 10357 12413 13331 14467 5680 9617 7791 9734 6862 16668 10372 16009 10568 3958 5978 1530 2593 3782 3783 4280 4282 6594 6205 11079 16732 486 1379 12175 11887 16001 13367 15609 8841 10790 15437 16782 15379 43 237 433 3358 10456 12487 13655 14349 16353 1887 4472 9756 11977 11979 10213 14833 10397 10721 10110 11761 14527 2963 14511 10620 16762 15315 16444 164 20 12119 15689 30 14293 1210 10165 11597 11933 14199 12355 2966 5341 6007 7769 8769 10020 13659 18857 14749 9988 770 8795 11179 12673 1943 10588 5682 16397 13601 6675 13599 13759 205 11499 14515 2605 5940 8675 199 18119 355 2787 6773 4581 5034 16498 13125 79 6802 1965 9253 10863 3667 16524 5681 7311 849 4382 11757 16417 13333 12445 2001 13663 6213 16049 9047 8023 4654 8937 11743 2236 14227 4224 2129 17909 10798 12317 14173 10162 14283 13171 6956 10521 14813 18753 8861 8457 10495 12403 1195 11319 1840 3712 14075 17681 16005 15085 269 14237 1 12679 14513 8424 21 15119 5220 10278 101 9919 13863 109 2986 6772 1536 4981 18671 15197 11843 2164 71 240 19363 3299 14175 910 20431 4550 257 9938 20457 468 9750 228 3503 2927 9260 8876 4672 5079 19769 20033 9181 19653 18897 19855 20507 18095 20931 11227 17777 20047 7588 20847 11763 5355 12611 10308 5507 8557 20057 3470 3455 19117 4896 856 19023 21085 7785 9331 3228 \n",
      "31646 9624 857 6547 35427 7817 34618 35712 38003 33354 34382 31456 1 28121 15417 31629 40052 2026 1889 36296 35413 20899 30709 35079 51213 7593 39247 48926 35241 40974 9936 334 17549 21 48895 36023 4719 6114 30363 9253 21881 31765 539 27899 4918 31783 18497 33337 31790 36904 37985 40215 34881 31580 33253 22199 25013 6987 8577 47 591 31080 11111 9919 33506 28391 37171 104 32878 30795 57 10218 12113 12115 530 740 532 1239 996 32906 269 1686 762 150 405 31043 31964 33486 36456 32023 33041 31478 32867 33071 3456 232 372 35320 28999 31553 30485 34753 35315 59 1311 596 60 34437 1575 1953 2904 2124 4596 31318 12549 14893 6747 34103 32189 33028 16592 35849 38656 34497 1535 33988 35823 3702 25687 32108 32551 34299 34962 36466 38691 40852 223 813 118 115 117 116 226 376 32901 2759 3784 3785 3786 10087 11741 31376 5114 33743 33731 30544 31737 34280 23289 918 9969 27631 43692 268 34279 245 133 881 31630 30721 20583 28891 38883 32935 34403 270 777 379 11617 24703 31326 32215 34281 15451 30300 12729 13357 21877 39570 38422 8074 9515 934 2438 31338 11061 34028 24781 821 3931 822 185 186 187 468 940 37210 44524 5781 34012 35203 40010 2330 14719 31405 40748 35076 5680 37999 43608 40591 34933 37086 8525 10080 10805 14713 25681 32491 469 32686 33 274 52 34964 38000 40456 47778 32281 31798 34104 33206 35363 28851 34934 30831 32937 49909 43 237 28623 31804 11771 16894 24415 15487 31051 39017 14349 33489 19489 17265 23321 189 190 191 192 2034 31741 18115 14513 435 1563 33003 31793 33795 35062 32902 98 99 33487 31845 32438 31422 10620 16762 32182 37510 30307 32698 9181 31442 877 1869 36847 37172 23755 34577 31722 20 1735 31764 36038 31404 18897 27787 19815 272 17157 31848 28819 32603 31980 1047 30276 34134 31704 195 443 196 524 31143 31621 32729 28297 35484 32013 853 29803 35073 37675 31138 26243 28927 31756 31498 215 33447 527 1564 1117 1118 30240 30296 1954 34561 33569 33142 31240 39587 42203 30015 32262 28497 45 401 44 573 1232 33255 17777 1254 3515 1257 1253 28215 1259 13759 30187 11499 34289 30806 32032 35369 33836 32595 31540 355 2787 29786 538 21843 28447 34642 16498 25777 35760 38524 40028 48583 23233 28171 40902 32282 35788 36949 39940 28735 33095 33502 33433 33834 35629 170 1764 2499 2498 1861 3588 32105 50265 855 876 11757 20021 24133 35790 696 540 2113 37430 39551 41487 41353 3455 13663 28979 31711 13851 5667 22319 1703 14227 4224 27 32681 29854 31098 30901 30385 31736 861 3091 37779 39617 28677 7762 10216 16241 32615 34904 35507 30740 18179 30413 24277 392 36951 1195 11319 1840 3712 31245 34572 1614 34525 3841 16169 34295 32608 12471 16 11785 263 27829 31499 18 7054 33018 467 22673 15689 31772 31181 33926 1699 5940 339 33031 30736 1133 31380 8861 28249 32379 34944 35608 1818 34438 25731 62 29589 37347 790 36792 24765 240 25907 21431 17729 106 15225 33654 48804 40787 38799 1566 801 21863 22225 39701 38397 8769 28617 38414 11763 51535 36688 39575 35839 35000 40590 36777 19151 16742 24405 34798 18677 \n",
      "51096 35180 4181 2904 42938 5114 820 918 15335 9969 15417 34096 36838 37491 39486 28977 11061 43608 47778 32281 40682 31758 28851 37510 19 35247 38524 40028 48583 50265 9253 37987 40748 50160 \n",
      "50709 41084 48895 47194 41457 11759 22199 47 41433 22729 6547 11111 24833 9919 28805 5081 36649 39195 10396 889 4901 1519 1686 2889 40060 31043 31964 33486 36456 31478 32867 34944 812 1575 2904 1 42310 35849 1535 40056 35120 3786 34100 25537 33049 33050 22297 10087 227 5114 239 39533 40052 10793 5630 431 11061 14719 20899 26055 31933 37991 12413 13331 40748 14467 16904 27991 37999 16668 572 24439 18679 38000 40456 47778 32281 22535 30831 237 35134 35135 28623 34599 36862 35062 10721 36563 10620 32182 37510 2581 3927 82 37764 93 31973 33221 6336 37765 31251 33051 81 164 41619 39535 20 1735 31764 30 32 19815 40729 46102 30276 34134 40834 29803 26243 437 35848 13601 31240 39587 42203 6675 166 37426 290 396 397 398 1827 37450 199 7724 21843 16498 25777 35760 38524 13125 48849 35847 9253 30484 2001 513 41353 22319 42249 6 40615 181 37521 46095 202 43299 37779 32615 37055 23283 16005 165 32998 49303 41467 40904 1347 50330 44511 38668 47164 47160 49345 49154 49438 46569 52635 52955 48417 50172 38716 49828 46422 10161 52274 50864 40055 35737 44807 339 38015 46093 75 26 50608 52093 543 48580 49387 50553 49233 \n",
      "49438 48675 50709 49470 30014 21 41389 51096 38101 39783 49520 9989 15039 34443 39555 10218 12113 12115 34572 34618 14741 35608 18671 16934 2167 4181 37982 38680 40417 49310 42938 1281 14131 18617 18619 33970 38081 39166 37349 39576 33783 36816 37897 43692 48707 17895 42940 40938 11617 12729 42897 14719 20899 26055 31933 37991 48661 51367 40748 48561 37999 43609 43608 40591 40839 42963 45613 39326 38000 40456 47778 32281 36098 33191 5042 7593 28851 11887 16001 28725 48926 50631 39535 45576 50360 23755 35946 46420 41491 34577 39701 31722 38397 39689 31490 4155 12859 38234 31240 38414 36286 39587 42203 30015 35466 13759 35851 42774 42798 37450 38329 23273 16498 25777 35760 38524 40028 48583 48736 39569 39456 50265 38826 43690 2236 42249 4224 37521 33352 39741 37987 37095 14813 39547 18753 23847 33161 35507 48548 101 6547 24833 30654 21995 48585 269 49596 44511 27601 41025 49709 52481 918 9969 15417 34096 35843 36838 37491 39486 28977 39167 39168 39169 47160 37105 51318 24703 32215 34281 15451 30300 51009 52198 50470 53050 144 1530 51019 433 13655 32182 37510 50172 51179 50315 51794 50593 30 50410 33091 33190 40778 31716 34126 51535 50602 50694 50594 50608 50307 45598 51533 44931 41226 42962 49387 46431 28677 30641 51180 \n"
     ]
    }
   ],
   "source": [
    "# print(df_users.loc[0]['watched list'][0])\n",
    "result = list()\n",
    "\n",
    "for i in range(5):\n",
    "    try:\n",
    "        user_name = df_users.loc[i]['user']\n",
    "        df_animes[user_name] = 0\n",
    "\n",
    "        temp_list = list()\n",
    "        temp_list = df_users.loc[i]['watched list']\n",
    "        temp_list = temp_list.split(',')\n",
    "        print(temp_list[0])\n",
    "        bag_of_words = list()\n",
    "        try:\n",
    "            for j in range(len(temp_list)):\n",
    "                for k in range(len(df_animes)):\n",
    "                    temp_list[j] = temp_list[j].lstrip()\n",
    "                    if j == 0:\n",
    "                        temp_list[j] = temp_list[j].strip('[')\n",
    "                    if j == len(temp_list) - 1:\n",
    "                        temp_list[5] = temp_list[5].strip(']')\n",
    "                        \n",
    "                    if temp_list[j] == df_animes.loc[k]['Id']:\n",
    "                        temp_bag = list(create_soup(df_animes.loc[k]))\n",
    "                        \n",
    "                        bag_of_words += temp_bag\n",
    "                        print(bag_of_words)\n",
    "                        break\n",
    "        except:\n",
    "            pass\n",
    "        result.append(df_users.loc[i]['user'],bag_of_words)\n",
    "    except:\n",
    "        pass\n",
    "\n",
    "df = pd.DataFrame(result, columns=['users', 'users bag of words'])\n",
    "\n",
    "df.to_csv('users_bag_of_words.csv',index=None)"
   ]
  },
  {
   "cell_type": "code",
   "execution_count": null,
   "metadata": {},
   "outputs": [
    {
     "name": "stdout",
     "output_type": "stream",
     "text": [
      "Empty DataFrame\n",
      "Columns: [users, users bag of words]\n",
      "Index: []\n"
     ]
    }
   ],
   "source": [
    "print(df)"
   ]
  },
  {
   "cell_type": "code",
   "execution_count": null,
   "metadata": {},
   "outputs": [],
   "source": [
    "\n",
    "\n",
    "# df['soup'] = df.apply(create_soup,axis = 1)\n",
    "\n",
    "# df.to_csv(\"anime_soup.csv\", index=None)\n",
    "\n",
    "# print(df['soup'])"
   ]
  },
  {
   "cell_type": "code",
   "execution_count": null,
   "metadata": {},
   "outputs": [],
   "source": [
    "# count = CountVectorizer()\n",
    "# count_matrix = count.fit_transform(df['soup'])\n",
    "# count_matrix.shape"
   ]
  },
  {
   "cell_type": "code",
   "execution_count": null,
   "metadata": {},
   "outputs": [],
   "source": [
    "# cosine_sim2 = cosine_similarity(count_matrix, count_matrix)\n",
    "\n",
    "# print(cosine_sim2)\n",
    "\n",
    "# df = df.reset_index()\n",
    "# indices = pd.Series(df.index, index=df['Id'])"
   ]
  },
  {
   "cell_type": "code",
   "execution_count": null,
   "metadata": {},
   "outputs": [],
   "source": [
    "# def get_recommendations(id, cosine_sim):\n",
    "#     # Get the index of the movie that matches the title\n",
    "#     idx = indices[id]\n",
    "\n",
    "#     # Get the pairwsie similarity scores of all movies with that movie\n",
    "#     sim_scores = list(enumerate(cosine_sim[idx]))\n",
    "\n",
    "#     # Sort the movies based on the similarity scores\n",
    "#     sim_scores = sorted(sim_scores, key=lambda x: x[1], reverse=True)\n",
    "\n",
    "#     # Get the scores of the 10 most similar movies\n",
    "#     sim_scores = sim_scores[1:11]\n",
    "\n",
    "#     # Get the movie indices\n",
    "#     anime_indices = [i[0] for i in sim_scores]\n",
    "\n",
    "#     # Return the top 10 most similar movies\n",
    "#     return df['id'].iloc[anime_indices]"
   ]
  },
  {
   "cell_type": "code",
   "execution_count": null,
   "metadata": {},
   "outputs": [],
   "source": [
    "# id_test = df.loc[0]['Id']\n",
    "# print(id_test)"
   ]
  },
  {
   "cell_type": "code",
   "execution_count": null,
   "metadata": {},
   "outputs": [],
   "source": [
    "# get_recommendations(1, cosine_sim2)"
   ]
  }
 ],
 "metadata": {
  "kernelspec": {
   "display_name": "Python 3.9.13 64-bit (microsoft store)",
   "language": "python",
   "name": "python3"
  },
  "language_info": {
   "codemirror_mode": {
    "name": "ipython",
    "version": 3
   },
   "file_extension": ".py",
   "mimetype": "text/x-python",
   "name": "python",
   "nbconvert_exporter": "python",
   "pygments_lexer": "ipython3",
   "version": "3.9.13"
  },
  "orig_nbformat": 4,
  "vscode": {
   "interpreter": {
    "hash": "3ab5f0538989203499ae8c09796501035f37df75f796f45e9c3b3f0fac523391"
   }
  }
 },
 "nbformat": 4,
 "nbformat_minor": 2
}
