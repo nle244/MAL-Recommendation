{
 "cells": [
  {
   "cell_type": "code",
   "execution_count": 19,
   "metadata": {},
   "outputs": [],
   "source": [
    "import pandas\n",
    "import numpy\n",
    "import csv\n",
    "import os\n",
    "import warnings\n",
    "from tqdm import tqdm\n",
    "from functions import *\n",
    "\n",
    "from pytest import skip\n",
    "\n",
    "df_user_info = pandas.read_csv('user_list_more_than_20.csv')\n",
    "df_anime_x = pandas.read_csv('top_and_bottom_anime.csv')\n",
    "df_anime_y = pandas.read_csv('anime_matrix_true.csv')\n",
    "\n",
    "#create main split for training and testing\n",
    "from sklearn.model_selection import train_test_split\n",
    "X_train, X_test, y_train, y_test = train_test_split(df_anime_x, df_anime_y, test_size=0.2, random_state=42)\n",
    "\n",
    "#create cross training split for building the models\n",
    "X_cross_train, X_cross_test, y_cross_train, y_cross_test = train_test_split(X_train, y_train, test_size=0.2, random_state=720)"
   ]
  },
  {
   "cell_type": "code",
   "execution_count": 20,
   "metadata": {},
   "outputs": [],
   "source": [
    "#Same spits are performed again to create df_true to check accuracy \n",
    "#create main split for training and testing\n",
    "from sklearn.model_selection import train_test_split\n",
    "A_train, A_test, b_train, b_test = train_test_split(df_anime_y, df_anime_y, test_size=0.2, random_state=42)\n",
    "\n",
    "#create cross training split for building the models\n",
    "A_cross_train, A_cross_test, b_cross_train, b_cross_test = train_test_split(A_train, b_train, test_size=0.2, random_state=720)\n",
    "\n",
    "df_true = A_cross_test.copy()"
   ]
  },
  {
   "cell_type": "code",
   "execution_count": 21,
   "metadata": {},
   "outputs": [],
   "source": [
    "#create list of anime in test set \n",
    "test_anime = []\n",
    "for i in range(len(X_cross_test)):\n",
    "    test_anime.append(X_cross_test.iloc[i]['Id'].replace('\\'',''))"
   ]
  },
  {
   "cell_type": "code",
   "execution_count": 10,
   "metadata": {},
   "outputs": [
    {
     "name": "stderr",
     "output_type": "stream",
     "text": [
      "100%|██████████| 9028/9028 [00:00<00:00, 9226.64it/s]\n",
      "100%|██████████| 89/89 [00:00<00:00, 8056.05it/s]\n"
     ]
    }
   ],
   "source": [
    "#create user list\n",
    "watch_values = y_cross_train.values\n",
    "users = y_cross_train.columns[1:]\n",
    "\n",
    "#create watch list based on df_anime_y\n",
    "users_watched = []\n",
    "for i in tqdm(range(len(users))):\n",
    "    watched = []\n",
    "    for j in range(len(watch_values)):\n",
    "        if(watch_values[j][i+1]):\n",
    "            watched.append(str(watch_values[j][0]))\n",
    "    users_watched.append(watched)\n",
    "\n",
    "#read each user's watch list and creates a bag of words of all anime they watched\n",
    "user_bag_result = []\n",
    "length = len(users)\n",
    "\n",
    "for j in tqdm(range(length)):\n",
    "    # user = df_mini_watch_list.loc[j]['user']\n",
    "    watched = users_watched[j]\n",
    "    bag = ''\n",
    "    for k in range(len(watched)):\n",
    "        if watched[k] not in test_anime:\n",
    "            try:\n",
    "                temp = '\\'' + str(watched[k]) + '\\''\n",
    "                index = df_anime_x.loc[df_anime_x['Id'] == temp].index[0]\n",
    "                bag += ' ' + Create_soup_selection(df_anime_x.loc[index],studio=False,source=True,genre=True,va=True)\n",
    "            except:\n",
    "                pass\n",
    "    user_bag_result.append([users[j],bag])\n",
    "\n",
    "#creates a bag of words for each anime\n",
    "anime_bag_result = []\n",
    "for i in tqdm(range(len(X_cross_test))):\n",
    "    anime = X_cross_test.iloc[i]['Id'].replace('\\'','')\n",
    "    bag = Create_soup_selection(X_cross_test.iloc[i],studio=True,source=True,genre=True,va=False)\n",
    "    anime_bag_result.append([anime,bag])\n",
    "\n",
    "#output the user bag of words to csv\n",
    "outputdf = pandas.DataFrame(user_bag_result, columns=['user','bag of words'])\n",
    "outputdf.to_csv('users_bag_of_words_drop_studio.csv', index=False)\n",
    "\n",
    "#output the anime bag of words to csv\n",
    "outputdf = pandas.DataFrame(anime_bag_result, columns=['Id','bag of words'])\n",
    "outputdf.to_csv('anime_bag_of_words__drop_va.csv', index=False)"
   ]
  },
  {
   "cell_type": "code",
   "execution_count": null,
   "metadata": {},
   "outputs": [],
   "source": []
  },
  {
   "cell_type": "code",
   "execution_count": 40,
   "metadata": {},
   "outputs": [
    {
     "name": "stderr",
     "output_type": "stream",
     "text": [
      "100%|██████████| 9028/9028 [00:18<00:00, 493.83it/s]\n"
     ]
    }
   ],
   "source": [
    "#Creates similarity matrix of all anime for all users\n",
    "from sklearn.feature_extraction.text import CountVectorizer\n",
    "from sklearn.metrics.pairwise import cosine_similarity\n",
    "\n",
    "df_user_bag = pandas.read_csv('users_bag_of_words_drop_va.csv')\n",
    "df_anime_bag = pandas.read_csv('anime_bag_of_words_drop_va.csv')\n",
    "\n",
    "count = CountVectorizer()\n",
    "df_similarity = pandas.DataFrame()\n",
    "df_similarity = df_true[['Id']].copy()\n",
    "users = df_true.columns[1:]\n",
    "\n",
    "for i in tqdm(range(len(users))):\n",
    "    list_of_bag_of_words = [df_user_bag.loc[i]['bag of words']]\n",
    "\n",
    "    count_matrix = count.fit_transform(df_anime_bag['bag of words'])\n",
    "    try:\n",
    "        count_matrix2 = count.transform(list_of_bag_of_words)\n",
    "    except:\n",
    "        #if user has an empty bag give them a matix of zeros\n",
    "        count_matrix2 = count.transform(['a'])\n",
    "\n",
    "    cosine_sim2 = cosine_similarity(count_matrix, count_matrix2)\n",
    "    # sim_scores = list(enumerate(cosine_sim2))\n",
    "    sim_scores = []\n",
    "    for each in cosine_sim2:\n",
    "        sim_scores.append(each[0])\n",
    "    warnings.simplefilter(action='ignore', category=pandas.errors.PerformanceWarning)\n",
    "    df_similarity[users[i]] = sim_scores\n",
    "\n",
    "# print(sim_scores[1][1][0])\n"
   ]
  },
  {
   "cell_type": "code",
   "execution_count": 27,
   "metadata": {},
   "outputs": [],
   "source": [
    "import pickle\n",
    "\n",
    "file = open('similarity_matrix.p', 'wb')\n",
    "pickle.dump(df_similarity,file)"
   ]
  },
  {
   "cell_type": "code",
   "execution_count": 6,
   "metadata": {},
   "outputs": [],
   "source": [
    "import pickle\n",
    "\n",
    "file = open('similarity_matrix.p', 'rb')\n",
    "df_similarity = pickle.load(file)"
   ]
  },
  {
   "cell_type": "code",
   "execution_count": 13,
   "metadata": {},
   "outputs": [],
   "source": [
    "labels = ['all','drop va','drop genre','drop source', 'drop studio']\n",
    "pos_sim_avg = []\n",
    "neg_sim_avg = []"
   ]
  },
  {
   "cell_type": "code",
   "execution_count": 34,
   "metadata": {},
   "outputs": [
    {
     "name": "stderr",
     "output_type": "stream",
     "text": [
      "100%|██████████| 89/89 [00:00<00:00, 296.24it/s]\n"
     ]
    }
   ],
   "source": [
    "#write code to traverse matrix and find the average sim score for 1's and 0's\n",
    "sim_val = df_similarity.values\n",
    "watch_val = df_true.values\n",
    "user_list = df_similarity.columns\n",
    "sim_score_pos = []\n",
    "sim_score_neg = []\n",
    "\n",
    "for i in tqdm(range(len(sim_val))):\n",
    "    for j in range(1,len(user_list)):    #skip the first item b/c that is the anime id\n",
    "        if watch_val[i][j] == 1:\n",
    "            sim_score_pos.append(sim_val[i][j])\n",
    "        else:\n",
    "            sim_score_neg.append(sim_val[i][j])\n",
    "\n",
    "pos_sim_avg.append(sum(sim_score_pos) / len(sim_score_pos))\n",
    "neg_sim_avg.append(sum(sim_score_neg) / len(sim_score_neg))"
   ]
  },
  {
   "cell_type": "code",
   "execution_count": 39,
   "metadata": {},
   "outputs": [
    {
     "data": {
      "image/png": "[encoded data removed]",
      "text/plain": [
       "<Figure size 640x480 with 1 Axes>"
      ]
     },
     "metadata": {},
     "output_type": "display_data"
    }
   ],
   "source": [
    "import matplotlib.pyplot as plt\n",
    "fig = plt.figure()\n",
    "ax = fig.add_axes([0,0,1,1])\n",
    "# plt.ylim(0.75,0.85)\n",
    "\n",
    "ax.bar(labels,pos_sim_avg, label = 'Positive')\n",
    "ax.bar(labels,neg_sim_avg, label = 'Negative')\n",
    "\n",
    "ax.set_ylabel('Similarity values')\n",
    "ax.set_title('Evaluation of dropped features')\n",
    "plt.legend()\n",
    "plt.show()"
   ]
  },
  {
   "cell_type": "code",
   "execution_count": 41,
   "metadata": {},
   "outputs": [
    {
     "name": "stderr",
     "output_type": "stream",
     "text": [
      "100%|██████████| 89/89 [00:00<00:00, 287.73it/s]"
     ]
    },
    {
     "name": "stdout",
     "output_type": "stream",
     "text": [
      "Average similarity for watched anime:  0.4245\n",
      "Average similarity for not watched:  0.2915\n"
     ]
    },
    {
     "name": "stderr",
     "output_type": "stream",
     "text": [
      "\n"
     ]
    }
   ],
   "source": [
    "#write code to traverse matrix and find the average sim score for 1's and 0's\n",
    "sim_val = df_similarity.values\n",
    "watch_val = df_true.values\n",
    "user_list = df_similarity.columns\n",
    "sim_score_pos = []\n",
    "sim_score_neg = []\n",
    "\n",
    "for i in tqdm(range(len(sim_val))):\n",
    "    for j in range(1,len(user_list)):    #skip the first item b/c that is the anime id\n",
    "        if watch_val[i][j] == 1:\n",
    "            sim_score_pos.append(sim_val[i][j])\n",
    "        else:\n",
    "            sim_score_neg.append(sim_val[i][j])\n",
    "\n",
    "print(f'Average similarity for watched anime: {sum(sim_score_pos) / len(sim_score_pos): .4f}')\n",
    "print(f'Average similarity for not watched: {sum(sim_score_neg) / len(sim_score_neg): .4f}')"
   ]
  },
  {
   "cell_type": "code",
   "execution_count": 45,
   "metadata": {},
   "outputs": [
    {
     "name": "stderr",
     "output_type": "stream",
     "text": [
      "100%|██████████| 11/11 [00:05<00:00,  2.15it/s]\n"
     ]
    }
   ],
   "source": [
    "#Make predictions with different intervals\n",
    "similarity_interval = [0.37,0.38,0.39,0.40,0.41,0.42,0.43,0.44,0.45,0.46,0.47]\n",
    "\n",
    "for i in tqdm(range(len(similarity_interval))):\n",
    "    predictions = []\n",
    "    for k in range(len(sim_val)):\n",
    "        prediction_row = [sim_val[k][0]]\n",
    "        for j in range(1,len(sim_val[k])):    #skip the first time b/c that is the anime Id\n",
    "            if sim_val[k][j] >= similarity_interval[i]:\n",
    "                prediction_row.append(1)\n",
    "            else: \n",
    "                prediction_row.append(0)\n",
    "        predictions.append(prediction_row)\n",
    "    string_val = str(similarity_interval[i]).replace('.','')\n",
    "    outputdf = pandas.DataFrame(predictions, columns=user_list)\n",
    "    outputdf.to_csv(f'items2items_sim_val_{string_val}.csv', index=False)\n"
   ]
  },
  {
   "cell_type": "code",
   "execution_count": 42,
   "metadata": {},
   "outputs": [
    {
     "name": "stderr",
     "output_type": "stream",
     "text": [
      "100%|██████████| 9028/9028 [00:00<00:00, 50098.73it/s]\n"
     ]
    }
   ],
   "source": [
    "#Finds the avegrage similarity watch values for each user\n",
    "sim_val = df_similarity.values\n",
    "watch_val = df_true.values\n",
    "user_list = df_similarity.columns\n",
    "user_similiarties = []\n",
    "row = len(watch_val)\n",
    "col = len(watch_val[0])\n",
    "\n",
    "for i in tqdm(range(1,col)):  #first column is anime Id\n",
    "    similarities = []\n",
    "    for j in range(row):\n",
    "        if watch_val[j][i] == 1:\n",
    "            similarities.append(sim_val[j][i])\n",
    "    try:\n",
    "        user_similiarties.append(sum(similarities) / len(similarities))\n",
    "    except:\n",
    "        user_similiarties.append(0)"
   ]
  },
  {
   "cell_type": "code",
   "execution_count": 43,
   "metadata": {},
   "outputs": [],
   "source": [
    "sim_val = df_similarity.values\n",
    "row = len(sim_val)\n",
    "col = len(sim_val[0])\n",
    "prediction_result = []\n",
    "factor = 1.0\n",
    "\n",
    "for i in range(row):\n",
    "    prediction = [sim_val[i][0]]\n",
    "    for j in range(1,col):                                         #skip first item b/c it's anime ID\n",
    "        if sim_val[i][j] >= (user_similiarties[j-1] * factor):     #user_similiarties is off by one b/c it does not have anime ID\n",
    "            prediction.append(1)\n",
    "        else:\n",
    "            prediction.append(0)\n",
    "    prediction_result.append(prediction)\n",
    "\n",
    "outputdf = pandas.DataFrame(prediction_result, columns=user_list)\n",
    "outputdf.to_csv(f'items2items_sim_variable.csv', index=False)"
   ]
  },
  {
   "cell_type": "code",
   "execution_count": 44,
   "metadata": {},
   "outputs": [
    {
     "name": "stderr",
     "output_type": "stream",
     "text": [
      "100%|██████████| 89/89 [00:00<00:00, 150.70it/s]"
     ]
    },
    {
     "name": "stdout",
     "output_type": "stream",
     "text": [
      "Total predictions: 803492\n",
      "Correct predictions: 597093\n",
      "Predicted watch: 167175\n",
      "True watched: 171942\n",
      "True positive: 66359\n",
      "True negative: 530734\n",
      "False negative: 105583\n",
      "Null Error Rate:  78.60\n",
      "False positive: 100816\n",
      "Percent correct:  74.31%\n",
      "Precision:  0.40\n",
      "Recall:  0.39\n"
     ]
    },
    {
     "name": "stderr",
     "output_type": "stream",
     "text": [
      "\n"
     ]
    }
   ],
   "source": [
    "#caluclate accuracy\n",
    "correct = 0\n",
    "prediction_matrix = pandas.read_csv('items2items_sim_variable.csv')\n",
    "pred_values = prediction_matrix.values\n",
    "true_values = df_true.values\n",
    "predict_watch = 0\n",
    "true_watch = 0\n",
    "true_pos = 0\n",
    "true_neg = 0\n",
    "false_pos = 0\n",
    "false_neg = 0\n",
    "null = 0\n",
    "\n",
    "num_row = len(pred_values)\n",
    "num_col = len(pred_values[0])\n",
    "for i in tqdm(range(num_row)):\n",
    "    for j in range(1,num_col):          #first item is the anime id, so we skip it\n",
    "        if pred_values[i,j] == true_values[i,j]:\n",
    "            correct += 1\n",
    "        if pred_values[i,j] == 1:\n",
    "            predict_watch += 1\n",
    "            if true_values[i,j] == 1:\n",
    "                true_pos += 1\n",
    "                true_watch += 1\n",
    "            else:\n",
    "                false_pos += 1\n",
    "\n",
    "        if pred_values[i,j] == 0:\n",
    "            if true_values[i,j] == 0:\n",
    "                true_neg += 1\n",
    "            else:\n",
    "                false_neg += 1\n",
    "                true_watch += 1\n",
    "\n",
    "        if 0 == true_values[i,j]:\n",
    "            null += 1\n",
    "        \n",
    "\n",
    "#subtracting 1 from column length b/c the first item is the anime id\n",
    "percent = (correct / ((num_row) * (num_col-1)))\n",
    "total = (num_row) * (num_col-1)\n",
    "print(f'Total predictions: {total}')\n",
    "print(f'Correct predictions: {correct}')\n",
    "\n",
    "print(f'Predicted watch: {predict_watch}')\n",
    "print(f'True watched: {true_watch}')\n",
    "print(f'True positive: {true_pos}')\n",
    "print(f'True negative: {true_neg}')\n",
    "print(f'False negative: {false_neg}')\n",
    "print(f'Null Error Rate: {(null / total)*100: .2f}')\n",
    "print(f'False positive: {false_pos}')\n",
    "print(f'Percent correct: {percent * 100: .2f}%')\n",
    "print(f'Precision: {(true_pos / (true_pos + false_pos)): .2f}')\n",
    "print(f'Recall: {(true_pos / (true_pos + false_neg)): .2f}')"
   ]
  },
  {
   "cell_type": "code",
   "execution_count": 46,
   "metadata": {},
   "outputs": [],
   "source": [
    "#caluclate accuracy\n",
    "percent_values = []\n",
    "precision_values = []\n",
    "recall_values = []\n",
    "f1_values = []\n",
    "for i in range(len(similarity_interval)):\n",
    "    string_val = str(similarity_interval[i]).replace('.','')\n",
    "    correct = 0\n",
    "    prediction_matrix = pandas.read_csv(f'items2items_sim_val_{string_val}.csv')\n",
    "    pred_values = prediction_matrix.values\n",
    "    true_values = df_true.values\n",
    "    predict_watch = 0\n",
    "    true_watch = 0\n",
    "    true_pos = 0\n",
    "    true_neg = 0\n",
    "    false_pos = 0\n",
    "    false_neg = 0\n",
    "    null = 0\n",
    "\n",
    "    num_row = len(pred_values)\n",
    "    num_col = len(pred_values[0])\n",
    "    for i in (range(num_row)):\n",
    "        for j in range(1,num_col):          #first item is the anime id, so we skip it\n",
    "            if pred_values[i,j] == true_values[i,j]:\n",
    "                correct += 1\n",
    "            if pred_values[i,j] == 1:\n",
    "                predict_watch += 1\n",
    "                if true_values[i,j] == 1:\n",
    "                    true_pos += 1\n",
    "                    true_watch += 1\n",
    "                else:\n",
    "                    false_pos += 1\n",
    "\n",
    "            if pred_values[i,j] == 0:\n",
    "                if true_values[i,j] == 0:\n",
    "                    true_neg += 1\n",
    "                else:\n",
    "                    false_neg += 1\n",
    "                    true_watch += 1\n",
    "\n",
    "            if 0 == true_values[i,j]:\n",
    "                null += 1\n",
    "            \n",
    "\n",
    "    #subtracting 1 from column length b/c the first item is the anime id\n",
    "    percent = (correct / ((num_row) * (num_col-1)))\n",
    "    precision = (true_pos / (true_pos + false_pos))\n",
    "    recall = (true_pos / (true_pos + false_neg))\n",
    "    f1 = (2*precision*recall) / (precision + recall)\n",
    "    total = (num_row) * (num_col-1)\n",
    "    percent_values.append(percent)\n",
    "    precision_values.append(precision)\n",
    "    recall_values.append(recall)\n",
    "    f1_values.append(f1)\n",
    "# print(f'Total predictions: {total}')\n",
    "# print(f'Correct predictions: {correct}')\n",
    "\n",
    "# print(f'Predicted watch: {predict_watch}')\n",
    "# print(f'True watched: {true_watch}')\n",
    "# print(f'True positive: {true_pos}')\n",
    "# print(f'True negative: {true_neg}')\n",
    "# print(f'False negative: {false_neg}')\n",
    "# print(f'Null Error Rate: {(null / total)*100: .2f}')\n",
    "# print(f'False positive: {false_pos}')\n",
    "# print(f'Percent correct: {percent * 100: .2f}%')\n",
    "# print(f'Precision: {(true_pos / (true_pos + false_pos)): .2f}')\n",
    "# print(f'Recall: {(true_pos / (true_pos + false_neg)): .2f}')"
   ]
  },
  {
   "cell_type": "code",
   "execution_count": 47,
   "metadata": {},
   "outputs": [
    {
     "data": {
      "image/png": "[encoded data removed]",
      "text/plain": [
       "<Figure size 640x480 with 1 Axes>"
      ]
     },
     "metadata": {},
     "output_type": "display_data"
    }
   ],
   "source": [
    "import matplotlib.pyplot as plt\n",
    "\n",
    "plt.plot(similarity_interval,percent_values, label = 'Accuracy')\n",
    "plt.title('Evaluation metrics')\n",
    "plt.xlabel('Similarity threshold')\n",
    "plt.legend()\n",
    "plt.show()"
   ]
  },
  {
   "cell_type": "code",
   "execution_count": 48,
   "metadata": {},
   "outputs": [
    {
     "data": {
      "image/png": "[encoded data removed]",
      "text/plain": [
       "<Figure size 640x480 with 1 Axes>"
      ]
     },
     "metadata": {},
     "output_type": "display_data"
    }
   ],
   "source": [
    "import matplotlib.pyplot as plt\n",
    "\n",
    "plt.plot(similarity_interval,percent_values, label = 'Accuracy')\n",
    "plt.plot(similarity_interval,precision_values, label = 'Precision')\n",
    "plt.plot(similarity_interval,recall_values, label = 'Recall')\n",
    "plt.plot(similarity_interval,f1_values, label = 'F1 Score')\n",
    "plt.title('Evaluation metrics')\n",
    "# plt.ylabel('Accuracy %')\n",
    "plt.xlabel('Similarity threshold')\n",
    "plt.legend()\n",
    "plt.show()"
   ]
  },
  {
   "cell_type": "code",
   "execution_count": 56,
   "metadata": {},
   "outputs": [
    {
     "name": "stderr",
     "output_type": "stream",
     "text": [
      "100%|██████████| 89/89 [00:00<00:00, 144.79it/s]"
     ]
    },
    {
     "name": "stdout",
     "output_type": "stream",
     "text": [
      "Total predictions: 803492\n",
      "Correct predictions: 568603\n",
      "Predicted watch: 236305\n",
      "True watched: 171942\n",
      "True positive: 86679\n",
      "True negative: 481924\n",
      "False negative: 85263\n",
      "Null Error Rate:  78.60\n",
      "False positive: 149626\n",
      "Percent correct:  70.77%\n",
      "Precision:  0.37\n",
      "Recall:  0.50\n"
     ]
    },
    {
     "name": "stderr",
     "output_type": "stream",
     "text": [
      "\n"
     ]
    }
   ],
   "source": [
    "#caluclate accuracy\n",
    "correct = 0\n",
    "prediction_matrix = pandas.read_csv('items2items_sim_val_041.csv')\n",
    "pred_values = prediction_matrix.values\n",
    "true_values = df_true.values\n",
    "predict_watch = 0\n",
    "true_watch = 0\n",
    "true_pos = 0\n",
    "true_neg = 0\n",
    "false_pos = 0\n",
    "false_neg = 0\n",
    "null = 0\n",
    "\n",
    "num_row = len(pred_values)\n",
    "num_col = len(pred_values[0])\n",
    "for i in tqdm(range(num_row)):\n",
    "    for j in range(1,num_col):          #first item is the anime id, so we skip it\n",
    "        if pred_values[i,j] == true_values[i,j]:\n",
    "            correct += 1\n",
    "        if pred_values[i,j] == 1:\n",
    "            predict_watch += 1\n",
    "            if true_values[i,j] == 1:\n",
    "                true_pos += 1\n",
    "                true_watch += 1\n",
    "            else:\n",
    "                false_pos += 1\n",
    "\n",
    "        if pred_values[i,j] == 0:\n",
    "            if true_values[i,j] == 0:\n",
    "                true_neg += 1\n",
    "            else:\n",
    "                false_neg += 1\n",
    "                true_watch += 1\n",
    "\n",
    "        if 0 == true_values[i,j]:\n",
    "            null += 1\n",
    "        \n",
    "\n",
    "#subtracting 1 from column length b/c the first item is the anime id\n",
    "percent = (correct / ((num_row) * (num_col-1)))\n",
    "total = (num_row) * (num_col-1)\n",
    "print(f'Total predictions: {total}')\n",
    "print(f'Correct predictions: {correct}')\n",
    "\n",
    "print(f'Predicted watch: {predict_watch}')\n",
    "print(f'True watched: {true_watch}')\n",
    "print(f'True positive: {true_pos}')\n",
    "print(f'True negative: {true_neg}')\n",
    "print(f'False negative: {false_neg}')\n",
    "print(f'Null Error Rate: {(null / total)*100: .2f}')\n",
    "print(f'False positive: {false_pos}')\n",
    "print(f'Percent correct: {percent * 100: .2f}%')\n",
    "print(f'Precision: {(true_pos / (true_pos + false_pos)): .2f}')\n",
    "print(f'Recall: {(true_pos / (true_pos + false_neg)): .2f}')"
   ]
  },
  {
   "cell_type": "code",
   "execution_count": 57,
   "metadata": {},
   "outputs": [
    {
     "name": "stderr",
     "output_type": "stream",
     "text": [
      "C:\\Users\\Tenkawa PC\\AppData\\Local\\Temp\\ipykernel_6476\\678633288.py:17: MatplotlibDeprecationWarning: Auto-removal of overlapping axes is deprecated since 3.6 and will be removed two minor releases later; explicitly call ax.remove() as needed.\n",
      "  ax= plt.subplot()\n"
     ]
    },
    {
     "data": {
      "text/plain": [
       "[Text(0, 0.5, 'Negative'), Text(0, 1.5, 'Positive')]"
      ]
     },
     "execution_count": 57,
     "metadata": {},
     "output_type": "execute_result"
    },
    {
     "data": {
      "image/png": "[encoded data removed]",
      "text/plain": [
       "<Figure size 480x480 with 2 Axes>"
      ]
     },
     "metadata": {},
     "output_type": "display_data"
    }
   ],
   "source": [
    "from sklearn.metrics import confusion_matrix\n",
    "import seaborn as sns\n",
    "import matplotlib.pyplot as plt  \n",
    "\n",
    "#have to convert true_values and pred_values from matrix to list\n",
    "y_true = []\n",
    "y_pred = []\n",
    "for i in range(len(true_values)):\n",
    "    y_true += list(true_values[i][1:])\n",
    "    y_pred += list(pred_values[i][1:])\n",
    "\n",
    "cm = confusion_matrix(y_true,y_pred)\n",
    "plt.matshow(cm)\n",
    "\n",
    "   \n",
    "\n",
    "ax= plt.subplot()\n",
    "sns.heatmap(cm, annot=True, fmt='g', ax=ax, cmap='ocean_r');  #annot=True to annotate cells, ftm='g' to disable scientific notation\n",
    "\n",
    "# labels, title and ticks\n",
    "ax.set_xlabel('Predicted labels')\n",
    "ax.set_ylabel('True labels')\n",
    "ax.set_title('Confusion Matrix')\n",
    "ax.xaxis.set_ticklabels(['Negative', 'Positive'])\n",
    "ax.yaxis.set_ticklabels(['Negative', 'Positive'])"
   ]
  },
  {
   "cell_type": "code",
   "execution_count": 58,
   "metadata": {},
   "outputs": [
    {
     "name": "stdout",
     "output_type": "stream",
     "text": [
      "Accuray: 0.71\n",
      "Precision: 0.37\n",
      "Recall: 0.50\n",
      "F1 score: 0.42\n"
     ]
    }
   ],
   "source": [
    "from sklearn.metrics import accuracy_score\n",
    "from sklearn.metrics import precision_score\n",
    "from sklearn.metrics import recall_score\n",
    "from sklearn.metrics import f1_score\n",
    "\n",
    "print(f'Accuray: {accuracy_score(y_true, y_pred):.2f}')\n",
    "print(f'Precision: {precision_score(y_true, y_pred):.2f}')\n",
    "print(f'Recall: {recall_score(y_true, y_pred):.2f}')\n",
    "print(f'F1 score: {f1_score(y_true, y_pred):.2f}')"
   ]
  }
 ],
 "metadata": {
  "kernelspec": {
   "display_name": "Python 3.10.8 64-bit (microsoft store)",
   "language": "python",
   "name": "python3"
  },
  "language_info": {
   "codemirror_mode": {
    "name": "ipython",
    "version": 3
   },
   "file_extension": ".py",
   "mimetype": "text/x-python",
   "name": "python",
   "nbconvert_exporter": "python",
   "pygments_lexer": "ipython3",
   "version": "3.10.8"
  },
  "orig_nbformat": 4,
  "vscode": {
   "interpreter": {
    "hash": "8fc903fd1a35692d96a4695a6c4f7b57bb80f609b0147f9dc1e34250c7f2a3f2"
   }
  }
 },
 "nbformat": 4,
 "nbformat_minor": 2
}
