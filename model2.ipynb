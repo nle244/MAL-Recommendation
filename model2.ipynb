{
 "cells": [
  {
   "cell_type": "code",
   "execution_count": 19,
   "metadata": {},
   "outputs": [],
   "source": [
    "import pandas as pd\n",
    "import numpy as np\n",
    "import csv as cv\n",
    "from sklearn.feature_extraction.text import CountVectorizer\n",
    "from sklearn.metrics.pairwise import cosine_similarity\n",
    "from sklearn.feature_extraction.text import TfidfVectorizer\n",
    "from sklearn.feature_extraction.text import TfidfTransformer\n",
    "from sklearn.neighbors import NearestNeighbors\n",
    "from sklearn.model_selection import train_test_split\n",
    "import time\n",
    "from tqdm import tqdm\n",
    "import warnings"
   ]
  },
  {
   "cell_type": "code",
   "execution_count": 20,
   "metadata": {},
   "outputs": [
    {
     "name": "stdout",
     "output_type": "stream",
     "text": [
      "        Id                          Anime Title  Rating        Studio  \\\n",
      "0      '1'                        'CowboyBebop'    8.75       Sunrise   \n",
      "1    '100'  'ShinShirayuki-himeDensetsuPrétear'    7.17  HalFilmMaker   \n",
      "2  '10014'                   'ShouwaMonogatari'    6.86      WAOWorld   \n",
      "3  '10015'                     'Yu☆Gi☆Oh!Zexal'    6.37        Gallop   \n",
      "4  '10030'                  'Bakuman.2ndSeason'    8.36     J.C.Staff   \n",
      "\n",
      "  Source Material Demographic  \\\n",
      "0        Original       'n/a'   \n",
      "1           Manga    'Shoujo'   \n",
      "2        Original       'n/a'   \n",
      "3           Manga   'Shounen'   \n",
      "4           Manga   'Shounen'   \n",
      "\n",
      "                                               Genre  \\\n",
      "0         ['Action', 'Sci-Fi', 'AdultCast', 'Space']   \n",
      "1  ['Comedy', 'Drama', 'Fantasy', 'Romance', 'Mah...   \n",
      "2                            ['Drama', 'Historical']   \n",
      "3   ['Action', 'Fantasy', 'StrategyGame', 'Shounen']   \n",
      "4  ['Comedy', 'Drama', 'Romance', 'OtakuCulture',...   \n",
      "\n",
      "                                                 VAs  \\\n",
      "0  ['YamaderaKouichi', 'KouichiHayashibara', 'Hay...   \n",
      "1  ['ToriumiKousuke', 'KousukeYoshida', 'YoshidaS...   \n",
      "2  ['AokiMakoto', 'MakotoFukuen', 'FukuenMisato',...   \n",
      "3  ['UchiyamaKouki', 'KoukiMasuda', 'MasudaToshik...   \n",
      "4  ['AbeAtsushi', 'AtsushiHino', 'HinoSatoshi', '...   \n",
      "\n",
      "                                                soup  \n",
      "0  CowboyBebop Sunrise Original Action Sci-Fi Adu...  \n",
      "1  ShinShirayuki-himeDensetsuPrétear HalFilmMaker...  \n",
      "2  ShouwaMonogatari WAOWorld Original Drama Histo...  \n",
      "3  Yu☆Gi☆Oh!Zexal Gallop Manga Action Fantasy Str...  \n",
      "4  Bakuman.2ndSeason J.C.Staff Manga Comedy Drama...  \n"
     ]
    }
   ],
   "source": [
    "# read csv file into dataframe\n",
    "df_anime_soup = pd.read_csv('anime_soup.csv')\n",
    "print(df_anime_soup.head())\n"
   ]
  },
  {
   "cell_type": "code",
   "execution_count": 21,
   "metadata": {},
   "outputs": [
    {
     "name": "stdout",
     "output_type": "stream",
     "text": [
      "               user                                       bag of words\n",
      "0           ilampan   Planetes Sunrise Manga Drama Romance Sci-Fi A...\n",
      "1           Zephyyr   30-sainoHokenTaiiku Gathering Book Romance Ec...\n",
      "2      Alister-Dark   3-gatsunoLion2ndSeason Shaft Manga Drama Slic...\n",
      "3  AMechaDegenarate   86 A-1Pictures Lightnovel Action Drama Sci-Fi...\n",
      "4     Matthew_Myers   OnePiece ToeiAnimation Manga Action Adventure...\n"
     ]
    }
   ],
   "source": [
    "df_user_soup = pd.read_csv('users_bag_of_words.csv')\n",
    "print(df_user_soup.head())"
   ]
  },
  {
   "cell_type": "code",
   "execution_count": 22,
   "metadata": {},
   "outputs": [
    {
     "name": "stdout",
     "output_type": "stream",
     "text": [
      "               user  watched count  \\\n",
      "0           ilampan            380   \n",
      "1           Zephyyr            538   \n",
      "2      Alister-Dark             34   \n",
      "3  AMechaDegenarate            203   \n",
      "4     Matthew_Myers            211   \n",
      "\n",
      "                                        watched list  \n",
      "0  19367 18411 17895 18247 18295 18679 18153 1970...  \n",
      "1  31646 9624 857 6547 35427 7817 34618 35712 380...  \n",
      "2  51096 35180 4181 2904 42938 5114 820 918 15335...  \n",
      "3  50709 41084 48895 47194 41457 11759 22199 47 4...  \n",
      "4  49438 48675 50709 49470 30014 21 41389 51096 3...  \n"
     ]
    }
   ],
   "source": [
    "df_users_list = pd.read_csv('users_watched2.csv')\n",
    "print(df_users_list.head())"
   ]
  },
  {
   "cell_type": "code",
   "execution_count": 23,
   "metadata": {},
   "outputs": [
    {
     "name": "stdout",
     "output_type": "stream",
     "text": [
      "        Id\n",
      "0  '32937'\n",
      "1  '33206'\n",
      "2  '32615'\n",
      "3  '33487'\n",
      "4  '33506'\n"
     ]
    }
   ],
   "source": [
    "df_anime = pd.read_csv('new_anime.csv')\n",
    "df_anime = df_anime.drop(['Anime Title', 'Rating', 'Studio', 'Source Material', 'Demographic', 'Genre', 'VAs'],axis = 1)\n",
    "print(df_anime.head())"
   ]
  },
  {
   "cell_type": "code",
   "execution_count": 24,
   "metadata": {},
   "outputs": [],
   "source": [
    "# def create_soup(x):\n",
    "#     result = x['Anime Title']\n",
    "\n",
    "#     if x['Studio'] != 'n/a':\n",
    "#         result += ' ' + x['Studio']\n",
    "#     if x['Source Material'] != 'n/a':\n",
    "#         result += ' ' + x['Source Material']\n",
    "#     if x['Genre'] != 'n/a':\n",
    "#         result += ' ' + x['Genre']\n",
    "#     if x['VAs'] != 'n/a':\n",
    "#         result += ' ' + x['VAs']\n",
    "    \n",
    "#     punc = '[],\\'\\\"'\n",
    "    \n",
    "#     for ele in result:\n",
    "#         if ele in punc:\n",
    "#             result = result.replace(ele, \"\")\n",
    "\n",
    "#     return result\n",
    "\n",
    "# df['soup'] = df.apply(create_soup,axis = 1)\n",
    "\n",
    "#df = df.drop(['Rating', 'Studio', 'Source Material', 'Demographic', 'Genre', 'VAs'], axis=1)\n",
    "\n",
    "# df.to_csv(\"anime_soup.csv\", index=None)\n",
    "\n",
    "# print(df['soup'])"
   ]
  },
  {
   "cell_type": "code",
   "execution_count": 25,
   "metadata": {},
   "outputs": [],
   "source": [
    "# count = CountVectorizer()\n",
    "# list_of_bag_of_words = [df_users.loc[0]['bag of words']]\n",
    "# count_matrix = count.fit_transform(list_of_bag_of_words)\n",
    "# count_matrix = count.transform(df['soup'])\n",
    "# count_matrix.shape\n",
    "\n",
    "# print(count_matrix)"
   ]
  },
  {
   "cell_type": "code",
   "execution_count": 26,
   "metadata": {},
   "outputs": [],
   "source": [
    "# cosine_sim2 = cosine_similarity(count_matrix, count_matrix)\n",
    "\n",
    "# print(cosine_sim2)\n",
    "\n",
    "# df = df.reset_index()\n",
    "# indices = pd.Series(df.index, index=df['Id'])\n",
    "\n",
    "# print(indices)"
   ]
  },
  {
   "cell_type": "code",
   "execution_count": 27,
   "metadata": {},
   "outputs": [],
   "source": [
    "# num = 20 \n",
    "# num = '\\'' + str(num) + '\\''\n",
    "# print(df.loc[df['Id'] == num].index[0])\n",
    "\n",
    "# print(df_users.loc[0]['bag of words'])\n"
   ]
  },
  {
   "cell_type": "code",
   "execution_count": 28,
   "metadata": {},
   "outputs": [],
   "source": [
    "# list_of_bag_of_words = [df_users.loc[idx]['bag of words']]\n",
    "# print(list_of_bag_of_words)"
   ]
  },
  {
   "cell_type": "code",
   "execution_count": 29,
   "metadata": {},
   "outputs": [],
   "source": [
    "# count = CountVectorizer()\n",
    "# tfidf = TfidfVectorizer()\n",
    "# list_of_bag_of_words = [df_user_soup.loc[2]['bag of words']]\n",
    "\n",
    "# count_matrix = count.fit_transform(df_anime_soup['soup'])\n",
    "# # tfidf_matrix = tfidf.fit_transform(list_of_bag_of_words)\n",
    "# # print(count_matrix.shape)\n",
    "# # print(count_matrix)\n",
    "\n",
    "# count_matrix2 = count.transform(list_of_bag_of_words)\n",
    "# # # tfidf_matrix = tfidf.transform(df['soup'])\n",
    "# # print(tfidf_matrix.shape) \n",
    "# # print(count_matrix2.shape)\n",
    "# # print(count_matrix2)\n",
    "\n",
    "# # # (sentence_index, feature_index) count\n",
    "# # print(tfidf_matrix)\n",
    "\n",
    "# cosine_sim2 = cosine_similarity(count_matrix2, count_matrix)\n",
    "\n",
    "# sim_scores = list(enumerate(cosine_sim2))\n",
    "\n",
    "# sim_scores = sorted(sim_scores, key=lambda x: x[1], reverse=True)\n",
    "# # print(sim_scores)\n",
    "# anime_indices = [i[0] for i in sim_scores]\n",
    "# # print(len(cosine_sim2))\n",
    "# # for i in range(len(cosine_sim2)):\n",
    "# #     print(cosine_sim2[i])\n",
    "# counter = 0\n",
    "# for i in range(len(sim_scores)):\n",
    "#     if sim_scores[i][1][0] > 0.5:\n",
    "#         counter += 1\n",
    "#         # print(sim_scores[i])\n",
    " \n",
    "# # for i in range(counter):\n",
    "# #     for j in range(len(df_users_list.loc[2]['watched list'])):\n",
    "# #         temp_num = df['Id'].iloc[anime_indices[i]]\n",
    "# #         punc = '[],\\'\\\"'\n",
    "            \n",
    "# #         for ele in temp_num:\n",
    "# #             if ele in punc:\n",
    "# #                 temp_num = temp_num.replace(ele, \"\")\n",
    "# #         # print(temp_num)\n",
    "\n",
    "# #         temp = df_users_list.loc[2]['watched list']\n",
    "# #         temp = temp.split()\n",
    "\n",
    "# #         if temp_num == temp[j]:\n",
    "# #             print('yes')\n",
    "# #         else:\n",
    "# #             print('no')\n",
    "\n",
    "# print(str(df['Anime Title'].iloc[anime_indices]))"
   ]
  },
  {
   "cell_type": "code",
   "execution_count": 30,
   "metadata": {},
   "outputs": [],
   "source": [
    "# temp_num = df['Id'].iloc[anime_indices[0]]\n",
    "# punc = '[],\\'\\\"'\n",
    "    \n",
    "# for ele in temp_num:\n",
    "#     if ele in punc:\n",
    "#         temp_num = temp_num.replace(ele, \"\")\n",
    "# print(temp_num)\n",
    "\n",
    "\n",
    "# temp = df_users_list.loc[2]['watched list']\n",
    "# temp = temp.split()\n",
    "\n",
    "\n",
    "\n",
    "\n",
    "\n",
    "# print(temp[15])\n",
    "# if temp_num == temp[15]:\n",
    "#     print('yes')\n",
    "# else:\n",
    "#     print('no')"
   ]
  },
  {
   "cell_type": "code",
   "execution_count": 31,
   "metadata": {},
   "outputs": [],
   "source": [
    "# X = df['soup']\n",
    "# y = df_users['bag of words']\n",
    "\n",
    "# X_train, X_test, Y_train, Y_test = train_test_split(X, y, test_size=0.2)"
   ]
  },
  {
   "cell_type": "code",
   "execution_count": 32,
   "metadata": {},
   "outputs": [],
   "source": [
    "# df_anime[df_users.loc[0]['user']] = ''\n",
    "\n",
    "# df_anime.at[0, df_users.loc[0]['user']] = 1\n",
    "\n",
    "# print(df_anime[df_users.loc[0]['user']])"
   ]
  },
  {
   "cell_type": "code",
   "execution_count": 33,
   "metadata": {},
   "outputs": [],
   "source": [
    "df_anime[df_user_soup.loc[0]['user']] = '0'"
   ]
  },
  {
   "cell_type": "code",
   "execution_count": 34,
   "metadata": {},
   "outputs": [],
   "source": [
    "idx = 0\n",
    "def get_recs(df_user_soup = df_user_soup,df_anime_soup = df_anime_soup, df_users_list = df_users_list, df_anime = df_anime, idx = idx):\n",
    "    # loop through users watchlist\n",
    "\n",
    "    \n",
    "    # for i in range(len(df_users)):\n",
    "    # get the index of the anime that matches the id\n",
    "    # id2 = '\\'' + str(id) + '\\''\n",
    "    # idx = (df.loc[df['Id'] == id2].index[0])\n",
    "\n",
    "    df_anime[df_user_soup.loc[idx]['user']] = '0'\n",
    "\n",
    "\n",
    "    count = CountVectorizer()\n",
    "    tfidf = TfidfVectorizer()\n",
    "    list_of_bag_of_words = [df_user_soup.loc[idx]['bag of words']]\n",
    "\n",
    "    try:\n",
    "        \n",
    "\n",
    "        # tfidf_matrix = tfidf.fit_transform(df['soup'])\n",
    "        # tfidf_matrix2 = tfidf.transform(list_of_bag_of_words)\n",
    "\n",
    "        count_matrix = count.fit_transform(df_anime_soup['soup'])\n",
    "        count_matrix2 = count.transform(list_of_bag_of_words)\n",
    "        \n",
    "        \n",
    "        # cosine_sim2 = cosine_similarity(tfidf_matrix, tfidf_matrix2)\n",
    "        cosine_sim2 = cosine_similarity(count_matrix, count_matrix2)\n",
    "        \n",
    "        # try:\n",
    "        #     df = df.reset_index()\n",
    "        # except:\n",
    "        #     pass\n",
    "        \n",
    "        # find sim score of the inputed anime with all other animes\n",
    "        sim_scores = list(enumerate(cosine_sim2))\n",
    "        # sim_scores = sorted(sim_scores, key=lambda x: x[1], reverse=True)\n",
    "        # print(sim_scores[0][1][0])\n",
    "        # cosine_sim2 = sorted(cosine_sim2, key=itemgetter(0), reverse=True)\n",
    "\n",
    "        # sort based on sim scores desc\n",
    "        # sim_scores = sorted(sim_scores, key=lambda x: x[1], reverse=True)\n",
    "\n",
    "        # # get recommended animes index\n",
    "        # anime_indices = [i[0] for i in sim_scores]\n",
    "\n",
    "        # print(df_users.loc[idx]['user'])\n",
    "\n",
    "        # counter = 0\n",
    "        # for i in range(len(sim_scores)):\n",
    "        #     if sim_scores[i][1][0] > 0.5:\n",
    "        #         counter += 1\n",
    "                # print(sim_scores[i])\n",
    "\n",
    "        \n",
    "        for i in range(len(df_anime)):\n",
    "            try:\n",
    "                if sim_scores[i][1][0] > 0.25:\n",
    "                    # sim_tuple = [sim_scores[i][1][0],1]\n",
    "                    df_anime.at[i, df_user_soup.loc[idx]['user']] = 1\n",
    "                # else:\n",
    "                #     sim_tuple = [sim_scores[i][1][0],0]\n",
    "                #     df_anime.at[i, df_user_soup.loc[idx]['user']] = sim_tuple\n",
    "            except:\n",
    "                pass\n",
    "\n",
    "            \n",
    "            # for j in range(len(df_users_list.loc[idx]['watched list'])):\n",
    "            #     temp_num = df['Id'].iloc[anime_indices[i]]\n",
    "            #     punc = '[],\\'\\\"'\n",
    "                    \n",
    "            #     for ele in temp_num:\n",
    "            #         if ele in punc:\n",
    "            #             temp_num = temp_num.replace(ele, \"\")\n",
    "            #     # print(temp_num)\n",
    "\n",
    "            #     temp = df_users_list.loc[idx]['watched list']\n",
    "            #     temp = temp.split()\n",
    "\n",
    "            #     if temp_num == temp[j]:\n",
    "            #         df_anime.at[0, df_users.loc[idx]['user']] = 1\n",
    "\n",
    "        # df_anime.to_csv('new_anime2.csv', index=None)\n",
    "                        \n",
    "\n",
    "        # for i in range(len(cosine_sim2)):\n",
    "        #     print(cosine_sim2[i])\n",
    "\n",
    "        # return df['Anime Title'].iloc[anime_indices[:counter]]\n",
    "\n",
    "    except:\n",
    "        pass\n",
    "    \n",
    "    "
   ]
  },
  {
   "cell_type": "code",
   "execution_count": 35,
   "metadata": {},
   "outputs": [
    {
     "name": "stderr",
     "output_type": "stream",
     "text": [
      "100%|██████████| 10071/10071 [22:56<00:00,  7.32it/s]\n"
     ]
    }
   ],
   "source": [
    "warnings.simplefilter(action='ignore', category=pd.errors.PerformanceWarning)\n",
    "for i in tqdm(range(len(df_user_soup))):\n",
    "    get_recs(df_user_soup, df_anime_soup, df_users_list, df_anime, i)\n",
    "    \n",
    "\n",
    "df_anime.to_csv('new_anime3.csv', index=None)"
   ]
  },
  {
   "cell_type": "code",
   "execution_count": 36,
   "metadata": {},
   "outputs": [],
   "source": [
    "# df_final = pd.read_csv('new_anime2.csv')\n",
    "\n",
    "\n",
    "# print(df_final.iloc[9])"
   ]
  }
 ],
 "metadata": {
  "kernelspec": {
   "display_name": "Python 3.10.8 64-bit (microsoft store)",
   "language": "python",
   "name": "python3"
  },
  "language_info": {
   "codemirror_mode": {
    "name": "ipython",
    "version": 3
   },
   "file_extension": ".py",
   "mimetype": "text/x-python",
   "name": "python",
   "nbconvert_exporter": "python",
   "pygments_lexer": "ipython3",
   "version": "3.10.8"
  },
  "orig_nbformat": 4,
  "vscode": {
   "interpreter": {
    "hash": "e0acaf148705ed9ed86cc5cad12259d7985e30670e5686e5f55604a9b3b84a55"
   }
  }
 },
 "nbformat": 4,
 "nbformat_minor": 2
}
