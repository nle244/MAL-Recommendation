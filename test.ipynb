{
 "cells": [
  {
   "cell_type": "code",
   "execution_count": 38,
   "metadata": {},
   "outputs": [
    {
     "name": "stdout",
     "output_type": "stream",
     "text": [
      "1\n",
      "1998\n"
     ]
    }
   ],
   "source": [
    "from textwrap import indent\n",
    "from bs4 import BeautifulSoup\n",
    "from lxml import etree\n",
    "import requests\n",
    "import time\n",
    "from datetime import datetime\n",
    "import re\n",
    "\n",
    "link = 'https://myanimelist.net/anime/1/Cowboy_Bebop'\n",
    "i = 30\n",
    "# for i in range(len(link)):\n",
    "#     print(link[i])\n",
    "id = \"\"\n",
    "while(link[i] != '/'):\n",
    "    id += link[i]\n",
    "    i += 1\n",
    "print(id)\n",
    "\n",
    "html_text = requests.get(link).text\n",
    "soup = BeautifulSoup(html_text, 'lxml')\n",
    "\n",
    "years = soup.find('span', text = \"Aired:\").next_sibling\n",
    "num = re.findall(r'\\d+', years)\n",
    "num = [int(i) for i in num]\n",
    "for i in num:\n",
    "    if i < 1900:\n",
    "        num.remove(i)\n",
    "year = min(num)\n",
    "print(year)\n",
    "\n",
    "# print(years)"
   ]
  }
 ],
 "metadata": {
  "interpreter": {
   "hash": "3ab5f0538989203499ae8c09796501035f37df75f796f45e9c3b3f0fac523391"
  },
  "kernelspec": {
   "display_name": "Python 3.9.13 64-bit (windows store)",
   "language": "python",
   "name": "python3"
  },
  "language_info": {
   "codemirror_mode": {
    "name": "ipython",
    "version": 3
   },
   "file_extension": ".py",
   "mimetype": "text/x-python",
   "name": "python",
   "nbconvert_exporter": "python",
   "pygments_lexer": "ipython3",
   "version": "3.9.13"
  },
  "orig_nbformat": 4
 },
 "nbformat": 4,
 "nbformat_minor": 2
}
