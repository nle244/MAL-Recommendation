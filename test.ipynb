{
 "cells": [
  {
   "cell_type": "code",
   "execution_count": 10,
   "metadata": {},
   "outputs": [
    {
     "name": "stdout",
     "output_type": "stream",
     "text": [
      "1\n",
      "['Yamadera Kouichi', 'Hayashibara Megumi', 'Tada Aoi', 'Ishizuka Unshou', 'Yamadera Kouichi', 'Wakamoto Norio', 'Horiuchi Kenyuu', 'Ebara Masashi', 'Takashima Gara', 'Ginga Banjou']\n"
     ]
    }
   ],
   "source": [
    "from textwrap import indent\n",
    "from bs4 import BeautifulSoup\n",
    "from lxml import etree\n",
    "import requests\n",
    "import time\n",
    "from datetime import datetime\n",
    "import re\n",
    "import csv\n",
    "\n",
    "link = 'https://myanimelist.net/anime/1/Cowboy_Bebop'\n",
    "\n",
    "#find the id\n",
    "i = 30\n",
    "id = \"\"\n",
    "while(link[i] != '/'):\n",
    "    id += link[i]\n",
    "    i += 1\n",
    "print(id)\n",
    "\n",
    "html_text = requests.get(link).text\n",
    "soup = BeautifulSoup(html_text, 'lxml')\n",
    "\n",
    "#find release year\n",
    "years = soup.find('span', text = \"Aired:\").next_sibling\n",
    "num = re.findall(r'\\d+', years)\n",
    "num = [int(i) for i in num]\n",
    "for i in num:\n",
    "    if i < 1900:\n",
    "        num.remove(i)\n",
    "year = min(num)\n",
    "\n",
    "#find actors\n",
    "result = []\n",
    "actors = soup.find_all(class_ =\"va-t ar pl4 pr4\")\n",
    "for each in actors:\n",
    "        result.append(each.text.replace('Japanese','').replace(',','').strip('\\n'))\n",
    "print(result)\n",
    "\n",
    "test = ['info1', 'info2']\n",
    "\n",
    "output = [result, test]\n",
    "\n",
    "with open('temp.csv', 'a', encoding='utf-8') as f:\n",
    "        writer = csv.writer(f)\n",
    "        for val in output:\n",
    "            writer.writerow(val)\n",
    "\n",
    "# print(years)"
   ]
  }
 ],
 "metadata": {
  "interpreter": {
   "hash": "494a394416fc38a0524eeecfd5a3146c8efe0a4f4bfa281947c64dc6fd5c7798"
  },
  "kernelspec": {
   "display_name": "Python 3.9.13 64-bit (windows store)",
   "language": "python",
   "name": "python3"
  },
  "language_info": {
   "codemirror_mode": {
    "name": "ipython",
    "version": 3
   },
   "file_extension": ".py",
   "mimetype": "text/x-python",
   "name": "python",
   "nbconvert_exporter": "python",
   "pygments_lexer": "ipython3",
   "version": "3.9.13"
  },
  "orig_nbformat": 4
 },
 "nbformat": 4,
 "nbformat_minor": 2
}
